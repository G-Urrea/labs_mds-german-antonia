{
  "nbformat": 4,
  "nbformat_minor": 0,
  "metadata": {
    "colab": {
      "provenance": []
    },
    "kernelspec": {
      "name": "python3",
      "display_name": "Python 3"
    },
    "language_info": {
      "name": "python"
    }
  },
  "cells": [
    {
      "cell_type": "markdown",
      "source": [
        "<h1><center>Laboratorio 1: Git 👾</center></h1>\n",
        "\n",
        "<center><strong>MDS7202: Laboratorio de Programación Científica para Ciencia de Datos - Otoño 2023</strong></center>"
      ],
      "metadata": {
        "id": "J4_IcuuKZj9Y"
      }
    },
    {
      "cell_type": "markdown",
      "source": [
        "### Cuerpo Docente:\n",
        "\n",
        "- Profesores: Pablo Badilla, Ignacio Meza D.\n",
        "- Auxiliar: Sebastián Tinoco\n",
        "- Ayudante: Diego Cortez"
      ],
      "metadata": {
        "id": "AEXIACc7aADv"
      }
    },
    {
      "cell_type": "markdown",
      "source": [
        "### Equipo: SUPER IMPORTANTE - notebooks sin nombre no serán revisados\n",
        "\n",
        "- Nombre de alumno 1: Germán Urrea\n",
        "- Nombre de alumno 2: Antonia Villegas"
      ],
      "metadata": {
        "id": "0HgMMyoCaG8X"
      }
    },
    {
      "cell_type": "markdown",
      "source": [
        "### **Link de repositorio de GitHub:** `https://github.com/G-Urrea/lab1`"
      ],
      "metadata": {
        "id": "fz77X6glaK6y"
      }
    },
    {
      "cell_type": "markdown",
      "source": [
        "## Reglas:\n",
        "\n",
        "- Fecha de entrega: 6 días desde la publicación, 3 días de atraso con 1 punto de descuento c/u. Pueden utilizar días bonus sin descuento.\n",
        "- **Grupos de 2 personas**.\n",
        "- **Ausentes** deberán realizar la actividad solos. \n",
        "- Cualquier duda fuera del horario de clases al foro. Mensajes al equipo docente serán respondidos por este medio.\n",
        "- <u>Prohibidas las copias</u>. Cualquier intento de copia será debidamente penalizado con el reglamento de la escuela.\n",
        "- Pueden usar cualquer material del curso que estimen conveniente.\n",
        "- Asistencia obligatoria a instrucciones del lab (viernes 16.15). Luego, pueden quedarse trabajando en las salas o irse."
      ],
      "metadata": {
        "id": "rRwqaxIZaNx3"
      }
    },
    {
      "cell_type": "markdown",
      "source": [
        "## Objetivos del lab:\n",
        "\n",
        "\n",
        "- Conocer los elementos básicos que conformar `Git`\n",
        "- Clonar repositorios\n",
        "- Identificar ramas de un repositorio\n",
        "- Reconocer y solucionar problemas entre ramas\n",
        "- Subir cambios a un repositorio"
      ],
      "metadata": {
        "id": "bmToL27JaSrf"
      }
    },
    {
      "cell_type": "markdown",
      "source": [
        "## Parte 1: Conocimiento Teórico (2 pts)"
      ],
      "metadata": {
        "id": "bvnPCvrVbJLK"
      }
    },
    {
      "cell_type": "markdown",
      "source": [
        "Responda las siguientes preguntas (0.2 pts c/u):\n",
        "\n",
        "1. ¿Qué es `Git` y cómo se relaciona con el control de versiones?\n",
        "\n",
        "2. Nombre y explique 3 diferencias entre `Git` y `Github`.\n",
        "\n",
        "3. ¿Qué es un `hash` y cómo se representa en un `commit`? De un ejemplo.\n",
        "\n",
        "4. ¿Que elementos componen a la estructura de datos de `Git`?\n",
        "\n",
        "5. ¿Que comandos de `Git` sirven para crear un repositorio y hacer seguimiento a cambios en los archivos?"
      ],
      "metadata": {
        "id": "JHl-24XnbNLF"
      }
    },
    {
      "cell_type": "markdown",
      "source": [
        "<code>Escriba sus respuestas acá:</code>\n",
        "\n",
        "1. Git es un sistema de control de versiones distribuido open source. En palabras simples que significa que un clon local del proyecto es un repositorio de control de versiones completo, estos repositorios locales plenamente funcionales permiten trabajar sin conexión o de forma remota con facilidad.\n",
        "2. Git y GitHub son dos entidades diferentes que te ayudan a administrar y alojar archivos. En otras palabras Git sirve para controlar las versiones de los archivos mientras que GitHub es una plataforma para alojar tus repositorios Git.\n",
        "3. Un hash es un valor alfanúmerico que suele usarse como llave para identificar valores, en el caso de `git` se usa el método **SHA1** para identificar `commits`.\n",
        "4. En git se utilizanlos siguientes objetos:\n",
        "- **Blobs**: Es la unidad básica de almacenamiento para archivos.\n",
        "- **Tree**: Objeto que representa directorios, ya sea de blobs u otros trees\n",
        "- **Commits**: Objeto que representa una snapshot tanto de la jerarquía (tree) como del contenido de los archivos (blobs) de un repositorio.\n",
        "5. \n",
        "- `git init`: crea un nuevo repositorio de Git. Puede utilizarse para convertir un proyecto existente y sin versión en un repositorio de Git, o para inicializar un nuevo repositorio vacío.\n",
        "- `git add`: añade contenido del directorio de trabajo al área de ensayo (staging area o 'index') para la próxima confirmación.\n",
        "- `git status`: te mostrará los diferentes estados de los archivos en un directorio de trabajo y área de ensayo, qué archivos están modificados y sin seguimiento y cuáles con seguimiento pero no confirmados aún. En su forma normal, también mostrará algunos consejos básicos sobre cómo mover archivos entre estas etapas.\n"
      ],
      "metadata": {
        "id": "2tXCSkf0caG8"
      }
    },
    {
      "cell_type": "markdown",
      "source": [
        "Responda si las siguientes afirmaciones son Verdaderas (V) o Falsas (F). Justifique en **cualquiera** de los casos (0.2 pts c/u):\n",
        "\n",
        "\n",
        "6. `Git` siempre resuelve automáticamente los problemas de lineas al hacer merge entre diferentes ramas.\n",
        "7. Ejecutar `git pull` sobre un repositorio es equivalente a ejecutar `git clone`.\n",
        "8. Cada miembro del equipo trabaja en la misma copia del código fuente usando `Git`.\n",
        "9. En `Git` es posible deshacer cambios y volver a versiones anteriores del código.\n",
        "10. El comando `git commit` se utiliza para enviar cambios al repositorio remoto."
      ],
      "metadata": {
        "id": "MACccbP4gU43"
      }
    },
    {
      "cell_type": "markdown",
      "source": [
        "<code>Escriba sus respuestas acá:</code>\n",
        "\n",
        "6. Falso. En algunos casos los conflictos de merge deben ser solucionados de forma manual.\n",
        "7. Falso. `git clone` copia todo desde cero, mientras que con `pull` actualizas tu repositorio local con los commits más recientes mientras conservas los commits locales. Un detalle adicional es que con `pull` puedes tener conflictos entre commits locales y remotos, mientras que clonando no ocurre esto (porque copias todo desde cero).\n",
        "8. Verdadero. Considerando que copia significa copia del repositorio y no trabajar simultáneamente en el mismo código a la vez, cuando se hacen modificaciones en el trabajo se añaden los cambios al repositorio con git add y git commit correspondiente. Antes de añadir cualquier modificación nueva, siempre hay que verificar que no hay ningún cambio más actualizado en el repositorio remoto. Para esto, se puede utilizar el comando git pull. Es por lo anterior que sí se pueden 2 usuarios trabajar en el mismo archivo, se debe clonar el repositorio de github en ambos ordenadores y mantener actualizado ambos repositorios locales.\n",
        "\n",
        "9. Verdadero. Una forma de lograrlo es con `git revert`\n",
        "10. Falso. `git commit` ejecuta cambios locales, para enviar cualquier cambio con un commit previo al repositorio remoto se debe usar `git push`"
      ],
      "metadata": {
        "id": "DFnmCToOgeM3"
      }
    },
    {
      "cell_type": "markdown",
      "source": [
        "## Parte 2: Creando una presentación personal (2 pts)"
      ],
      "metadata": {
        "id": "i7Em9JkbbRLo"
      }
    },
    {
      "cell_type": "markdown",
      "source": [
        "Para empezar a \"*soltar las manos*\" con `Git`, se les encomienda crear un repositorio con una presentación personal. El repositorio debe contener un breve resumen de quienes son ustedes, sus gustos, experiencias, y cualquier otro detalle interesante que ustedes consideren relevante. \n",
        "\n",
        "Para realizar esto, deben seguir los siguientes pasos:\n",
        "\n",
        "1. Contar con una cuenta de github (1 por persona)\n",
        "2. Crear un repositorio con su nombre de usuario\n",
        "3. Crear y modificar un archivo `readme.md` con la información que ustedes deseen compartir.\n",
        "\n",
        "A modo de ejemplo, pueden guiarse por esta *suculenta* [presentación](https://github.com/pbadillatorrealba/pbadillatorrealba).\n",
        "\n",
        "*Hint: Una buena opción es usar templates de presentación personal que encuentren en Google, como los que ofrece este [sitio](https://durgeshsamariya.github.io/awesome-github-profile-readme-templates/#/)*.\n",
        "\n",
        "**Entregable:**\n",
        "\n",
        "Enlace al repositorio con la presentación personal. \n",
        "\n",
        "IMPORTANTE: DEBEN ADJUNTAR UN ENLACE POR PERSONA"
      ],
      "metadata": {
        "id": "XWIHfyrlbYOJ"
      }
    },
    {
      "cell_type": "markdown",
      "source": [
        "<code>Link Presentacion 1: https://github.com/G-Urrea/g-urrea</code>\n",
        "\n",
        "<code>Link Presentacion 2: https://github.com/AntoniaVillegasH/Acerca_de_mi.git</code>"
      ],
      "metadata": {
        "id": "IIkWyl9tf0Sg"
      }
    },
    {
      "cell_type": "markdown",
      "source": [
        "## Parte 3: Trabajando sobre un repositorio externo (2 pts)"
      ],
      "metadata": {
        "id": "CAzXOwvDY-IG"
      }
    },
    {
      "cell_type": "markdown",
      "source": [
        "Tras muchos dolores de cabeza, un grupo de entusiastas académicos decidieron aprender sobre `Git` y así trabajar colaborativamente de forma más ordenada y eficiente. Después de una infinidad de intentos y aprender de sus errores \"*a la mala*\", los académicos lograron levantar un [repositorio](https://github.com/MDS7202/lab1) en `Github`. Usando el repositorio de los académicos, responda las siguientes preguntas (incluya también los comandos en `Git` ocupados):"
      ],
      "metadata": {
        "id": "84Yjuxxvdfzh"
      }
    },
    {
      "cell_type": "markdown",
      "source": [
        "1. Clone el repositorio a su ambiente local. (0.25 pts)"
      ],
      "metadata": {
        "id": "BFRnAw0rfguR"
      }
    },
    {
      "cell_type": "markdown",
      "source": [
        "<code>Escriba sus respuestas acá:</code>\n",
        "- Primero hay que entrar al directorio en el que se quiere trabajar:\n",
        "<code> cd path/to </code>\n",
        "- Luego se clona usando el comando `git clone` :\n",
        "<code> git clone https://github.com/MDS7202/lab1</code>"
      ],
      "metadata": {
        "id": "KXro32yBeilN"
      }
    },
    {
      "cell_type": "markdown",
      "source": [
        "2. Inspeccione brevemente el repositorio: ¿Cual es el objetivo del proyecto? Explique brevemente la estructura del proyecto, asi como también de cada componente que lo conforma. (0.25 pts)\n"
      ],
      "metadata": {
        "id": "q2qmiDyjt2M_"
      }
    },
    {
      "cell_type": "markdown",
      "source": [
        "<code>Escriba sus respuestas acá:\n",
        "</code>\n",
        "- El objetivo del proyecto es generar un software capaz de emular los sonidos de animales\n",
        "- El proyecto posee 3 archivos principales. El archivo `animales.py` define las funciones principales del software, el archivo `main.py` es el ejecutable principal del proyecto y el archivo `readme.md` posee la documentación del proyecto."
      ],
      "metadata": {
        "id": "aBHpR8VTftkT"
      }
    },
    {
      "cell_type": "markdown",
      "source": [
        "3. Identifique los últimos cambios al repositorio, reconociendo las principales ramas de trabajo. ¿Son informativos los `commit` realizados? (0.25 pts)\n",
        "*Hint: Se recomienda usar los argumentos `all`, `graph` y `decorate`*"
      ],
      "metadata": {
        "id": "XFwqcpLZfylf"
      }
    },
    {
      "cell_type": "markdown",
      "source": [
        "<code>Escriba sus respuestas acá:</code>\n",
        "Se utilizan los siguientes comandos:\n",
        "- `git log --all`\n",
        "- `git log --graph`\n",
        "- `git log --decorate`\n",
        "\n",
        "Para la rama principal: En un principio se tenía solamente el archivo main junto al readme, posteriormente se añadio la función principal al archivo main. Estas dos acciones fueron realizadas por el usuario \"seba\". El cambio más reciente fue realizado por el usuario \"mezosky\" en donde separo la funcionalidad principal del archivo main y la trasladó a un modulo aparte.\n",
        "\n",
        "El cambio más reciente se encuentra en la rama `fix-ifs` por Pablo Badilla.\n",
        "Además existe la rama `new_features`, en donde se implementaron las funcionalidades previamente a publicarlas en la rama `main`\n",
        "\n",
        "Respecto a los commits, los de \"seba\" no son muy informativos, pues no describen suficiente que es lo que se realiza, mientras que los de \"mezosky\" son bien informativos.\n"
      ],
      "metadata": {
        "id": "cmWfXBkOhog0"
      }
    },
    {
      "cell_type": "markdown",
      "source": [
        "4. Uno de los académicos se da cuenta que la rama principal de trabajo no se ejecuta correctamente para todos los argumentos. Señale el error en el código e identifique a la persona que lo cometió usando `git blame` (0.25 pts)\n",
        "\n",
        "*Hint: Le puede ser útil esta [documentación](https://www.atlassian.com/es/git/tutorials/inspecting-a-repository/git-blame).*"
      ],
      "metadata": {
        "id": "Vqbj9HdXrUnN"
      }
    },
    {
      "cell_type": "markdown",
      "source": [
        "<code>Escriba sus respuestas acá:</code>\n",
        "\n",
        "Se utilizan los comandos:\n",
        "-  `git blame animales.py`\n",
        "-  `git blame main.py`\n",
        "\n",
        "Según los resultados de `git blame` la culpa sería de mezosky, dado que el error se encuentra en el archivo  `animales.py`. Si juntamos esta información con los logs, la culpa es realmente de \"seba\", ya que mezosky simplemente movió las líneas de código a otro archivo."
      ],
      "metadata": {
        "id": "5ajhV2Iar3tV"
      }
    },
    {
      "cell_type": "markdown",
      "source": [
        "5. Busque los siguientes `commit`:\n",
        "\n",
        "- `c8b1a62d7299552b0654f930d695b33109214111`\n",
        "- `362fe21ee44f53ee944cee4ba484600308f83d78`\n",
        "- `25543a3baf77292baf849726784ca005473acab1`\n",
        "\n",
        "¿Qué diferencias existen entre cada uno? (0.25 pts)"
      ],
      "metadata": {
        "id": "m8J3uE7MhqTA"
      }
    },
    {
      "cell_type": "markdown",
      "source": [
        "<code>Escriba sus respuestas acá:</code>\n",
        "\n",
        "Para encontrar el mensaje asociado a cada hash se usa: `git show <hash>`, con `<hash>` siendo reemplazado por el hash del commit correspondiente.\n",
        "\n",
        "- El primer commit fue realizado por \"seba\", definiendo la función animales en main.py\n",
        "- El segundo commit fue realizado por \"mezosky\", en donde movió en código de la función \"animales\" a el archivo `animales.py`\n",
        "- El tercer commit fue realizado por Pablo Badilla, en donde arreglo el bug de la función animales, en  el archivo `main.py` (osea que fue realizado en una versión desactualizada de la rama main)."
      ],
      "metadata": {
        "id": "sNHnZsgIitGh"
      }
    },
    {
      "cell_type": "markdown",
      "source": [
        "6. Realice una `merge` de la rama `fix-ifs` con la rama `main` y describa lo que ocurre. ¿Qué parte del código podría estar ocasionando esto? (0.25 pts)"
      ],
      "metadata": {
        "id": "WQIPbfNCgpxC"
      }
    },
    {
      "cell_type": "markdown",
      "source": [
        "<code>Escriba sus respuestas acá:</code>\n",
        "\n",
        "Se utiliza el comando: `git merge origin/fix-ifs origin/main` \n",
        "\n",
        "Ocurre conflicto con el merge automatico, especificamente con el archivo `main.py`. La parte de código que ocasiona este conflicto sería la función animales que se encuentra en el archivo `main.py` de la rama `fix-ifs`, pues esas líneas de código fueron movidas y reemplazadas por un import en la rama principal."
      ],
      "metadata": {
        "id": "ypH_6lL5ioZz"
      }
    },
    {
      "cell_type": "markdown",
      "source": [
        "7. Cree una rama nueva y proponga una solución al problema anterior, adjuntando el código corregido y señalando las líneas modificadas. (0.5 pts)"
      ],
      "metadata": {
        "id": "GYfODCjeivkU"
      }
    },
    {
      "cell_type": "markdown",
      "source": [
        "<code>Escriba sus respuestas acá:</code>\n",
        "\n",
        "Dado que el objetivo principal es solucionar el bug en la función `animales`, la forma más directa de solucionar el bug sería aplicar los cambios realizados en la rama `fix-ifs` de forma directa en el archivo `animales.py`. Para ello:\n",
        "- Se crea la rama `fix` con el comando: `git branch fix`\n",
        "- Se modifica `animales.py`, especificamente la función `animales`:\n",
        "\n",
        "\n",
        "\n",
        "<code>\n",
        "\n",
        "    # Se modifica esta linea, previamente era un if\n",
        "    elif input.lower() == 'perro':\n",
        "        print('guau')\n",
        "    # También se modifica esta linea, que también era un if \n",
        "    elif input.lower() == 'fox':\n",
        "        print('https://www.youtube.com/watch?v=jofNR_WkoCE')\n",
        "    else:\n",
        "        raise ValueError('animal no reconocido :(')\n",
        "</code>\n",
        "\n",
        "- Posteriormente, basta con realizar un commit de los cambios y realizar un merge de la rama fix en la rama main, utilizando `git chekcout main` y `git merge fix`\n",
        "- Por último, se pueden publicar los cambios con un push\n",
        "\n",
        "Los cambios realizados se encuentran en `https://github.com/G-Urrea/lab1/tree/fix`"
      ],
      "metadata": {
        "id": "8heBxDU9iziT"
      }
    },
    {
      "cell_type": "markdown",
      "source": [
        "## Fin"
      ],
      "metadata": {
        "id": "Av8ebB9jkALO"
      }
    },
    {
      "cell_type": "markdown",
      "source": [
        "Eso ha sido todo por ahora!! Esperamos que este laboratorio les haya gustado y servido para trabajar con `Git`. Recuerden los dias de plazo que tienen disponibles y que ante cualquier duda no duden en contactar al equipo docente. \n",
        "\n",
        "Nos vemos!! \n",
        "\n",
        "<img src=https://media.tenor.com/OYLdav9k9LkAAAAd/kitty-cat.gif height=300>\n"
      ],
      "metadata": {
        "id": "aQqZT9fSkBK8"
      }
    }
  ]
}