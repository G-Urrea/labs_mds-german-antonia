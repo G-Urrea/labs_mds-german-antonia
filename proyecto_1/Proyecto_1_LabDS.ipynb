{
  "cells": [
    {
      "cell_type": "markdown",
      "id": "78c19fa0-2f05-4339-8a2b-cdc09c68b975",
      "metadata": {
        "id": "78c19fa0-2f05-4339-8a2b-cdc09c68b975"
      },
      "source": [
        "![](https://www.dii.uchile.cl/wp-content/uploads/2021/06/Magi%CC%81ster-en-Ciencia-de-Datos.png)"
      ]
    },
    {
      "cell_type": "markdown",
      "id": "3a560a74",
      "metadata": {
        "cell_id": "00000-f53914fc-294a-4bd9-ab99-c7f9f7e072d9",
        "deepnote_cell_type": "markdown",
        "id": "3a560a74"
      },
      "source": [
        "# Proyecto: Innovación Tecnológica en Bodoque Bank\n",
        "\n",
        "**MDS7202: Laboratorio de Programación Científica para Ciencia de Datos**\n",
        "\n",
        "### Cuerpo Docente:\n",
        "\n",
        "- Profesor: Pablo Badilla, Ignacio Meza De La Jara\n",
        "- Auxiliar: Sebastián Tinoco\n",
        "- Ayudante: Diego Cortez M., Felipe Arias T.\n",
        "\n",
        "*Por favor, lean detalladamente las instrucciones de la tarea antes de empezar a escribir.*\n"
      ]
    },
    {
      "cell_type": "markdown",
      "id": "59ff9d5b",
      "metadata": {
        "cell_id": "00001-7e639802-19f7-4bbe-9a97-e312f613a693",
        "deepnote_cell_type": "markdown",
        "id": "59ff9d5b"
      },
      "source": [
        "----\n",
        "\n",
        "## Reglas\n",
        "\n",
        "- Fecha de entrega: 01/06/2021\n",
        "- **Grupos de 2 personas.**\n",
        "- Cualquier duda fuera del horario de clases al foro. Mensajes al equipo docente serán respondidos por este medio.\n",
        "- Estrictamente prohibida la copia. \n",
        "- Pueden usar cualquier material del curso que estimen conveniente."
      ]
    },
    {
      "cell_type": "markdown",
      "id": "b020ce37",
      "metadata": {
        "cell_id": "00002-bf13ea5a-d8bf-4cee-879e-ba1c7035e657",
        "deepnote_cell_type": "markdown",
        "id": "b020ce37"
      },
      "source": [
        "# Motivación\n",
        "\n",
        "![](https://www.geekmi.news/__export/1621969098810/sites/debate/img/2021/05/25/juan-carlos-bodoque-1.jpg_554688468.jpg)\n",
        "\n",
        "Juan Carlos Bodoque, el famoso periodista y empresario, decidió diversificar su portafolio de negocios y crear su propio banco. Después de varios años de investigar y analizar el mercado financiero, finalmente logró fundar su entidad bancaria con el objetivo de ofrecer a sus clientes una experiencia personalizada y confiable en sus transacciones financieras. \n",
        "\n",
        "Sin embargo, con las nuevas tecnologías, aparecen nuevos desafíos para la joven entidad bancaria. Por ello, Bodoque decide invertir en un equipo de expertos en tecnología y finanzas, para que Bodoque Bank implemente las últimas innovaciones en seguridad y servicio al cliente para garantizar la satisfacción y fidelización de sus clientes.\n",
        "\n",
        "El primer objetivo de la entidad bancaria será la detección de potenciales clientes fraudulentos, para ello Bodoque Bank les hace entrega de un extenso dataset en el que se registran las actividades que han realizado sus clientes durante los últimos meses. Uno de los puntos que resaltan al pasar el conjunto de datos es que el nombre de los usuarios está protegido y que consideren cada una de las filas como una muestra independiente de la otra.\n",
        "\n",
        "Tras la solicitud, uno de los mayores accionistas del banco llamado Mario Hugo, les sugiere que al momento de realizar el proyecto tomen las siguientes consideraciones:\n",
        "\n",
        "- Realicen un análisis exhaustivo de cada variable, ya que los directores tienden a ser quisquillosos con puntos o definiciones sin algún fundamento claro.\n",
        "- Deben ser muy claros de cómo encontrar los outliers y si es posible expliquen cómo están determinando que un cliente es fraudulento.\n",
        "- Es muy probable que existan clientes con diferentes comportamientos bancarios, por lo que sería muy buena decisión de separar a los clientes en grupos etarios.\n"
      ]
    },
    {
      "cell_type": "markdown",
      "id": "1223ca1b",
      "metadata": {
        "cell_id": "00003-a5045731-0c9e-47a1-ae7b-243d8603e70b",
        "deepnote_cell_type": "markdown",
        "tags": [],
        "id": "1223ca1b"
      },
      "source": [
        "### Definición Formal del Problema\n",
        "\n",
        "El dataset con el que se trabajará en este primer proyecto será [_The Bank Account Fraud (BAF)_](https://www.kaggle.com/datasets/sgpjesus/bank-account-fraud-dataset-neurips-2022). Este consiste en un dataset para evaluar métodos de detección de fraudes bancarios, el cuál según sus autores es:\n",
        "\n",
        "- Realista: Se basa en un actualizado dataset de casos reales de detección de fraude bancario.\n",
        "- Sesgado: Poseen distintos tipos de bias.\n",
        "- Desbalanceado: Clase positiva extremadamente pequeña.\n",
        "- Dinámico: Presenta datos temporales y cambios de distribución.\n",
        "- Preserva la privacidad: Protege a los potenciales clientes a través de la aplicación de privacidad diferencial.\n",
        "\n",
        "El proyecto tiene por objetivo evaluar los conocimientos adquiridos en la primera mitad del curso, consistente en manejo de datos tabulares (I/O, manipulación, agregaciones, merge y visualizaciones) más la primera parte de modelos consistente en preprocesamiento de datos y detección de anomalías. Por ende, el proyecto consiste en dos tareas principales:\n",
        "\n",
        "1. Generar un Análisis exploratorio de Datos (EDA) que describa completamente el dataset.\n",
        "2. Buscar anomalías de forma automatizada.\n",
        "\n",
        "**Importante:** Esta permitido el uso de librerías externas a las vistas en clases para profundizar aún mas en los análisis. Sin embargo, al momento de utilizar cualqueir metodo deberán explicar que hace y el porque de su aplicación.\n"
      ]
    },
    {
      "cell_type": "markdown",
      "id": "f4771943",
      "metadata": {
        "cell_id": "00003-3cb3d532-0223-4021-869f-4b03ea06b875",
        "deepnote_cell_type": "markdown",
        "id": "f4771943"
      },
      "source": [
        "---\n",
        "\n",
        "## Secciones requeridas en la entrega\n",
        "\n",
        "La siguiente lista detalla las secciones que debe contener su notebook para resolver el proyecto. Es importante que al momento de desarrollar cada una de las secciones, estas sean escritas en un formato tipo **informe**, donde describan detalladamente cada uno de los puntos realizados.\n",
        "\n",
        "### 1. Introducción [0.5 Puntos]\n",
        "\n",
        "Elaborar una breve introducción con todo lo necesario para entender qué realizarán durante su proyecto. La idea es que describan de manera formal el proyecto con sus propias palabras y logren describir algunos aspectos básicos tanto del dataset como del análisis a realizar sobre los datos.\n",
        "\n",
        "Por lo anterior, en esta sección ustedes deberán ser capaces de:\n",
        "\n",
        "- Describir la tarea asociada al dataset.\n",
        "- Describir brevemente los datos de entrada que les provee el problema.\n",
        "- Plantear hipótesis de cómo podrían abordar el problema.\n",
        "\n",
        "### 2. Lectura y Manejo de Datos [1 Punto]\n",
        "\n",
        "Este punto tiene por objetivo evaluar la capacidad de leer y manejar distintas fuentes de datos y unirlas.\n",
        "Para esto, se les provee de 3 datasets distintos: \n",
        "\n",
        "- `df_1.parquet` que contiene una cierta cantidad de ejemplos.\n",
        "- `df_2.parquet` que contiene el resto de los ejemplos.\n",
        "- `df_email_phone.parquet` que contiene características exclusivas relacionadas a los emails y teléfonos de los ejemplos.\n",
        "\n",
        "Tanto `df_1` como `df_2` son dataframes que contienen conjuntos (no necesariamente disjuntos) de ejemplos obtenidos a partir de distintas fuentes (la primera más confiable que la segunda)  mientras que `df_email_phone` contiene nuevas características que deben ser fusionadas con el conjunto de ejemplos.\n",
        "Dicho esto, para este punto se le solicita:\n",
        "\n",
        "1. Cargar los datasets usando pandas.\n",
        "2. Explorar superficialmente los datsets por medio de `.head(5)` e `.info()` y reportar número de filas y columnas de cada dataset.\n",
        "3. Unir los datasets con los conjuntos de ejemplos en un único dataset.\n",
        "4. Combinar el datasets con ejemplos con las nuevas características usando la estrategia `outer`.\n",
        "5. Explorar nulos y duplicados de datos (i.e., generar conteos de cada uno y ver algunos de sus ejemplos), explicar su origen y entregar una solución sencilla a estos casos.\n",
        "6. Limpiar datos y reportar modificaciones a los datasets originales (cuántos ejemplos se eliminaron, cuántos ejemplos quedaron finalmente, etc...).\n",
        "7. Realizar una segmentación etaria de los datos creando una columna llamada `segmentacion_etaria` para clasificar a los diferentes usuarios. Para la segmentación utilice los siguientes rangos:\n",
        "   - Joven (Menor a 18 años)\n",
        "   - Adulto-Joven (18 - 26 años)\n",
        "   - Adulto (27- 59 años)\n",
        "   - Persona Mayor (60 años o mas).\n",
        "\n",
        "\n",
        "### 3. Análisis Exploratorio de Datos [1 Punto]\n",
        "\n",
        "Esta sección se busca evaluar la capacidad de generar reportes y conclusiones a partir de los patrones observados en estos.\n",
        "\n",
        "- Utilizando `pandas-profiling` (nombre de la librería: `ydata-profiling`), explore:\n",
        "\n",
        "    * Analizar cantidad de datos nulos, tipos de datos, duplicados, distribuciones de las variables a través de histogramas.\n",
        "    * Generar visualizaciones de las interacciones (como por ejemplo, una scatter matrix) en las distintas variables.\n",
        "    * Ver las correlaciones entre las distintas variables y los valores faltantes de cada una de estas. \n",
        "    * Reportar los patrones interesantes observados. Ejemplos:\n",
        "        - Se observó que las variables numéricas A, B y C siguen una distribución normal / exponencial / logarítmica / no presenta distribución conocida debido a que (usar información sobre el descripción de cada variable)....\n",
        "        - La mayoría de los ejemplos de las variables I, J y K tienen valor 0.\n",
        "        - La variable M presenta gran cantidad de outliers.\n",
        "        - Se observó que las variables categóricas E y F están bien balanceadas / presentan un gran desbalance.\n",
        "        - Del gráfico de correlaciones se puede inferir que X, Y y Z tienen una correlación alta/baja entre ellas.\n",
        "\n",
        "\n",
        "\n",
        "### 4. Preparación de Datos [1 Punto]\n",
        "\n",
        "*Esta sección consiste en generar los distintos pasos para preparar sus datos con el fin de luego poder crear su modelo.*\n",
        "\n",
        "Dentro de los aspectos minimos que se les solicitarán en este desarrollo estan:\n",
        "\n",
        "- Definir preprocesadores para datos categóricos y ordinales.\n",
        "- Setear las transformaciones en un `ColumnTransformer`.\n",
        "- Transformar todo el datset.\n",
        "\n",
        "**Notas**: \n",
        "\n",
        "- Las variables `id` y `fraud_bool` no deben ser transformadas, pero si pasadas a la siguiente etapa. (Estudiar la transformación `passthrough`).\n",
        "- La salida de la transformación debe ser un pandas dataframe. Para esto, investiguen acerca de la nueva [`set_output` API](https://scikit-learn.org/stable/auto_examples/miscellaneous/plot_set_output.html). Si se levanta un error por matriz sparse, desactiven su uso en la transformación correspondiente.\n",
        "\n",
        "### 5. Visualización en baja dimensionalidad [1 Punto]\n",
        "\n",
        "Programar un script para proyectar los datos en baja dimensionalidad usando `PCA` o `UMAP`.\n",
        "\n",
        "**Notas**: \n",
        "\n",
        "- Para realizar las proyecciones no consideren la variable `fraud_bool`, ya que esto provocaría un _data leakage_ (i.e., usar información del futuro para analizar el mismo fenómeno que quieren descubrir).\n",
        "- Utilice un muestreo significativo del dataframe (10k a 25k ejemplos) para generar las proyecciones. De lo contrario, probablemente el proyector no sea capaz de asignar todos los recursos necesarios y lance alguna excepción.\n",
        "\n",
        "Luego, por cada segmento etario generado en la sección 2, implemente un gráfico de dispersión (idealmente en plotly express) la proyección en 2D generada y coloree cada punto según la etiqueta `fraud_bool`.\n",
        "\n",
        "Reportar si existen patrones y/o relaciones interesantes con respecto a variables de interés.\n",
        "\n",
        "\n",
        "### 6. Explorar Anomalías [1.5 Puntos]\n",
        "\n",
        "Proponer una técnica para detectar clientes fraudulentos en base a detección de anomalías. \n",
        "Al igual que el punto anterior, la técnica que proponga debe ser aplicada por separado en los diferentes segmentos etarios descritos en el punto 2 (es decir, debe entrenar un detector de anomalías para cada uno de estos grupos). \n",
        "\n",
        "Luego, al igual que el punto anterior, genere un gráfico de dispersión con las proyecciones 2D en donde el coloreado sea ahora las etiquetas predichas por el detector de anomalías.\n",
        "\n",
        "Por último, usando queries de numpy/pandas, calcule dos ratios (P y R):\n",
        "\n",
        "- P: Cantidad de ejemplos predichos correctamente como fraude / cantidad total de datos predichos como fraude.\n",
        "- R: Cantidad de ejemplos predichos correctamente como fraude / cantidad total de ejemplos que eran realmente fraude.\n",
        "\n",
        "\n",
        "De los resultados obtenidos responda las siguientes preguntas:\n",
        "\n",
        "- ¿Qué significan los ratios y sus valores?\n",
        "- ¿Qué tan correctas fueron las predicciones realizadas por su modelo según los ratios calculados?\n",
        "- ¿Son coherentes los resultados obtenidos?.\n",
        "- ¿Cómo se comportan los casos de fraudes para los diferentes rangos etarios?\n",
        "\n",
        "Justifique cada una de sus respuestas."
      ]
    },
    {
      "cell_type": "markdown",
      "id": "9b045cec",
      "metadata": {
        "cell_id": "00004-2c33dfb6-7731-4252-a108-cec08f45ddf9",
        "deepnote_cell_type": "markdown",
        "id": "9b045cec"
      },
      "source": [
        "---\n",
        "\n",
        "## Esquema de la Tarea\n",
        "\n",
        "\n",
        "Pueden usar el siguiente esquema para organizar la tarea (y borrar todo lo anterior).\n",
        "Obviamente **no deben limitarse a lo que está escrito en esta**: puede incrementar en caso de más técnicas y obviar algunas partes en caso que alguna y otro punto no aplique a su problema.\n",
        "\n",
        "Pueden borrar las instrucciones anteriores y quedarse solo con lo que viene a continuación.\n",
        "\n",
        "---\n",
        "<br>\n",
        "\n",
        "<br>\n",
        "\n",
        "<br>"
      ]
    },
    {
      "cell_type": "markdown",
      "id": "d8c982ca",
      "metadata": {
        "cell_id": "00005-7921fb53-59e9-49a1-a5a5-dec92da88299",
        "deepnote_cell_type": "markdown",
        "tags": [],
        "id": "d8c982ca"
      },
      "source": [
        "\n",
        "\n",
        "# Proyecto\n",
        "\n",
        "### Equipo:\n",
        "\n",
        "- Germán Urrea\n",
        "- Antonia Villegas\n",
        "\n",
        "\n",
        "### Link de repositorio de GitHub: `\\<http://....\\>`\n",
        "\n"
      ]
    },
    {
      "cell_type": "markdown",
      "id": "046cceb7",
      "metadata": {
        "cell_id": "00006-200f2a79-7517-4226-8a5b-438553fa1b13",
        "deepnote_cell_type": "markdown",
        "id": "046cceb7"
      },
      "source": [
        "\n",
        "## 1. Introducción\n"
      ]
    },
    {
      "cell_type": "markdown",
      "source": [
        "*Introducción callampa, se puede expandir o cambiar (pero ser breve iwi)*"
      ],
      "metadata": {
        "id": "TRd-utb47PnU"
      },
      "id": "TRd-utb47PnU"
    },
    {
      "cell_type": "markdown",
      "source": [
        "El banco **Bodoque Bank**, del famoso empresario Juan Carlos Bodoque, quiere detectar a posibles clientes fraudulentos. Es por esta razón que proporciona un dataset con información sobre sus clientes y su actividad bancaria reciente, sin exponer ningún tipo de información personal delicada de forma explicita.\n",
        "\n",
        "Los datos de entrada se dividen entre 3 archivos. Dos de de estos archivos contienen el mismo tipo de información, correspondiente a caracteristicas generales de los clientes y su actividad bancaria. El tercer archivo contiene datos sobre la información de contacto de los clientes.\n",
        "\n",
        "Para abordar este problema primero hay que unificar los archivos y limpiar los datos para crear una base de datos apta para el trabajo. Posteriormente se debe realizar una exploración y comprensión sobre los datos, para poder identificar las variables relevantes en la detección de fraude, así como encontrar posibles tendencias en los datos. Por último, a partir del paso anterior, se deberían definir indicadores relevantes para sospechar de un cliente por posible fraude bancario."
      ],
      "metadata": {
        "id": "SR87FlnP3rh2"
      },
      "id": "SR87FlnP3rh2"
    },
    {
      "cell_type": "markdown",
      "id": "720c912c-e759-4258-8085-5b3a0f4a3027",
      "metadata": {
        "jp-MarkdownHeadingCollapsed": true,
        "tags": [],
        "id": "720c912c-e759-4258-8085-5b3a0f4a3027"
      },
      "source": [
        "## 2. Lectura y Manejo de Datos\n",
        "\n",
        "\n"
      ]
    },
    {
      "cell_type": "markdown",
      "id": "3c72c649-c228-43dd-adfd-16e3896203f3",
      "metadata": {
        "id": "3c72c649-c228-43dd-adfd-16e3896203f3"
      },
      "source": [
        "### 2.1 Cargar datos en dataframes"
      ]
    },
    {
      "cell_type": "code",
      "execution_count": 44,
      "id": "74ce9ab5",
      "metadata": {
        "vscode": {
          "languageId": "plaintext"
        },
        "id": "74ce9ab5"
      },
      "outputs": [],
      "source": [
        "import pandas as pd\n",
        "from IPython.display import display"
      ]
    },
    {
      "cell_type": "markdown",
      "source": [
        "El primer paso es leer los datos, para ello de opta por leer los datos directamente desde su fuente en internet y cargarlos en dataframes."
      ],
      "metadata": {
        "id": "dhsFCY6zy8FO"
      },
      "id": "dhsFCY6zy8FO"
    },
    {
      "cell_type": "code",
      "source": [
        "# To do: Código para descargar datos si no se encuentran en local (y así no leer desde internet a cada rato (?))\n",
        "# Obtener datos directamente de repos\n",
        "df_1 = pd.read_parquet('https://gitlab.com/imezadelajara/datos_proyecto_1_mds7202/-/raw/main/df_1.parquet')\n",
        "df_2 = pd.read_parquet('https://gitlab.com/imezadelajara/datos_proyecto_1_mds7202/-/raw/main/df_2.parquet')\n",
        "df_email_phone = pd.read_parquet('https://gitlab.com/imezadelajara/datos_proyecto_1_mds7202/-/raw/main/df_email_phone.parquet')"
      ],
      "metadata": {
        "id": "AIuCKeM7avbZ"
      },
      "id": "AIuCKeM7avbZ",
      "execution_count": 5,
      "outputs": []
    },
    {
      "cell_type": "markdown",
      "id": "e6af3714-cc14-495a-8757-115e7cde7d31",
      "metadata": {
        "id": "e6af3714-cc14-495a-8757-115e7cde7d31"
      },
      "source": [
        "### 2.2 Exploración inicial"
      ]
    },
    {
      "cell_type": "markdown",
      "source": [
        "Una vez cargados los datos en dataframes, se procede a realizar una exploración superficial de estos. La exploración consiste principalmente en revisar las columnas, número de entradas, y una pequeña muestra de cada dataframe."
      ],
      "metadata": {
        "id": "Ab1uAAqNzeQJ"
      },
      "id": "Ab1uAAqNzeQJ"
    },
    {
      "cell_type": "code",
      "execution_count": 11,
      "id": "8469fe2a",
      "metadata": {
        "vscode": {
          "languageId": "plaintext"
        },
        "colab": {
          "base_uri": "https://localhost:8080/",
          "height": 969
        },
        "id": "8469fe2a",
        "outputId": "88e68273-9b46-4eaa-8ea5-6cf864d27a93"
      },
      "outputs": [
        {
          "output_type": "stream",
          "name": "stdout",
          "text": [
            "<class 'pandas.core.frame.DataFrame'>\n",
            "Int64Index: 389782 entries, 104446 to 193209\n",
            "Data columns (total 29 columns):\n",
            " #   Column                        Non-Null Count   Dtype  \n",
            "---  ------                        --------------   -----  \n",
            " 0   id                            389782 non-null  int64  \n",
            " 1   fraud_bool                    389782 non-null  int64  \n",
            " 2   income                        389782 non-null  float64\n",
            " 3   prev_address_months_count     389782 non-null  int64  \n",
            " 4   current_address_months_count  389782 non-null  int64  \n",
            " 5   customer_age                  389782 non-null  int64  \n",
            " 6   days_since_request            389782 non-null  float64\n",
            " 7   intended_balcon_amount        389782 non-null  float64\n",
            " 8   payment_type                  389782 non-null  object \n",
            " 9   zip_count_4w                  389782 non-null  int64  \n",
            " 10  velocity_6h                   389782 non-null  float64\n",
            " 11  velocity_24h                  389782 non-null  float64\n",
            " 12  velocity_4w                   389782 non-null  float64\n",
            " 13  bank_branch_count_8w          389782 non-null  int64  \n",
            " 14  employment_status             389782 non-null  object \n",
            " 15  credit_risk_score             389782 non-null  int64  \n",
            " 16  housing_status                389782 non-null  object \n",
            " 17  bank_months_count             389782 non-null  int64  \n",
            " 18  has_other_cards               389782 non-null  int64  \n",
            " 19  proposed_credit_limit         389782 non-null  float64\n",
            " 20  foreign_request               389782 non-null  int64  \n",
            " 21  source                        389782 non-null  object \n",
            " 22  session_length_in_minutes     389782 non-null  float64\n",
            " 23  device_os                     389782 non-null  object \n",
            " 24  keep_alive_session            389782 non-null  int64  \n",
            " 25  device_fraud_count            389782 non-null  int64  \n",
            " 26  month                         389782 non-null  int64  \n",
            " 27  x1                            389782 non-null  float64\n",
            " 28  x2                            389782 non-null  float64\n",
            "dtypes: float64(10), int64(14), object(5)\n",
            "memory usage: 89.2+ MB\n",
            "None\n"
          ]
        },
        {
          "output_type": "execute_result",
          "data": {
            "text/plain": [
              "            id  fraud_bool  income  prev_address_months_count  \\\n",
              "104446  729517           0     0.7                         -1   \n",
              "269483  149585           0     0.8                         -1   \n",
              "4102     64486           0     0.9                         -1   \n",
              "351767  825283           0     0.5                         -1   \n",
              "126377    8308           0     0.9                         -1   \n",
              "\n",
              "        current_address_months_count  customer_age  days_since_request  \\\n",
              "104446                           305            60            0.030059   \n",
              "269483                           140            50            0.015659   \n",
              "4102                             171            50            0.001409   \n",
              "351767                            85            30            0.027292   \n",
              "126377                            39            30            0.010945   \n",
              "\n",
              "        intended_balcon_amount payment_type  zip_count_4w  ...  \\\n",
              "104446               -1.599455           AC           990  ...   \n",
              "269483                3.951994           AA          1269  ...   \n",
              "4102                 28.159779           AB          4430  ...   \n",
              "351767               -1.310498           AB          1698  ...   \n",
              "126377               -1.450972           AC           569  ...   \n",
              "\n",
              "        proposed_credit_limit  foreign_request    source  \\\n",
              "104446                  500.0                0  INTERNET   \n",
              "269483                  200.0                0  INTERNET   \n",
              "4102                   1500.0                0  INTERNET   \n",
              "351767                  200.0                0  INTERNET   \n",
              "126377                  200.0                0  INTERNET   \n",
              "\n",
              "        session_length_in_minutes device_os  keep_alive_session  \\\n",
              "104446                   8.865992   windows                   0   \n",
              "269483                   4.654872     linux                   1   \n",
              "4102                     3.720953     linux                   1   \n",
              "351767                   2.912670   windows                   1   \n",
              "126377                   2.283680     other                   1   \n",
              "\n",
              "       device_fraud_count  month        x1        x2  \n",
              "104446                  0      2 -0.245425  0.568811  \n",
              "269483                  0      7  0.009336 -2.096682  \n",
              "4102                    0      1  2.229616 -0.005823  \n",
              "351767                  0      3 -0.193945  0.861207  \n",
              "126377                  0      3 -2.440650  0.354986  \n",
              "\n",
              "[5 rows x 29 columns]"
            ],
            "text/html": [
              "\n",
              "  <div id=\"df-eb4580ad-a16e-423a-af41-dfc5e36ff003\">\n",
              "    <div class=\"colab-df-container\">\n",
              "      <div>\n",
              "<style scoped>\n",
              "    .dataframe tbody tr th:only-of-type {\n",
              "        vertical-align: middle;\n",
              "    }\n",
              "\n",
              "    .dataframe tbody tr th {\n",
              "        vertical-align: top;\n",
              "    }\n",
              "\n",
              "    .dataframe thead th {\n",
              "        text-align: right;\n",
              "    }\n",
              "</style>\n",
              "<table border=\"1\" class=\"dataframe\">\n",
              "  <thead>\n",
              "    <tr style=\"text-align: right;\">\n",
              "      <th></th>\n",
              "      <th>id</th>\n",
              "      <th>fraud_bool</th>\n",
              "      <th>income</th>\n",
              "      <th>prev_address_months_count</th>\n",
              "      <th>current_address_months_count</th>\n",
              "      <th>customer_age</th>\n",
              "      <th>days_since_request</th>\n",
              "      <th>intended_balcon_amount</th>\n",
              "      <th>payment_type</th>\n",
              "      <th>zip_count_4w</th>\n",
              "      <th>...</th>\n",
              "      <th>proposed_credit_limit</th>\n",
              "      <th>foreign_request</th>\n",
              "      <th>source</th>\n",
              "      <th>session_length_in_minutes</th>\n",
              "      <th>device_os</th>\n",
              "      <th>keep_alive_session</th>\n",
              "      <th>device_fraud_count</th>\n",
              "      <th>month</th>\n",
              "      <th>x1</th>\n",
              "      <th>x2</th>\n",
              "    </tr>\n",
              "  </thead>\n",
              "  <tbody>\n",
              "    <tr>\n",
              "      <th>104446</th>\n",
              "      <td>729517</td>\n",
              "      <td>0</td>\n",
              "      <td>0.7</td>\n",
              "      <td>-1</td>\n",
              "      <td>305</td>\n",
              "      <td>60</td>\n",
              "      <td>0.030059</td>\n",
              "      <td>-1.599455</td>\n",
              "      <td>AC</td>\n",
              "      <td>990</td>\n",
              "      <td>...</td>\n",
              "      <td>500.0</td>\n",
              "      <td>0</td>\n",
              "      <td>INTERNET</td>\n",
              "      <td>8.865992</td>\n",
              "      <td>windows</td>\n",
              "      <td>0</td>\n",
              "      <td>0</td>\n",
              "      <td>2</td>\n",
              "      <td>-0.245425</td>\n",
              "      <td>0.568811</td>\n",
              "    </tr>\n",
              "    <tr>\n",
              "      <th>269483</th>\n",
              "      <td>149585</td>\n",
              "      <td>0</td>\n",
              "      <td>0.8</td>\n",
              "      <td>-1</td>\n",
              "      <td>140</td>\n",
              "      <td>50</td>\n",
              "      <td>0.015659</td>\n",
              "      <td>3.951994</td>\n",
              "      <td>AA</td>\n",
              "      <td>1269</td>\n",
              "      <td>...</td>\n",
              "      <td>200.0</td>\n",
              "      <td>0</td>\n",
              "      <td>INTERNET</td>\n",
              "      <td>4.654872</td>\n",
              "      <td>linux</td>\n",
              "      <td>1</td>\n",
              "      <td>0</td>\n",
              "      <td>7</td>\n",
              "      <td>0.009336</td>\n",
              "      <td>-2.096682</td>\n",
              "    </tr>\n",
              "    <tr>\n",
              "      <th>4102</th>\n",
              "      <td>64486</td>\n",
              "      <td>0</td>\n",
              "      <td>0.9</td>\n",
              "      <td>-1</td>\n",
              "      <td>171</td>\n",
              "      <td>50</td>\n",
              "      <td>0.001409</td>\n",
              "      <td>28.159779</td>\n",
              "      <td>AB</td>\n",
              "      <td>4430</td>\n",
              "      <td>...</td>\n",
              "      <td>1500.0</td>\n",
              "      <td>0</td>\n",
              "      <td>INTERNET</td>\n",
              "      <td>3.720953</td>\n",
              "      <td>linux</td>\n",
              "      <td>1</td>\n",
              "      <td>0</td>\n",
              "      <td>1</td>\n",
              "      <td>2.229616</td>\n",
              "      <td>-0.005823</td>\n",
              "    </tr>\n",
              "    <tr>\n",
              "      <th>351767</th>\n",
              "      <td>825283</td>\n",
              "      <td>0</td>\n",
              "      <td>0.5</td>\n",
              "      <td>-1</td>\n",
              "      <td>85</td>\n",
              "      <td>30</td>\n",
              "      <td>0.027292</td>\n",
              "      <td>-1.310498</td>\n",
              "      <td>AB</td>\n",
              "      <td>1698</td>\n",
              "      <td>...</td>\n",
              "      <td>200.0</td>\n",
              "      <td>0</td>\n",
              "      <td>INTERNET</td>\n",
              "      <td>2.912670</td>\n",
              "      <td>windows</td>\n",
              "      <td>1</td>\n",
              "      <td>0</td>\n",
              "      <td>3</td>\n",
              "      <td>-0.193945</td>\n",
              "      <td>0.861207</td>\n",
              "    </tr>\n",
              "    <tr>\n",
              "      <th>126377</th>\n",
              "      <td>8308</td>\n",
              "      <td>0</td>\n",
              "      <td>0.9</td>\n",
              "      <td>-1</td>\n",
              "      <td>39</td>\n",
              "      <td>30</td>\n",
              "      <td>0.010945</td>\n",
              "      <td>-1.450972</td>\n",
              "      <td>AC</td>\n",
              "      <td>569</td>\n",
              "      <td>...</td>\n",
              "      <td>200.0</td>\n",
              "      <td>0</td>\n",
              "      <td>INTERNET</td>\n",
              "      <td>2.283680</td>\n",
              "      <td>other</td>\n",
              "      <td>1</td>\n",
              "      <td>0</td>\n",
              "      <td>3</td>\n",
              "      <td>-2.440650</td>\n",
              "      <td>0.354986</td>\n",
              "    </tr>\n",
              "  </tbody>\n",
              "</table>\n",
              "<p>5 rows × 29 columns</p>\n",
              "</div>\n",
              "      <button class=\"colab-df-convert\" onclick=\"convertToInteractive('df-eb4580ad-a16e-423a-af41-dfc5e36ff003')\"\n",
              "              title=\"Convert this dataframe to an interactive table.\"\n",
              "              style=\"display:none;\">\n",
              "        \n",
              "  <svg xmlns=\"http://www.w3.org/2000/svg\" height=\"24px\"viewBox=\"0 0 24 24\"\n",
              "       width=\"24px\">\n",
              "    <path d=\"M0 0h24v24H0V0z\" fill=\"none\"/>\n",
              "    <path d=\"M18.56 5.44l.94 2.06.94-2.06 2.06-.94-2.06-.94-.94-2.06-.94 2.06-2.06.94zm-11 1L8.5 8.5l.94-2.06 2.06-.94-2.06-.94L8.5 2.5l-.94 2.06-2.06.94zm10 10l.94 2.06.94-2.06 2.06-.94-2.06-.94-.94-2.06-.94 2.06-2.06.94z\"/><path d=\"M17.41 7.96l-1.37-1.37c-.4-.4-.92-.59-1.43-.59-.52 0-1.04.2-1.43.59L10.3 9.45l-7.72 7.72c-.78.78-.78 2.05 0 2.83L4 21.41c.39.39.9.59 1.41.59.51 0 1.02-.2 1.41-.59l7.78-7.78 2.81-2.81c.8-.78.8-2.07 0-2.86zM5.41 20L4 18.59l7.72-7.72 1.47 1.35L5.41 20z\"/>\n",
              "  </svg>\n",
              "      </button>\n",
              "      \n",
              "  <style>\n",
              "    .colab-df-container {\n",
              "      display:flex;\n",
              "      flex-wrap:wrap;\n",
              "      gap: 12px;\n",
              "    }\n",
              "\n",
              "    .colab-df-convert {\n",
              "      background-color: #E8F0FE;\n",
              "      border: none;\n",
              "      border-radius: 50%;\n",
              "      cursor: pointer;\n",
              "      display: none;\n",
              "      fill: #1967D2;\n",
              "      height: 32px;\n",
              "      padding: 0 0 0 0;\n",
              "      width: 32px;\n",
              "    }\n",
              "\n",
              "    .colab-df-convert:hover {\n",
              "      background-color: #E2EBFA;\n",
              "      box-shadow: 0px 1px 2px rgba(60, 64, 67, 0.3), 0px 1px 3px 1px rgba(60, 64, 67, 0.15);\n",
              "      fill: #174EA6;\n",
              "    }\n",
              "\n",
              "    [theme=dark] .colab-df-convert {\n",
              "      background-color: #3B4455;\n",
              "      fill: #D2E3FC;\n",
              "    }\n",
              "\n",
              "    [theme=dark] .colab-df-convert:hover {\n",
              "      background-color: #434B5C;\n",
              "      box-shadow: 0px 1px 3px 1px rgba(0, 0, 0, 0.15);\n",
              "      filter: drop-shadow(0px 1px 2px rgba(0, 0, 0, 0.3));\n",
              "      fill: #FFFFFF;\n",
              "    }\n",
              "  </style>\n",
              "\n",
              "      <script>\n",
              "        const buttonEl =\n",
              "          document.querySelector('#df-eb4580ad-a16e-423a-af41-dfc5e36ff003 button.colab-df-convert');\n",
              "        buttonEl.style.display =\n",
              "          google.colab.kernel.accessAllowed ? 'block' : 'none';\n",
              "\n",
              "        async function convertToInteractive(key) {\n",
              "          const element = document.querySelector('#df-eb4580ad-a16e-423a-af41-dfc5e36ff003');\n",
              "          const dataTable =\n",
              "            await google.colab.kernel.invokeFunction('convertToInteractive',\n",
              "                                                     [key], {});\n",
              "          if (!dataTable) return;\n",
              "\n",
              "          const docLinkHtml = 'Like what you see? Visit the ' +\n",
              "            '<a target=\"_blank\" href=https://colab.research.google.com/notebooks/data_table.ipynb>data table notebook</a>'\n",
              "            + ' to learn more about interactive tables.';\n",
              "          element.innerHTML = '';\n",
              "          dataTable['output_type'] = 'display_data';\n",
              "          await google.colab.output.renderOutput(dataTable, element);\n",
              "          const docLink = document.createElement('div');\n",
              "          docLink.innerHTML = docLinkHtml;\n",
              "          element.appendChild(docLink);\n",
              "        }\n",
              "      </script>\n",
              "    </div>\n",
              "  </div>\n",
              "  "
            ]
          },
          "metadata": {},
          "execution_count": 11
        }
      ],
      "source": [
        "print(df_1.info())\n",
        "df_1.head(5)"
      ]
    },
    {
      "cell_type": "code",
      "source": [
        "print(df_2.info())\n",
        "df_2.head(5)"
      ],
      "metadata": {
        "colab": {
          "base_uri": "https://localhost:8080/",
          "height": 969
        },
        "id": "oIRaimlccHwh",
        "outputId": "e4ad7e3c-3db8-4816-ffa2-64b41ee599ad"
      },
      "id": "oIRaimlccHwh",
      "execution_count": 12,
      "outputs": [
        {
          "output_type": "stream",
          "name": "stdout",
          "text": [
            "<class 'pandas.core.frame.DataFrame'>\n",
            "Int64Index: 747410 entries, 699954 to 384611\n",
            "Data columns (total 29 columns):\n",
            " #   Column                        Non-Null Count   Dtype  \n",
            "---  ------                        --------------   -----  \n",
            " 0   id                            747410 non-null  int64  \n",
            " 1   fraud_bool                    747410 non-null  int64  \n",
            " 2   income                        747410 non-null  float64\n",
            " 3   prev_address_months_count     747410 non-null  int64  \n",
            " 4   current_address_months_count  747410 non-null  int64  \n",
            " 5   customer_age                  747410 non-null  int64  \n",
            " 6   days_since_request            747410 non-null  float64\n",
            " 7   intended_balcon_amount        747410 non-null  float64\n",
            " 8   payment_type                  747410 non-null  object \n",
            " 9   zip_count_4w                  747410 non-null  int64  \n",
            " 10  velocity_6h                   747410 non-null  float64\n",
            " 11  velocity_24h                  747410 non-null  float64\n",
            " 12  velocity_4w                   747410 non-null  float64\n",
            " 13  bank_branch_count_8w          747410 non-null  int64  \n",
            " 14  employment_status             747410 non-null  object \n",
            " 15  credit_risk_score             747410 non-null  int64  \n",
            " 16  housing_status                747410 non-null  object \n",
            " 17  bank_months_count             747410 non-null  int64  \n",
            " 18  has_other_cards               747410 non-null  int64  \n",
            " 19  proposed_credit_limit         747410 non-null  float64\n",
            " 20  foreign_request               747410 non-null  int64  \n",
            " 21  source                        747410 non-null  object \n",
            " 22  session_length_in_minutes     747410 non-null  float64\n",
            " 23  device_os                     747410 non-null  object \n",
            " 24  keep_alive_session            747410 non-null  int64  \n",
            " 25  device_fraud_count            747410 non-null  int64  \n",
            " 26  month                         747410 non-null  int64  \n",
            " 27  x1                            747410 non-null  float64\n",
            " 28  x2                            747410 non-null  float64\n",
            "dtypes: float64(10), int64(14), object(5)\n",
            "memory usage: 171.1+ MB\n",
            "None\n"
          ]
        },
        {
          "output_type": "execute_result",
          "data": {
            "text/plain": [
              "            id  fraud_bool  income  prev_address_months_count  \\\n",
              "699954  303612           0     0.8                         -1   \n",
              "701206  568066           0     0.9                         -1   \n",
              "270304  893344           0     0.7                         -1   \n",
              "346538  247688           0     0.8                         -1   \n",
              "147297  674478           0     0.8                         -1   \n",
              "\n",
              "        current_address_months_count  customer_age  days_since_request  \\\n",
              "699954                            21            40            0.010837   \n",
              "701206                            70            50            0.711485   \n",
              "270304                           133            50            0.006856   \n",
              "346538                           207            50            0.026194   \n",
              "147297                            24            50            0.012646   \n",
              "\n",
              "        intended_balcon_amount payment_type  zip_count_4w  ...  \\\n",
              "699954               -0.853976           AD           239  ...   \n",
              "701206               25.137456           AA          1873  ...   \n",
              "270304               -0.815330           AC           675  ...   \n",
              "346538               -0.736615           AB           999  ...   \n",
              "147297               10.744253           AA          3198  ...   \n",
              "\n",
              "        proposed_credit_limit  foreign_request    source  \\\n",
              "699954                  200.0                0  INTERNET   \n",
              "701206                  200.0                0  INTERNET   \n",
              "270304                 1000.0                0  INTERNET   \n",
              "346538                  200.0                0  INTERNET   \n",
              "147297                  500.0                1  INTERNET   \n",
              "\n",
              "        session_length_in_minutes device_os  keep_alive_session  \\\n",
              "699954                  48.127390     other                   0   \n",
              "701206                   8.792273   windows                   1   \n",
              "270304                  15.916225     other                   1   \n",
              "346538                   0.509942     linux                   1   \n",
              "147297                  10.562945     other                   0   \n",
              "\n",
              "       device_fraud_count  month        x1        x2  \n",
              "699954                  0      3  0.236931  0.077061  \n",
              "701206                  0      3  0.571536  1.151563  \n",
              "270304                  0      7  0.224252 -0.590459  \n",
              "346538                  0      6  0.648528 -0.315911  \n",
              "147297                  0      6  0.041475  0.383332  \n",
              "\n",
              "[5 rows x 29 columns]"
            ],
            "text/html": [
              "\n",
              "  <div id=\"df-8c905713-eb59-462d-b80f-05cba2be371f\">\n",
              "    <div class=\"colab-df-container\">\n",
              "      <div>\n",
              "<style scoped>\n",
              "    .dataframe tbody tr th:only-of-type {\n",
              "        vertical-align: middle;\n",
              "    }\n",
              "\n",
              "    .dataframe tbody tr th {\n",
              "        vertical-align: top;\n",
              "    }\n",
              "\n",
              "    .dataframe thead th {\n",
              "        text-align: right;\n",
              "    }\n",
              "</style>\n",
              "<table border=\"1\" class=\"dataframe\">\n",
              "  <thead>\n",
              "    <tr style=\"text-align: right;\">\n",
              "      <th></th>\n",
              "      <th>id</th>\n",
              "      <th>fraud_bool</th>\n",
              "      <th>income</th>\n",
              "      <th>prev_address_months_count</th>\n",
              "      <th>current_address_months_count</th>\n",
              "      <th>customer_age</th>\n",
              "      <th>days_since_request</th>\n",
              "      <th>intended_balcon_amount</th>\n",
              "      <th>payment_type</th>\n",
              "      <th>zip_count_4w</th>\n",
              "      <th>...</th>\n",
              "      <th>proposed_credit_limit</th>\n",
              "      <th>foreign_request</th>\n",
              "      <th>source</th>\n",
              "      <th>session_length_in_minutes</th>\n",
              "      <th>device_os</th>\n",
              "      <th>keep_alive_session</th>\n",
              "      <th>device_fraud_count</th>\n",
              "      <th>month</th>\n",
              "      <th>x1</th>\n",
              "      <th>x2</th>\n",
              "    </tr>\n",
              "  </thead>\n",
              "  <tbody>\n",
              "    <tr>\n",
              "      <th>699954</th>\n",
              "      <td>303612</td>\n",
              "      <td>0</td>\n",
              "      <td>0.8</td>\n",
              "      <td>-1</td>\n",
              "      <td>21</td>\n",
              "      <td>40</td>\n",
              "      <td>0.010837</td>\n",
              "      <td>-0.853976</td>\n",
              "      <td>AD</td>\n",
              "      <td>239</td>\n",
              "      <td>...</td>\n",
              "      <td>200.0</td>\n",
              "      <td>0</td>\n",
              "      <td>INTERNET</td>\n",
              "      <td>48.127390</td>\n",
              "      <td>other</td>\n",
              "      <td>0</td>\n",
              "      <td>0</td>\n",
              "      <td>3</td>\n",
              "      <td>0.236931</td>\n",
              "      <td>0.077061</td>\n",
              "    </tr>\n",
              "    <tr>\n",
              "      <th>701206</th>\n",
              "      <td>568066</td>\n",
              "      <td>0</td>\n",
              "      <td>0.9</td>\n",
              "      <td>-1</td>\n",
              "      <td>70</td>\n",
              "      <td>50</td>\n",
              "      <td>0.711485</td>\n",
              "      <td>25.137456</td>\n",
              "      <td>AA</td>\n",
              "      <td>1873</td>\n",
              "      <td>...</td>\n",
              "      <td>200.0</td>\n",
              "      <td>0</td>\n",
              "      <td>INTERNET</td>\n",
              "      <td>8.792273</td>\n",
              "      <td>windows</td>\n",
              "      <td>1</td>\n",
              "      <td>0</td>\n",
              "      <td>3</td>\n",
              "      <td>0.571536</td>\n",
              "      <td>1.151563</td>\n",
              "    </tr>\n",
              "    <tr>\n",
              "      <th>270304</th>\n",
              "      <td>893344</td>\n",
              "      <td>0</td>\n",
              "      <td>0.7</td>\n",
              "      <td>-1</td>\n",
              "      <td>133</td>\n",
              "      <td>50</td>\n",
              "      <td>0.006856</td>\n",
              "      <td>-0.815330</td>\n",
              "      <td>AC</td>\n",
              "      <td>675</td>\n",
              "      <td>...</td>\n",
              "      <td>1000.0</td>\n",
              "      <td>0</td>\n",
              "      <td>INTERNET</td>\n",
              "      <td>15.916225</td>\n",
              "      <td>other</td>\n",
              "      <td>1</td>\n",
              "      <td>0</td>\n",
              "      <td>7</td>\n",
              "      <td>0.224252</td>\n",
              "      <td>-0.590459</td>\n",
              "    </tr>\n",
              "    <tr>\n",
              "      <th>346538</th>\n",
              "      <td>247688</td>\n",
              "      <td>0</td>\n",
              "      <td>0.8</td>\n",
              "      <td>-1</td>\n",
              "      <td>207</td>\n",
              "      <td>50</td>\n",
              "      <td>0.026194</td>\n",
              "      <td>-0.736615</td>\n",
              "      <td>AB</td>\n",
              "      <td>999</td>\n",
              "      <td>...</td>\n",
              "      <td>200.0</td>\n",
              "      <td>0</td>\n",
              "      <td>INTERNET</td>\n",
              "      <td>0.509942</td>\n",
              "      <td>linux</td>\n",
              "      <td>1</td>\n",
              "      <td>0</td>\n",
              "      <td>6</td>\n",
              "      <td>0.648528</td>\n",
              "      <td>-0.315911</td>\n",
              "    </tr>\n",
              "    <tr>\n",
              "      <th>147297</th>\n",
              "      <td>674478</td>\n",
              "      <td>0</td>\n",
              "      <td>0.8</td>\n",
              "      <td>-1</td>\n",
              "      <td>24</td>\n",
              "      <td>50</td>\n",
              "      <td>0.012646</td>\n",
              "      <td>10.744253</td>\n",
              "      <td>AA</td>\n",
              "      <td>3198</td>\n",
              "      <td>...</td>\n",
              "      <td>500.0</td>\n",
              "      <td>1</td>\n",
              "      <td>INTERNET</td>\n",
              "      <td>10.562945</td>\n",
              "      <td>other</td>\n",
              "      <td>0</td>\n",
              "      <td>0</td>\n",
              "      <td>6</td>\n",
              "      <td>0.041475</td>\n",
              "      <td>0.383332</td>\n",
              "    </tr>\n",
              "  </tbody>\n",
              "</table>\n",
              "<p>5 rows × 29 columns</p>\n",
              "</div>\n",
              "      <button class=\"colab-df-convert\" onclick=\"convertToInteractive('df-8c905713-eb59-462d-b80f-05cba2be371f')\"\n",
              "              title=\"Convert this dataframe to an interactive table.\"\n",
              "              style=\"display:none;\">\n",
              "        \n",
              "  <svg xmlns=\"http://www.w3.org/2000/svg\" height=\"24px\"viewBox=\"0 0 24 24\"\n",
              "       width=\"24px\">\n",
              "    <path d=\"M0 0h24v24H0V0z\" fill=\"none\"/>\n",
              "    <path d=\"M18.56 5.44l.94 2.06.94-2.06 2.06-.94-2.06-.94-.94-2.06-.94 2.06-2.06.94zm-11 1L8.5 8.5l.94-2.06 2.06-.94-2.06-.94L8.5 2.5l-.94 2.06-2.06.94zm10 10l.94 2.06.94-2.06 2.06-.94-2.06-.94-.94-2.06-.94 2.06-2.06.94z\"/><path d=\"M17.41 7.96l-1.37-1.37c-.4-.4-.92-.59-1.43-.59-.52 0-1.04.2-1.43.59L10.3 9.45l-7.72 7.72c-.78.78-.78 2.05 0 2.83L4 21.41c.39.39.9.59 1.41.59.51 0 1.02-.2 1.41-.59l7.78-7.78 2.81-2.81c.8-.78.8-2.07 0-2.86zM5.41 20L4 18.59l7.72-7.72 1.47 1.35L5.41 20z\"/>\n",
              "  </svg>\n",
              "      </button>\n",
              "      \n",
              "  <style>\n",
              "    .colab-df-container {\n",
              "      display:flex;\n",
              "      flex-wrap:wrap;\n",
              "      gap: 12px;\n",
              "    }\n",
              "\n",
              "    .colab-df-convert {\n",
              "      background-color: #E8F0FE;\n",
              "      border: none;\n",
              "      border-radius: 50%;\n",
              "      cursor: pointer;\n",
              "      display: none;\n",
              "      fill: #1967D2;\n",
              "      height: 32px;\n",
              "      padding: 0 0 0 0;\n",
              "      width: 32px;\n",
              "    }\n",
              "\n",
              "    .colab-df-convert:hover {\n",
              "      background-color: #E2EBFA;\n",
              "      box-shadow: 0px 1px 2px rgba(60, 64, 67, 0.3), 0px 1px 3px 1px rgba(60, 64, 67, 0.15);\n",
              "      fill: #174EA6;\n",
              "    }\n",
              "\n",
              "    [theme=dark] .colab-df-convert {\n",
              "      background-color: #3B4455;\n",
              "      fill: #D2E3FC;\n",
              "    }\n",
              "\n",
              "    [theme=dark] .colab-df-convert:hover {\n",
              "      background-color: #434B5C;\n",
              "      box-shadow: 0px 1px 3px 1px rgba(0, 0, 0, 0.15);\n",
              "      filter: drop-shadow(0px 1px 2px rgba(0, 0, 0, 0.3));\n",
              "      fill: #FFFFFF;\n",
              "    }\n",
              "  </style>\n",
              "\n",
              "      <script>\n",
              "        const buttonEl =\n",
              "          document.querySelector('#df-8c905713-eb59-462d-b80f-05cba2be371f button.colab-df-convert');\n",
              "        buttonEl.style.display =\n",
              "          google.colab.kernel.accessAllowed ? 'block' : 'none';\n",
              "\n",
              "        async function convertToInteractive(key) {\n",
              "          const element = document.querySelector('#df-8c905713-eb59-462d-b80f-05cba2be371f');\n",
              "          const dataTable =\n",
              "            await google.colab.kernel.invokeFunction('convertToInteractive',\n",
              "                                                     [key], {});\n",
              "          if (!dataTable) return;\n",
              "\n",
              "          const docLinkHtml = 'Like what you see? Visit the ' +\n",
              "            '<a target=\"_blank\" href=https://colab.research.google.com/notebooks/data_table.ipynb>data table notebook</a>'\n",
              "            + ' to learn more about interactive tables.';\n",
              "          element.innerHTML = '';\n",
              "          dataTable['output_type'] = 'display_data';\n",
              "          await google.colab.output.renderOutput(dataTable, element);\n",
              "          const docLink = document.createElement('div');\n",
              "          docLink.innerHTML = docLinkHtml;\n",
              "          element.appendChild(docLink);\n",
              "        }\n",
              "      </script>\n",
              "    </div>\n",
              "  </div>\n",
              "  "
            ]
          },
          "metadata": {},
          "execution_count": 12
        }
      ]
    },
    {
      "cell_type": "markdown",
      "source": [
        "De la exploración inicial, es evidente que los primeros dos dataframes contienen las mismas caracteristicas generales sobre clientes. Esta información es principalmente númerica, contando con algunas variables categoricas.\n",
        "\n",
        "El primer dataframe contiene alrededor de 389k filas, mientras que el segundo contiene alrededor de 747 k filas. Ambos tienen 28 caracteristicas que describen información general sobre el comportamiento del cliente en el ámbito financiero, además de un identificador para cada uno de estos. "
      ],
      "metadata": {
        "id": "u0T28PLMzoO3"
      },
      "id": "u0T28PLMzoO3"
    },
    {
      "cell_type": "code",
      "source": [
        "print(df_email_phone.info())\n",
        "df_email_phone.head(5)"
      ],
      "metadata": {
        "colab": {
          "base_uri": "https://localhost:8080/",
          "height": 541
        },
        "id": "ygTxcAyqcJiw",
        "outputId": "342582b6-9f6f-4f21-acc9-29d6829c602b"
      },
      "id": "ygTxcAyqcJiw",
      "execution_count": 13,
      "outputs": [
        {
          "output_type": "stream",
          "name": "stdout",
          "text": [
            "<class 'pandas.core.frame.DataFrame'>\n",
            "Int64Index: 934730 entries, 987231 to 986114\n",
            "Data columns (total 7 columns):\n",
            " #   Column                            Non-Null Count   Dtype  \n",
            "---  ------                            --------------   -----  \n",
            " 0   id                                934730 non-null  int64  \n",
            " 1   name_email_similarity             934730 non-null  float64\n",
            " 2   date_of_birth_distinct_emails_4w  934730 non-null  int64  \n",
            " 3   email_is_free                     934730 non-null  int64  \n",
            " 4   device_distinct_emails_8w         934730 non-null  int64  \n",
            " 5   phone_home_valid                  934730 non-null  int64  \n",
            " 6   phone_mobile_valid                934730 non-null  int64  \n",
            "dtypes: float64(1), int64(6)\n",
            "memory usage: 57.1 MB\n",
            "None\n"
          ]
        },
        {
          "output_type": "execute_result",
          "data": {
            "text/plain": [
              "            id  name_email_similarity  date_of_birth_distinct_emails_4w  \\\n",
              "987231  624588               0.555653                                15   \n",
              "79954   620810               0.849718                                 2   \n",
              "567130  580633               0.110898                                 3   \n",
              "500891    6379               0.671250                                15   \n",
              "55399   366511               0.772932                                 7   \n",
              "\n",
              "        email_is_free  device_distinct_emails_8w  phone_home_valid  \\\n",
              "987231              0                          1                 0   \n",
              "79954               0                          1                 0   \n",
              "567130              0                          1                 1   \n",
              "500891              0                          1                 0   \n",
              "55399               0                          1                 0   \n",
              "\n",
              "        phone_mobile_valid  \n",
              "987231                   1  \n",
              "79954                    0  \n",
              "567130                   0  \n",
              "500891                   1  \n",
              "55399                    1  "
            ],
            "text/html": [
              "\n",
              "  <div id=\"df-2f8fd6bd-c7a0-4cdd-810a-d6af38a0085f\">\n",
              "    <div class=\"colab-df-container\">\n",
              "      <div>\n",
              "<style scoped>\n",
              "    .dataframe tbody tr th:only-of-type {\n",
              "        vertical-align: middle;\n",
              "    }\n",
              "\n",
              "    .dataframe tbody tr th {\n",
              "        vertical-align: top;\n",
              "    }\n",
              "\n",
              "    .dataframe thead th {\n",
              "        text-align: right;\n",
              "    }\n",
              "</style>\n",
              "<table border=\"1\" class=\"dataframe\">\n",
              "  <thead>\n",
              "    <tr style=\"text-align: right;\">\n",
              "      <th></th>\n",
              "      <th>id</th>\n",
              "      <th>name_email_similarity</th>\n",
              "      <th>date_of_birth_distinct_emails_4w</th>\n",
              "      <th>email_is_free</th>\n",
              "      <th>device_distinct_emails_8w</th>\n",
              "      <th>phone_home_valid</th>\n",
              "      <th>phone_mobile_valid</th>\n",
              "    </tr>\n",
              "  </thead>\n",
              "  <tbody>\n",
              "    <tr>\n",
              "      <th>987231</th>\n",
              "      <td>624588</td>\n",
              "      <td>0.555653</td>\n",
              "      <td>15</td>\n",
              "      <td>0</td>\n",
              "      <td>1</td>\n",
              "      <td>0</td>\n",
              "      <td>1</td>\n",
              "    </tr>\n",
              "    <tr>\n",
              "      <th>79954</th>\n",
              "      <td>620810</td>\n",
              "      <td>0.849718</td>\n",
              "      <td>2</td>\n",
              "      <td>0</td>\n",
              "      <td>1</td>\n",
              "      <td>0</td>\n",
              "      <td>0</td>\n",
              "    </tr>\n",
              "    <tr>\n",
              "      <th>567130</th>\n",
              "      <td>580633</td>\n",
              "      <td>0.110898</td>\n",
              "      <td>3</td>\n",
              "      <td>0</td>\n",
              "      <td>1</td>\n",
              "      <td>1</td>\n",
              "      <td>0</td>\n",
              "    </tr>\n",
              "    <tr>\n",
              "      <th>500891</th>\n",
              "      <td>6379</td>\n",
              "      <td>0.671250</td>\n",
              "      <td>15</td>\n",
              "      <td>0</td>\n",
              "      <td>1</td>\n",
              "      <td>0</td>\n",
              "      <td>1</td>\n",
              "    </tr>\n",
              "    <tr>\n",
              "      <th>55399</th>\n",
              "      <td>366511</td>\n",
              "      <td>0.772932</td>\n",
              "      <td>7</td>\n",
              "      <td>0</td>\n",
              "      <td>1</td>\n",
              "      <td>0</td>\n",
              "      <td>1</td>\n",
              "    </tr>\n",
              "  </tbody>\n",
              "</table>\n",
              "</div>\n",
              "      <button class=\"colab-df-convert\" onclick=\"convertToInteractive('df-2f8fd6bd-c7a0-4cdd-810a-d6af38a0085f')\"\n",
              "              title=\"Convert this dataframe to an interactive table.\"\n",
              "              style=\"display:none;\">\n",
              "        \n",
              "  <svg xmlns=\"http://www.w3.org/2000/svg\" height=\"24px\"viewBox=\"0 0 24 24\"\n",
              "       width=\"24px\">\n",
              "    <path d=\"M0 0h24v24H0V0z\" fill=\"none\"/>\n",
              "    <path d=\"M18.56 5.44l.94 2.06.94-2.06 2.06-.94-2.06-.94-.94-2.06-.94 2.06-2.06.94zm-11 1L8.5 8.5l.94-2.06 2.06-.94-2.06-.94L8.5 2.5l-.94 2.06-2.06.94zm10 10l.94 2.06.94-2.06 2.06-.94-2.06-.94-.94-2.06-.94 2.06-2.06.94z\"/><path d=\"M17.41 7.96l-1.37-1.37c-.4-.4-.92-.59-1.43-.59-.52 0-1.04.2-1.43.59L10.3 9.45l-7.72 7.72c-.78.78-.78 2.05 0 2.83L4 21.41c.39.39.9.59 1.41.59.51 0 1.02-.2 1.41-.59l7.78-7.78 2.81-2.81c.8-.78.8-2.07 0-2.86zM5.41 20L4 18.59l7.72-7.72 1.47 1.35L5.41 20z\"/>\n",
              "  </svg>\n",
              "      </button>\n",
              "      \n",
              "  <style>\n",
              "    .colab-df-container {\n",
              "      display:flex;\n",
              "      flex-wrap:wrap;\n",
              "      gap: 12px;\n",
              "    }\n",
              "\n",
              "    .colab-df-convert {\n",
              "      background-color: #E8F0FE;\n",
              "      border: none;\n",
              "      border-radius: 50%;\n",
              "      cursor: pointer;\n",
              "      display: none;\n",
              "      fill: #1967D2;\n",
              "      height: 32px;\n",
              "      padding: 0 0 0 0;\n",
              "      width: 32px;\n",
              "    }\n",
              "\n",
              "    .colab-df-convert:hover {\n",
              "      background-color: #E2EBFA;\n",
              "      box-shadow: 0px 1px 2px rgba(60, 64, 67, 0.3), 0px 1px 3px 1px rgba(60, 64, 67, 0.15);\n",
              "      fill: #174EA6;\n",
              "    }\n",
              "\n",
              "    [theme=dark] .colab-df-convert {\n",
              "      background-color: #3B4455;\n",
              "      fill: #D2E3FC;\n",
              "    }\n",
              "\n",
              "    [theme=dark] .colab-df-convert:hover {\n",
              "      background-color: #434B5C;\n",
              "      box-shadow: 0px 1px 3px 1px rgba(0, 0, 0, 0.15);\n",
              "      filter: drop-shadow(0px 1px 2px rgba(0, 0, 0, 0.3));\n",
              "      fill: #FFFFFF;\n",
              "    }\n",
              "  </style>\n",
              "\n",
              "      <script>\n",
              "        const buttonEl =\n",
              "          document.querySelector('#df-2f8fd6bd-c7a0-4cdd-810a-d6af38a0085f button.colab-df-convert');\n",
              "        buttonEl.style.display =\n",
              "          google.colab.kernel.accessAllowed ? 'block' : 'none';\n",
              "\n",
              "        async function convertToInteractive(key) {\n",
              "          const element = document.querySelector('#df-2f8fd6bd-c7a0-4cdd-810a-d6af38a0085f');\n",
              "          const dataTable =\n",
              "            await google.colab.kernel.invokeFunction('convertToInteractive',\n",
              "                                                     [key], {});\n",
              "          if (!dataTable) return;\n",
              "\n",
              "          const docLinkHtml = 'Like what you see? Visit the ' +\n",
              "            '<a target=\"_blank\" href=https://colab.research.google.com/notebooks/data_table.ipynb>data table notebook</a>'\n",
              "            + ' to learn more about interactive tables.';\n",
              "          element.innerHTML = '';\n",
              "          dataTable['output_type'] = 'display_data';\n",
              "          await google.colab.output.renderOutput(dataTable, element);\n",
              "          const docLink = document.createElement('div');\n",
              "          docLink.innerHTML = docLinkHtml;\n",
              "          element.appendChild(docLink);\n",
              "        }\n",
              "      </script>\n",
              "    </div>\n",
              "  </div>\n",
              "  "
            ]
          },
          "metadata": {},
          "execution_count": 13
        }
      ]
    },
    {
      "cell_type": "markdown",
      "source": [
        "Respecto al tercer dataframe, este posee alrededor de 935k entradas y 6 caracteristicas numericas sobre la información de contacto de los clientes, principalmente email y telefono, además de un identificador para cada cliente."
      ],
      "metadata": {
        "id": "wiMlZPe8017Q"
      },
      "id": "wiMlZPe8017Q"
    },
    {
      "cell_type": "markdown",
      "source": [
        "Es de notar que ninguno de estos dataframes por sí sólo posee valores nulos, dado que en los 3 el número de no nulos para cada columna coincide con el número total de filas."
      ],
      "metadata": {
        "id": "LhrYhIhM1Zxu"
      },
      "id": "LhrYhIhM1Zxu"
    },
    {
      "cell_type": "markdown",
      "id": "882a9ff0-9399-43c7-9b7d-108e36ddef24",
      "metadata": {
        "id": "882a9ff0-9399-43c7-9b7d-108e36ddef24"
      },
      "source": [
        "### 2.3 Unir dataframes"
      ]
    },
    {
      "cell_type": "markdown",
      "source": [
        "Para poder realizar una exploración y estudio completos es necesario unir las 3 fuentes de información en una sola."
      ],
      "metadata": {
        "id": "HkeFWEgn1nop"
      },
      "id": "HkeFWEgn1nop"
    },
    {
      "cell_type": "markdown",
      "source": [
        "Para unir los primeros 2 dataframes basta con una concatenación de estos por el lado de las filas (manteniendo número de columnas)."
      ],
      "metadata": {
        "id": "UEv9p22Tehzl"
      },
      "id": "UEv9p22Tehzl"
    },
    {
      "cell_type": "code",
      "execution_count": 36,
      "id": "09bea965",
      "metadata": {
        "vscode": {
          "languageId": "plaintext"
        },
        "id": "09bea965"
      },
      "outputs": [],
      "source": [
        "df_customers = pd.concat([df_1, df_2])"
      ]
    },
    {
      "cell_type": "code",
      "source": [
        "print('Dimensiones de dataframes')\n",
        "print(f\"df_1:\\t\\t {df_1.shape}\")\n",
        "print(f\"df_2:\\t\\t {df_2.shape}\")\n",
        "print(f\"df_customers:\\t {df_customers.shape}\")"
      ],
      "metadata": {
        "colab": {
          "base_uri": "https://localhost:8080/"
        },
        "id": "AY1g4ecgdda4",
        "outputId": "ae18d1f8-49ad-46c8-e83e-6eaec386e302"
      },
      "id": "AY1g4ecgdda4",
      "execution_count": 37,
      "outputs": [
        {
          "output_type": "stream",
          "name": "stdout",
          "text": [
            "Dimensiones de dataframes\n",
            "df_1:\t\t (389782, 29)\n",
            "df_2:\t\t (747410, 29)\n",
            "df_customers:\t (1137192, 29)\n"
          ]
        }
      ]
    },
    {
      "cell_type": "markdown",
      "id": "3359abbb-aa14-4c03-b108-cc7c0baa4031",
      "metadata": {
        "id": "3359abbb-aa14-4c03-b108-cc7c0baa4031"
      },
      "source": [
        "### 2.4 Unir nuevas variables"
      ]
    },
    {
      "cell_type": "markdown",
      "source": [
        "Para unir el dataframe de la unión anterior con las caracteristicas presentes en el dataframe de datos de contacto, se utilizará la función `merge` de pandas, uniendo las entradas a través del campo `id`."
      ],
      "metadata": {
        "id": "dR2FTSmuegfu"
      },
      "id": "dR2FTSmuegfu"
    },
    {
      "cell_type": "code",
      "execution_count": 38,
      "id": "bcd0d917",
      "metadata": {
        "vscode": {
          "languageId": "plaintext"
        },
        "colab": {
          "base_uri": "https://localhost:8080/"
        },
        "id": "bcd0d917",
        "outputId": "5416e589-e6f1-41b8-dde5-3d2a7fb5910b"
      },
      "outputs": [
        {
          "output_type": "stream",
          "name": "stdout",
          "text": [
            "Dimensiones antes de merge\n",
            "df_customers:\t(1137192, 29)\n",
            "df_email:\t(934730, 7)\n",
            "Dimensiones después de merge\n",
            "df_customers:\t(1198151, 35)\n",
            "\n",
            "\n",
            "Diferencia en filas:60959\n"
          ]
        }
      ],
      "source": [
        "print('Dimensiones antes de merge')\n",
        "shape_bf_merge = df_customers.shape\n",
        "print(f'df_customers:\\t{df_customers.shape}')\n",
        "print(f'df_email:\\t{df_email_phone.shape}\\n')\n",
        "\n",
        "df_customers = pd.merge(df_customers, df_email_phone, on='id', how = 'outer')\n",
        "\n",
        "print('Dimensiones después de merge')\n",
        "shape_af_merge = df_customers.shape\n",
        "print(f'df_customers:\\t{df_customers.shape}\\n')\n",
        "print(f'Diferencia en filas:{shape_af_merge[0]-shape_bf_merge[0]}')"
      ]
    },
    {
      "cell_type": "markdown",
      "id": "813bab66-81d8-421f-921d-109a7e474790",
      "metadata": {
        "id": "813bab66-81d8-421f-921d-109a7e474790"
      },
      "source": [
        "### 2.5 Verificar nulos y duplicados, generar explicaciones sobre sus fuentes y proponer soluciones.\n",
        "\n"
      ]
    },
    {
      "cell_type": "markdown",
      "source": [
        "Para asegurar que cualquier trabajo posterior se realice con datos que sigan un estándar de calidad mínimo, se estudiará la existencia de nulos y duplicados en el dataframe combinado."
      ],
      "metadata": {
        "id": "Ic-Fhvt81-Mg"
      },
      "id": "Ic-Fhvt81-Mg"
    },
    {
      "cell_type": "markdown",
      "source": [
        "Primero se verificará el número de NAN en cada columna"
      ],
      "metadata": {
        "id": "uk2hfZlKiYU0"
      },
      "id": "uk2hfZlKiYU0"
    },
    {
      "cell_type": "code",
      "execution_count": 35,
      "id": "22c5ce09",
      "metadata": {
        "vscode": {
          "languageId": "plaintext"
        },
        "colab": {
          "base_uri": "https://localhost:8080/"
        },
        "id": "22c5ce09",
        "outputId": "6cb05309-76f5-4086-8e71-8836610c6081"
      },
      "outputs": [
        {
          "output_type": "execute_result",
          "data": {
            "text/plain": [
              "id                                      0\n",
              "fraud_bool                          60959\n",
              "income                              60959\n",
              "prev_address_months_count           60959\n",
              "current_address_months_count        60959\n",
              "customer_age                        60959\n",
              "days_since_request                  60959\n",
              "intended_balcon_amount              60959\n",
              "payment_type                        60959\n",
              "zip_count_4w                        60959\n",
              "velocity_6h                         60959\n",
              "velocity_24h                        60959\n",
              "velocity_4w                         60959\n",
              "bank_branch_count_8w                60959\n",
              "employment_status                   60959\n",
              "credit_risk_score                   60959\n",
              "housing_status                      60959\n",
              "bank_months_count                   60959\n",
              "has_other_cards                     60959\n",
              "proposed_credit_limit               60959\n",
              "foreign_request                     60959\n",
              "source                              60959\n",
              "session_length_in_minutes           60959\n",
              "device_os                           60959\n",
              "keep_alive_session                  60959\n",
              "device_fraud_count                  60959\n",
              "month                               60959\n",
              "x1                                  60959\n",
              "x2                                  60959\n",
              "name_email_similarity               79727\n",
              "date_of_birth_distinct_emails_4w    79727\n",
              "email_is_free                       79727\n",
              "device_distinct_emails_8w           79727\n",
              "phone_home_valid                    79727\n",
              "phone_mobile_valid                  79727\n",
              "dtype: int64"
            ]
          },
          "metadata": {},
          "execution_count": 35
        }
      ],
      "source": [
        "df_customers.isna().sum()"
      ]
    },
    {
      "cell_type": "markdown",
      "source": [
        "Hay un patrón en el número de NAN. No hay Ids nulos, lo que quiere decir que al menos todas las entradas tienen un identificador válido. Por otro lado todas las caracteristicas relacionadas a los ejemplos inicales tienen alrededor de 61k valores nulos, mientras que para cada una de las nuevas cararcteristicas hay casi 80k de valores nulos. \n",
        "\n",
        "Es muy posible que, al tener valores de nulos uniformemente distribuidos, todos estos se encuentren en las mismas filas. La causa más probable es que los nulos se hayan dado al realizar el merge con el dataframe de datos de emails:\n",
        "-  Dado que el dataframe de emails sólo poseía caracteristicas nuevas, se crearon nulos para las caracteristicas generales en aquellas entradas cuyos `id` que estaban en el dataframe de emails, pero no en el de caracteristicas generales.\n",
        "- De forma similar, se crearon datos nulos para las nuevas caracteristicas de clientes que, teniendo entradas en el dataset general, no poseían información en el dataset de emails.\n",
        "\n"
      ],
      "metadata": {
        "id": "CRMfXNteib7G"
      },
      "id": "CRMfXNteib7G"
    },
    {
      "cell_type": "markdown",
      "source": [
        "Ahora se revisará el número de duplicados, basandose en el campo identificador `id`"
      ],
      "metadata": {
        "id": "SdfBdCoYniT7"
      },
      "id": "SdfBdCoYniT7"
    },
    {
      "cell_type": "code",
      "source": [
        "duplicates = df_customers.duplicated(subset=['id'])\n",
        "n_duplicated = duplicates.sum()\n",
        "print(f\"Existen {n_duplicated} filas con identificadores duplicados.\")"
      ],
      "metadata": {
        "colab": {
          "base_uri": "https://localhost:8080/"
        },
        "id": "gPjr2LMUnlcL",
        "outputId": "95afc019-d1a2-4321-b0c2-1ce8ad558563"
      },
      "id": "gPjr2LMUnlcL",
      "execution_count": 43,
      "outputs": [
        {
          "output_type": "stream",
          "name": "stdout",
          "text": [
            "Existen 202334 filas con identificadores duplicados.\n"
          ]
        }
      ]
    },
    {
      "cell_type": "code",
      "source": [
        "print('Ejemplos de filas duplicadas:')\n",
        "display(df_customers.loc[duplicates].sort_values(by=['id']).head(10))"
      ],
      "metadata": {
        "colab": {
          "base_uri": "https://localhost:8080/",
          "height": 474
        },
        "id": "TD-i1IqXpGOO",
        "outputId": "64a10292-e9d1-432f-fe36-6eceedc28bf5"
      },
      "id": "TD-i1IqXpGOO",
      "execution_count": 46,
      "outputs": [
        {
          "output_type": "stream",
          "name": "stdout",
          "text": [
            "Ejemplos de filas duplicadas:\n"
          ]
        },
        {
          "output_type": "display_data",
          "data": {
            "text/plain": [
              "        id  fraud_bool  income  prev_address_months_count  \\\n",
              "79730   10         0.0     0.7                       -1.0   \n",
              "63988   14         0.0     0.9                       -1.0   \n",
              "494431  19         0.0     0.5                       -1.0   \n",
              "494430  19         0.0     0.5                       -1.0   \n",
              "630239  37         0.0     0.8                       -1.0   \n",
              "630240  37         0.0     0.8                       -1.0   \n",
              "443211  39         0.0     0.1                       -1.0   \n",
              "443210  39         0.0     0.1                       -1.0   \n",
              "443209  39         0.0     0.1                       -1.0   \n",
              "840268  55         0.0     0.6                       -1.0   \n",
              "\n",
              "        current_address_months_count  customer_age  days_since_request  \\\n",
              "79730                          269.0          50.0            0.017052   \n",
              "63988                           38.0          40.0            0.011142   \n",
              "494431                          18.0          50.0            0.006434   \n",
              "494430                          18.0          50.0            0.006434   \n",
              "630239                          22.0          30.0            0.018731   \n",
              "630240                          22.0          30.0            0.018731   \n",
              "443211                         189.0          30.0            0.001039   \n",
              "443210                         189.0          30.0            0.001039   \n",
              "443209                         189.0          30.0            0.001039   \n",
              "840268                         216.0          60.0            0.022977   \n",
              "\n",
              "        intended_balcon_amount payment_type  zip_count_4w  ...  \\\n",
              "79730                18.113431           AA        1008.0  ...   \n",
              "63988                -0.700248           AB         999.0  ...   \n",
              "494431               -1.351873           AB         705.0  ...   \n",
              "494430               -1.351873           AB         705.0  ...   \n",
              "630239               24.369254           AA         591.0  ...   \n",
              "630240               24.369254           AA         591.0  ...   \n",
              "443211               -0.576867           AB        1644.0  ...   \n",
              "443210               -0.576867           AB        1644.0  ...   \n",
              "443209               -0.576867           AB        1644.0  ...   \n",
              "840268               -0.601287           AB        1126.0  ...   \n",
              "\n",
              "        device_fraud_count  month        x1        x2 name_email_similarity  \\\n",
              "79730                  0.0    7.0  0.819086  0.995956              0.409915   \n",
              "63988                  0.0    1.0 -1.204976 -0.460171              0.925234   \n",
              "494431                 0.0    7.0  1.017089 -0.557888              0.401173   \n",
              "494430                 0.0    7.0  1.017089 -0.557888              0.401173   \n",
              "630239                 0.0    7.0  0.961786  1.756209                   NaN   \n",
              "630240                 0.0    7.0  0.961786  1.756209                   NaN   \n",
              "443211                 0.0    3.0  1.620199  0.132025              0.868037   \n",
              "443210                 0.0    3.0  1.620199  0.132025              0.868037   \n",
              "443209                 0.0    3.0  1.620199  0.132025              0.868037   \n",
              "840268                 0.0    7.0  1.643214  1.155003              0.387457   \n",
              "\n",
              "        date_of_birth_distinct_emails_4w email_is_free  \\\n",
              "79730                                5.0           0.0   \n",
              "63988                                9.0           1.0   \n",
              "494431                              13.0           0.0   \n",
              "494430                              13.0           0.0   \n",
              "630239                               NaN           NaN   \n",
              "630240                               NaN           NaN   \n",
              "443211                               8.0           1.0   \n",
              "443210                               8.0           1.0   \n",
              "443209                               8.0           1.0   \n",
              "840268                               3.0           0.0   \n",
              "\n",
              "        device_distinct_emails_8w  phone_home_valid  phone_mobile_valid  \n",
              "79730                         1.0               1.0                 1.0  \n",
              "63988                         1.0               0.0                 1.0  \n",
              "494431                        1.0               1.0                 0.0  \n",
              "494430                        1.0               1.0                 0.0  \n",
              "630239                        NaN               NaN                 NaN  \n",
              "630240                        NaN               NaN                 NaN  \n",
              "443211                        1.0               0.0                 1.0  \n",
              "443210                        1.0               0.0                 1.0  \n",
              "443209                        1.0               0.0                 1.0  \n",
              "840268                        1.0               1.0                 1.0  \n",
              "\n",
              "[10 rows x 35 columns]"
            ],
            "text/html": [
              "\n",
              "  <div id=\"df-94b25b02-62a8-43e8-b3e2-fd829d58b23a\">\n",
              "    <div class=\"colab-df-container\">\n",
              "      <div>\n",
              "<style scoped>\n",
              "    .dataframe tbody tr th:only-of-type {\n",
              "        vertical-align: middle;\n",
              "    }\n",
              "\n",
              "    .dataframe tbody tr th {\n",
              "        vertical-align: top;\n",
              "    }\n",
              "\n",
              "    .dataframe thead th {\n",
              "        text-align: right;\n",
              "    }\n",
              "</style>\n",
              "<table border=\"1\" class=\"dataframe\">\n",
              "  <thead>\n",
              "    <tr style=\"text-align: right;\">\n",
              "      <th></th>\n",
              "      <th>id</th>\n",
              "      <th>fraud_bool</th>\n",
              "      <th>income</th>\n",
              "      <th>prev_address_months_count</th>\n",
              "      <th>current_address_months_count</th>\n",
              "      <th>customer_age</th>\n",
              "      <th>days_since_request</th>\n",
              "      <th>intended_balcon_amount</th>\n",
              "      <th>payment_type</th>\n",
              "      <th>zip_count_4w</th>\n",
              "      <th>...</th>\n",
              "      <th>device_fraud_count</th>\n",
              "      <th>month</th>\n",
              "      <th>x1</th>\n",
              "      <th>x2</th>\n",
              "      <th>name_email_similarity</th>\n",
              "      <th>date_of_birth_distinct_emails_4w</th>\n",
              "      <th>email_is_free</th>\n",
              "      <th>device_distinct_emails_8w</th>\n",
              "      <th>phone_home_valid</th>\n",
              "      <th>phone_mobile_valid</th>\n",
              "    </tr>\n",
              "  </thead>\n",
              "  <tbody>\n",
              "    <tr>\n",
              "      <th>79730</th>\n",
              "      <td>10</td>\n",
              "      <td>0.0</td>\n",
              "      <td>0.7</td>\n",
              "      <td>-1.0</td>\n",
              "      <td>269.0</td>\n",
              "      <td>50.0</td>\n",
              "      <td>0.017052</td>\n",
              "      <td>18.113431</td>\n",
              "      <td>AA</td>\n",
              "      <td>1008.0</td>\n",
              "      <td>...</td>\n",
              "      <td>0.0</td>\n",
              "      <td>7.0</td>\n",
              "      <td>0.819086</td>\n",
              "      <td>0.995956</td>\n",
              "      <td>0.409915</td>\n",
              "      <td>5.0</td>\n",
              "      <td>0.0</td>\n",
              "      <td>1.0</td>\n",
              "      <td>1.0</td>\n",
              "      <td>1.0</td>\n",
              "    </tr>\n",
              "    <tr>\n",
              "      <th>63988</th>\n",
              "      <td>14</td>\n",
              "      <td>0.0</td>\n",
              "      <td>0.9</td>\n",
              "      <td>-1.0</td>\n",
              "      <td>38.0</td>\n",
              "      <td>40.0</td>\n",
              "      <td>0.011142</td>\n",
              "      <td>-0.700248</td>\n",
              "      <td>AB</td>\n",
              "      <td>999.0</td>\n",
              "      <td>...</td>\n",
              "      <td>0.0</td>\n",
              "      <td>1.0</td>\n",
              "      <td>-1.204976</td>\n",
              "      <td>-0.460171</td>\n",
              "      <td>0.925234</td>\n",
              "      <td>9.0</td>\n",
              "      <td>1.0</td>\n",
              "      <td>1.0</td>\n",
              "      <td>0.0</td>\n",
              "      <td>1.0</td>\n",
              "    </tr>\n",
              "    <tr>\n",
              "      <th>494431</th>\n",
              "      <td>19</td>\n",
              "      <td>0.0</td>\n",
              "      <td>0.5</td>\n",
              "      <td>-1.0</td>\n",
              "      <td>18.0</td>\n",
              "      <td>50.0</td>\n",
              "      <td>0.006434</td>\n",
              "      <td>-1.351873</td>\n",
              "      <td>AB</td>\n",
              "      <td>705.0</td>\n",
              "      <td>...</td>\n",
              "      <td>0.0</td>\n",
              "      <td>7.0</td>\n",
              "      <td>1.017089</td>\n",
              "      <td>-0.557888</td>\n",
              "      <td>0.401173</td>\n",
              "      <td>13.0</td>\n",
              "      <td>0.0</td>\n",
              "      <td>1.0</td>\n",
              "      <td>1.0</td>\n",
              "      <td>0.0</td>\n",
              "    </tr>\n",
              "    <tr>\n",
              "      <th>494430</th>\n",
              "      <td>19</td>\n",
              "      <td>0.0</td>\n",
              "      <td>0.5</td>\n",
              "      <td>-1.0</td>\n",
              "      <td>18.0</td>\n",
              "      <td>50.0</td>\n",
              "      <td>0.006434</td>\n",
              "      <td>-1.351873</td>\n",
              "      <td>AB</td>\n",
              "      <td>705.0</td>\n",
              "      <td>...</td>\n",
              "      <td>0.0</td>\n",
              "      <td>7.0</td>\n",
              "      <td>1.017089</td>\n",
              "      <td>-0.557888</td>\n",
              "      <td>0.401173</td>\n",
              "      <td>13.0</td>\n",
              "      <td>0.0</td>\n",
              "      <td>1.0</td>\n",
              "      <td>1.0</td>\n",
              "      <td>0.0</td>\n",
              "    </tr>\n",
              "    <tr>\n",
              "      <th>630239</th>\n",
              "      <td>37</td>\n",
              "      <td>0.0</td>\n",
              "      <td>0.8</td>\n",
              "      <td>-1.0</td>\n",
              "      <td>22.0</td>\n",
              "      <td>30.0</td>\n",
              "      <td>0.018731</td>\n",
              "      <td>24.369254</td>\n",
              "      <td>AA</td>\n",
              "      <td>591.0</td>\n",
              "      <td>...</td>\n",
              "      <td>0.0</td>\n",
              "      <td>7.0</td>\n",
              "      <td>0.961786</td>\n",
              "      <td>1.756209</td>\n",
              "      <td>NaN</td>\n",
              "      <td>NaN</td>\n",
              "      <td>NaN</td>\n",
              "      <td>NaN</td>\n",
              "      <td>NaN</td>\n",
              "      <td>NaN</td>\n",
              "    </tr>\n",
              "    <tr>\n",
              "      <th>630240</th>\n",
              "      <td>37</td>\n",
              "      <td>0.0</td>\n",
              "      <td>0.8</td>\n",
              "      <td>-1.0</td>\n",
              "      <td>22.0</td>\n",
              "      <td>30.0</td>\n",
              "      <td>0.018731</td>\n",
              "      <td>24.369254</td>\n",
              "      <td>AA</td>\n",
              "      <td>591.0</td>\n",
              "      <td>...</td>\n",
              "      <td>0.0</td>\n",
              "      <td>7.0</td>\n",
              "      <td>0.961786</td>\n",
              "      <td>1.756209</td>\n",
              "      <td>NaN</td>\n",
              "      <td>NaN</td>\n",
              "      <td>NaN</td>\n",
              "      <td>NaN</td>\n",
              "      <td>NaN</td>\n",
              "      <td>NaN</td>\n",
              "    </tr>\n",
              "    <tr>\n",
              "      <th>443211</th>\n",
              "      <td>39</td>\n",
              "      <td>0.0</td>\n",
              "      <td>0.1</td>\n",
              "      <td>-1.0</td>\n",
              "      <td>189.0</td>\n",
              "      <td>30.0</td>\n",
              "      <td>0.001039</td>\n",
              "      <td>-0.576867</td>\n",
              "      <td>AB</td>\n",
              "      <td>1644.0</td>\n",
              "      <td>...</td>\n",
              "      <td>0.0</td>\n",
              "      <td>3.0</td>\n",
              "      <td>1.620199</td>\n",
              "      <td>0.132025</td>\n",
              "      <td>0.868037</td>\n",
              "      <td>8.0</td>\n",
              "      <td>1.0</td>\n",
              "      <td>1.0</td>\n",
              "      <td>0.0</td>\n",
              "      <td>1.0</td>\n",
              "    </tr>\n",
              "    <tr>\n",
              "      <th>443210</th>\n",
              "      <td>39</td>\n",
              "      <td>0.0</td>\n",
              "      <td>0.1</td>\n",
              "      <td>-1.0</td>\n",
              "      <td>189.0</td>\n",
              "      <td>30.0</td>\n",
              "      <td>0.001039</td>\n",
              "      <td>-0.576867</td>\n",
              "      <td>AB</td>\n",
              "      <td>1644.0</td>\n",
              "      <td>...</td>\n",
              "      <td>0.0</td>\n",
              "      <td>3.0</td>\n",
              "      <td>1.620199</td>\n",
              "      <td>0.132025</td>\n",
              "      <td>0.868037</td>\n",
              "      <td>8.0</td>\n",
              "      <td>1.0</td>\n",
              "      <td>1.0</td>\n",
              "      <td>0.0</td>\n",
              "      <td>1.0</td>\n",
              "    </tr>\n",
              "    <tr>\n",
              "      <th>443209</th>\n",
              "      <td>39</td>\n",
              "      <td>0.0</td>\n",
              "      <td>0.1</td>\n",
              "      <td>-1.0</td>\n",
              "      <td>189.0</td>\n",
              "      <td>30.0</td>\n",
              "      <td>0.001039</td>\n",
              "      <td>-0.576867</td>\n",
              "      <td>AB</td>\n",
              "      <td>1644.0</td>\n",
              "      <td>...</td>\n",
              "      <td>0.0</td>\n",
              "      <td>3.0</td>\n",
              "      <td>1.620199</td>\n",
              "      <td>0.132025</td>\n",
              "      <td>0.868037</td>\n",
              "      <td>8.0</td>\n",
              "      <td>1.0</td>\n",
              "      <td>1.0</td>\n",
              "      <td>0.0</td>\n",
              "      <td>1.0</td>\n",
              "    </tr>\n",
              "    <tr>\n",
              "      <th>840268</th>\n",
              "      <td>55</td>\n",
              "      <td>0.0</td>\n",
              "      <td>0.6</td>\n",
              "      <td>-1.0</td>\n",
              "      <td>216.0</td>\n",
              "      <td>60.0</td>\n",
              "      <td>0.022977</td>\n",
              "      <td>-0.601287</td>\n",
              "      <td>AB</td>\n",
              "      <td>1126.0</td>\n",
              "      <td>...</td>\n",
              "      <td>0.0</td>\n",
              "      <td>7.0</td>\n",
              "      <td>1.643214</td>\n",
              "      <td>1.155003</td>\n",
              "      <td>0.387457</td>\n",
              "      <td>3.0</td>\n",
              "      <td>0.0</td>\n",
              "      <td>1.0</td>\n",
              "      <td>1.0</td>\n",
              "      <td>1.0</td>\n",
              "    </tr>\n",
              "  </tbody>\n",
              "</table>\n",
              "<p>10 rows × 35 columns</p>\n",
              "</div>\n",
              "      <button class=\"colab-df-convert\" onclick=\"convertToInteractive('df-94b25b02-62a8-43e8-b3e2-fd829d58b23a')\"\n",
              "              title=\"Convert this dataframe to an interactive table.\"\n",
              "              style=\"display:none;\">\n",
              "        \n",
              "  <svg xmlns=\"http://www.w3.org/2000/svg\" height=\"24px\"viewBox=\"0 0 24 24\"\n",
              "       width=\"24px\">\n",
              "    <path d=\"M0 0h24v24H0V0z\" fill=\"none\"/>\n",
              "    <path d=\"M18.56 5.44l.94 2.06.94-2.06 2.06-.94-2.06-.94-.94-2.06-.94 2.06-2.06.94zm-11 1L8.5 8.5l.94-2.06 2.06-.94-2.06-.94L8.5 2.5l-.94 2.06-2.06.94zm10 10l.94 2.06.94-2.06 2.06-.94-2.06-.94-.94-2.06-.94 2.06-2.06.94z\"/><path d=\"M17.41 7.96l-1.37-1.37c-.4-.4-.92-.59-1.43-.59-.52 0-1.04.2-1.43.59L10.3 9.45l-7.72 7.72c-.78.78-.78 2.05 0 2.83L4 21.41c.39.39.9.59 1.41.59.51 0 1.02-.2 1.41-.59l7.78-7.78 2.81-2.81c.8-.78.8-2.07 0-2.86zM5.41 20L4 18.59l7.72-7.72 1.47 1.35L5.41 20z\"/>\n",
              "  </svg>\n",
              "      </button>\n",
              "      \n",
              "  <style>\n",
              "    .colab-df-container {\n",
              "      display:flex;\n",
              "      flex-wrap:wrap;\n",
              "      gap: 12px;\n",
              "    }\n",
              "\n",
              "    .colab-df-convert {\n",
              "      background-color: #E8F0FE;\n",
              "      border: none;\n",
              "      border-radius: 50%;\n",
              "      cursor: pointer;\n",
              "      display: none;\n",
              "      fill: #1967D2;\n",
              "      height: 32px;\n",
              "      padding: 0 0 0 0;\n",
              "      width: 32px;\n",
              "    }\n",
              "\n",
              "    .colab-df-convert:hover {\n",
              "      background-color: #E2EBFA;\n",
              "      box-shadow: 0px 1px 2px rgba(60, 64, 67, 0.3), 0px 1px 3px 1px rgba(60, 64, 67, 0.15);\n",
              "      fill: #174EA6;\n",
              "    }\n",
              "\n",
              "    [theme=dark] .colab-df-convert {\n",
              "      background-color: #3B4455;\n",
              "      fill: #D2E3FC;\n",
              "    }\n",
              "\n",
              "    [theme=dark] .colab-df-convert:hover {\n",
              "      background-color: #434B5C;\n",
              "      box-shadow: 0px 1px 3px 1px rgba(0, 0, 0, 0.15);\n",
              "      filter: drop-shadow(0px 1px 2px rgba(0, 0, 0, 0.3));\n",
              "      fill: #FFFFFF;\n",
              "    }\n",
              "  </style>\n",
              "\n",
              "      <script>\n",
              "        const buttonEl =\n",
              "          document.querySelector('#df-94b25b02-62a8-43e8-b3e2-fd829d58b23a button.colab-df-convert');\n",
              "        buttonEl.style.display =\n",
              "          google.colab.kernel.accessAllowed ? 'block' : 'none';\n",
              "\n",
              "        async function convertToInteractive(key) {\n",
              "          const element = document.querySelector('#df-94b25b02-62a8-43e8-b3e2-fd829d58b23a');\n",
              "          const dataTable =\n",
              "            await google.colab.kernel.invokeFunction('convertToInteractive',\n",
              "                                                     [key], {});\n",
              "          if (!dataTable) return;\n",
              "\n",
              "          const docLinkHtml = 'Like what you see? Visit the ' +\n",
              "            '<a target=\"_blank\" href=https://colab.research.google.com/notebooks/data_table.ipynb>data table notebook</a>'\n",
              "            + ' to learn more about interactive tables.';\n",
              "          element.innerHTML = '';\n",
              "          dataTable['output_type'] = 'display_data';\n",
              "          await google.colab.output.renderOutput(dataTable, element);\n",
              "          const docLink = document.createElement('div');\n",
              "          docLink.innerHTML = docLinkHtml;\n",
              "          element.appendChild(docLink);\n",
              "        }\n",
              "      </script>\n",
              "    </div>\n",
              "  </div>\n",
              "  "
            ]
          },
          "metadata": {}
        }
      ]
    },
    {
      "cell_type": "markdown",
      "source": [
        "Es interesante de notar que las filas con id duplicados, también poseen la fila entera duplicados. Los valores duplicados pueden deberse, ya sea por imperfecciones en los dataframe base, o por la concatenación de los dataframes de caracteristicas generales, dado que estos dos no necesariamente poseían entradas disjuntas entre ellos."
      ],
      "metadata": {
        "id": "gzKZqVhLnlEi"
      },
      "id": "gzKZqVhLnlEi"
    },
    {
      "cell_type": "markdown",
      "source": [
        "#### Estrategia de limpieza"
      ],
      "metadata": {
        "id": "Lg3kDSLqqAPk"
      },
      "id": "Lg3kDSLqqAPk"
    },
    {
      "cell_type": "markdown",
      "source": [
        "Para eliminar las imperfecciones en la unión final, bastaría con seguir los siguientes pasos:\n",
        "- Deshacerse de cualquier fila con al menos un NAN\n",
        "- Deshacerse de cualquier entrada con `id` duplicado, dejando sólo un ejemplar.\n",
        "\n",
        "Siguiendo estos pasos el dataframe final ya no tendría ni valores nulos ni duplicados, a cambio de perder una cantidad significativa de entradas."
      ],
      "metadata": {
        "id": "b7-D7GOYqJoX"
      },
      "id": "b7-D7GOYqJoX"
    },
    {
      "cell_type": "markdown",
      "id": "31b39557-4e12-4961-9a96-60d7eb945080",
      "metadata": {
        "id": "31b39557-4e12-4961-9a96-60d7eb945080"
      },
      "source": [
        "### 2.6 Limpiar"
      ]
    },
    {
      "cell_type": "code",
      "execution_count": 48,
      "id": "65507c50",
      "metadata": {
        "vscode": {
          "languageId": "plaintext"
        },
        "id": "65507c50"
      },
      "outputs": [],
      "source": [
        "# Limpiar nans\n",
        "df_customers = df_customers.dropna()\n",
        "# Limpiar duplicados\n",
        "df_customers = df_customers.drop_duplicates()"
      ]
    },
    {
      "cell_type": "code",
      "source": [
        "# Verificar Nan\n",
        "df_customers.isna().sum()"
      ],
      "metadata": {
        "colab": {
          "base_uri": "https://localhost:8080/"
        },
        "id": "UeHv9i_vrWDg",
        "outputId": "91c5ff9c-9eb3-46fa-d6d0-6dbbe70fc752"
      },
      "id": "UeHv9i_vrWDg",
      "execution_count": 51,
      "outputs": [
        {
          "output_type": "execute_result",
          "data": {
            "text/plain": [
              "id                                  0\n",
              "fraud_bool                          0\n",
              "income                              0\n",
              "prev_address_months_count           0\n",
              "current_address_months_count        0\n",
              "customer_age                        0\n",
              "days_since_request                  0\n",
              "intended_balcon_amount              0\n",
              "payment_type                        0\n",
              "zip_count_4w                        0\n",
              "velocity_6h                         0\n",
              "velocity_24h                        0\n",
              "velocity_4w                         0\n",
              "bank_branch_count_8w                0\n",
              "employment_status                   0\n",
              "credit_risk_score                   0\n",
              "housing_status                      0\n",
              "bank_months_count                   0\n",
              "has_other_cards                     0\n",
              "proposed_credit_limit               0\n",
              "foreign_request                     0\n",
              "source                              0\n",
              "session_length_in_minutes           0\n",
              "device_os                           0\n",
              "keep_alive_session                  0\n",
              "device_fraud_count                  0\n",
              "month                               0\n",
              "x1                                  0\n",
              "x2                                  0\n",
              "name_email_similarity               0\n",
              "date_of_birth_distinct_emails_4w    0\n",
              "email_is_free                       0\n",
              "device_distinct_emails_8w           0\n",
              "phone_home_valid                    0\n",
              "phone_mobile_valid                  0\n",
              "dtype: int64"
            ]
          },
          "metadata": {},
          "execution_count": 51
        }
      ]
    },
    {
      "cell_type": "code",
      "source": [
        "# Verificar duplicados\n",
        "df_customers.duplicated(subset=['id']).sum()"
      ],
      "metadata": {
        "colab": {
          "base_uri": "https://localhost:8080/"
        },
        "id": "jlONh4dJrd-C",
        "outputId": "f67c5967-1e08-466c-d440-fafbe2f5a36b"
      },
      "id": "jlONh4dJrd-C",
      "execution_count": 52,
      "outputs": [
        {
          "output_type": "execute_result",
          "data": {
            "text/plain": [
              "0"
            ]
          },
          "metadata": {},
          "execution_count": 52
        }
      ]
    },
    {
      "cell_type": "code",
      "source": [
        "print('Después de la limpieza')\n",
        "print(f'df_customers:\\t{df_customers.shape}')\n",
        "print(f'Cantidad de filas limpiadas:{shape_af_merge[0]-df_customers.shape[0]}')"
      ],
      "metadata": {
        "colab": {
          "base_uri": "https://localhost:8080/"
        },
        "id": "BL-9YM5eqy1w",
        "outputId": "6cd515d7-2ce4-4e5a-a6a7-37fee8187c03"
      },
      "id": "BL-9YM5eqy1w",
      "execution_count": 50,
      "outputs": [
        {
          "output_type": "stream",
          "name": "stdout",
          "text": [
            "Después de la limpieza\n",
            "df_customers:\t(873771, 35)\n",
            "Cantidad de filas limpiadas:324380\n"
          ]
        }
      ]
    },
    {
      "cell_type": "markdown",
      "source": [
        "Como resultado de la limpieza, ya no quedan entradas con valores nulos o duplicados, a cambio de esto se perdieron alrededor de 324k entradas, sin embargo, estas eran entradas que no serían de gran aporte en el estudio final debido a sus carencias."
      ],
      "metadata": {
        "id": "SnGnLY7jrniw"
      },
      "id": "SnGnLY7jrniw"
    },
    {
      "cell_type": "markdown",
      "source": [
        "### 2.7 Segmentación etaria"
      ],
      "metadata": {
        "id": "xxkezws-sMHx"
      },
      "id": "xxkezws-sMHx"
    },
    {
      "cell_type": "markdown",
      "source": [
        "Ya con los datos limpios, se realizará una segmentación etaria para apoyar la exploración y estudio de los datos, esto creando una columna categorica en base a la edad presente en la columna `customer_age`. A continuación se presenta la clasificación que seguirá la columna:\n",
        "- Joven: Edad menor a 18\n",
        "- Adulto-Joven: Entre 18 a 26 años\n",
        "- Adulto: Entre 27 y 59 años\n",
        "- Persona mayor: 60 años o más"
      ],
      "metadata": {
        "id": "StUX11OXuat0"
      },
      "id": "StUX11OXuat0"
    },
    {
      "cell_type": "code",
      "source": [
        "def categorize_by_age(age):\n",
        "  ranges = {\n",
        "    'Joven': (0, 17),\n",
        "    'Adulto-Joven': (18, 26),\n",
        "    'Adulto': (27, 59),\n",
        "    'Persona Mayor': (60, 120)\n",
        "    }\n",
        "  for range in ranges:\n",
        "    pair = ranges[range]\n",
        "    lower = pair[0]\n",
        "    upper = pair[1]\n",
        "    if age>=lower and age<=upper:\n",
        "      return range\n",
        "      \n",
        "  # Si por alguna razón nos pasamos, aquí hay algo raro \n",
        "  return 'No válida'"
      ],
      "metadata": {
        "id": "g-8zspzzvt5b"
      },
      "id": "g-8zspzzvt5b",
      "execution_count": 61,
      "outputs": []
    },
    {
      "cell_type": "code",
      "source": [
        "df_customers['segmentacion_etaria'] = df_customers['customer_age'].apply(categorize_by_age)"
      ],
      "metadata": {
        "id": "ch0AwddyukGA"
      },
      "id": "ch0AwddyukGA",
      "execution_count": 64,
      "outputs": []
    },
    {
      "cell_type": "code",
      "source": [
        "print(f\"Rangos creados: {df_customers['segmentacion_etaria'].unique()}\")\n",
        "df_customers[['segmentacion_etaria','customer_age']].sample(5)"
      ],
      "metadata": {
        "colab": {
          "base_uri": "https://localhost:8080/",
          "height": 224
        },
        "id": "SBIqFOyvx1-7",
        "outputId": "d827523a-8152-44ff-e0ae-7d925f92caeb"
      },
      "id": "SBIqFOyvx1-7",
      "execution_count": 68,
      "outputs": [
        {
          "output_type": "stream",
          "name": "stdout",
          "text": [
            "Rangos creados: ['Persona Mayor' 'Adulto' 'Adulto-Joven' 'Joven']\n"
          ]
        },
        {
          "output_type": "execute_result",
          "data": {
            "text/plain": [
              "        segmentacion_etaria  customer_age\n",
              "134542        Persona Mayor          60.0\n",
              "95584                Adulto          30.0\n",
              "361837               Adulto          50.0\n",
              "168134        Persona Mayor          60.0\n",
              "1039001              Adulto          40.0"
            ],
            "text/html": [
              "\n",
              "  <div id=\"df-0c7ed60f-88dd-45dc-a6e2-27f3976ca7ff\">\n",
              "    <div class=\"colab-df-container\">\n",
              "      <div>\n",
              "<style scoped>\n",
              "    .dataframe tbody tr th:only-of-type {\n",
              "        vertical-align: middle;\n",
              "    }\n",
              "\n",
              "    .dataframe tbody tr th {\n",
              "        vertical-align: top;\n",
              "    }\n",
              "\n",
              "    .dataframe thead th {\n",
              "        text-align: right;\n",
              "    }\n",
              "</style>\n",
              "<table border=\"1\" class=\"dataframe\">\n",
              "  <thead>\n",
              "    <tr style=\"text-align: right;\">\n",
              "      <th></th>\n",
              "      <th>segmentacion_etaria</th>\n",
              "      <th>customer_age</th>\n",
              "    </tr>\n",
              "  </thead>\n",
              "  <tbody>\n",
              "    <tr>\n",
              "      <th>134542</th>\n",
              "      <td>Persona Mayor</td>\n",
              "      <td>60.0</td>\n",
              "    </tr>\n",
              "    <tr>\n",
              "      <th>95584</th>\n",
              "      <td>Adulto</td>\n",
              "      <td>30.0</td>\n",
              "    </tr>\n",
              "    <tr>\n",
              "      <th>361837</th>\n",
              "      <td>Adulto</td>\n",
              "      <td>50.0</td>\n",
              "    </tr>\n",
              "    <tr>\n",
              "      <th>168134</th>\n",
              "      <td>Persona Mayor</td>\n",
              "      <td>60.0</td>\n",
              "    </tr>\n",
              "    <tr>\n",
              "      <th>1039001</th>\n",
              "      <td>Adulto</td>\n",
              "      <td>40.0</td>\n",
              "    </tr>\n",
              "  </tbody>\n",
              "</table>\n",
              "</div>\n",
              "      <button class=\"colab-df-convert\" onclick=\"convertToInteractive('df-0c7ed60f-88dd-45dc-a6e2-27f3976ca7ff')\"\n",
              "              title=\"Convert this dataframe to an interactive table.\"\n",
              "              style=\"display:none;\">\n",
              "        \n",
              "  <svg xmlns=\"http://www.w3.org/2000/svg\" height=\"24px\"viewBox=\"0 0 24 24\"\n",
              "       width=\"24px\">\n",
              "    <path d=\"M0 0h24v24H0V0z\" fill=\"none\"/>\n",
              "    <path d=\"M18.56 5.44l.94 2.06.94-2.06 2.06-.94-2.06-.94-.94-2.06-.94 2.06-2.06.94zm-11 1L8.5 8.5l.94-2.06 2.06-.94-2.06-.94L8.5 2.5l-.94 2.06-2.06.94zm10 10l.94 2.06.94-2.06 2.06-.94-2.06-.94-.94-2.06-.94 2.06-2.06.94z\"/><path d=\"M17.41 7.96l-1.37-1.37c-.4-.4-.92-.59-1.43-.59-.52 0-1.04.2-1.43.59L10.3 9.45l-7.72 7.72c-.78.78-.78 2.05 0 2.83L4 21.41c.39.39.9.59 1.41.59.51 0 1.02-.2 1.41-.59l7.78-7.78 2.81-2.81c.8-.78.8-2.07 0-2.86zM5.41 20L4 18.59l7.72-7.72 1.47 1.35L5.41 20z\"/>\n",
              "  </svg>\n",
              "      </button>\n",
              "      \n",
              "  <style>\n",
              "    .colab-df-container {\n",
              "      display:flex;\n",
              "      flex-wrap:wrap;\n",
              "      gap: 12px;\n",
              "    }\n",
              "\n",
              "    .colab-df-convert {\n",
              "      background-color: #E8F0FE;\n",
              "      border: none;\n",
              "      border-radius: 50%;\n",
              "      cursor: pointer;\n",
              "      display: none;\n",
              "      fill: #1967D2;\n",
              "      height: 32px;\n",
              "      padding: 0 0 0 0;\n",
              "      width: 32px;\n",
              "    }\n",
              "\n",
              "    .colab-df-convert:hover {\n",
              "      background-color: #E2EBFA;\n",
              "      box-shadow: 0px 1px 2px rgba(60, 64, 67, 0.3), 0px 1px 3px 1px rgba(60, 64, 67, 0.15);\n",
              "      fill: #174EA6;\n",
              "    }\n",
              "\n",
              "    [theme=dark] .colab-df-convert {\n",
              "      background-color: #3B4455;\n",
              "      fill: #D2E3FC;\n",
              "    }\n",
              "\n",
              "    [theme=dark] .colab-df-convert:hover {\n",
              "      background-color: #434B5C;\n",
              "      box-shadow: 0px 1px 3px 1px rgba(0, 0, 0, 0.15);\n",
              "      filter: drop-shadow(0px 1px 2px rgba(0, 0, 0, 0.3));\n",
              "      fill: #FFFFFF;\n",
              "    }\n",
              "  </style>\n",
              "\n",
              "      <script>\n",
              "        const buttonEl =\n",
              "          document.querySelector('#df-0c7ed60f-88dd-45dc-a6e2-27f3976ca7ff button.colab-df-convert');\n",
              "        buttonEl.style.display =\n",
              "          google.colab.kernel.accessAllowed ? 'block' : 'none';\n",
              "\n",
              "        async function convertToInteractive(key) {\n",
              "          const element = document.querySelector('#df-0c7ed60f-88dd-45dc-a6e2-27f3976ca7ff');\n",
              "          const dataTable =\n",
              "            await google.colab.kernel.invokeFunction('convertToInteractive',\n",
              "                                                     [key], {});\n",
              "          if (!dataTable) return;\n",
              "\n",
              "          const docLinkHtml = 'Like what you see? Visit the ' +\n",
              "            '<a target=\"_blank\" href=https://colab.research.google.com/notebooks/data_table.ipynb>data table notebook</a>'\n",
              "            + ' to learn more about interactive tables.';\n",
              "          element.innerHTML = '';\n",
              "          dataTable['output_type'] = 'display_data';\n",
              "          await google.colab.output.renderOutput(dataTable, element);\n",
              "          const docLink = document.createElement('div');\n",
              "          docLink.innerHTML = docLinkHtml;\n",
              "          element.appendChild(docLink);\n",
              "        }\n",
              "      </script>\n",
              "    </div>\n",
              "  </div>\n",
              "  "
            ]
          },
          "metadata": {},
          "execution_count": 68
        }
      ]
    },
    {
      "cell_type": "markdown",
      "id": "576f4495",
      "metadata": {
        "cell_id": "00007-d1ce17da-f6e0-4c12-bbe8-a40a46e7371b",
        "deepnote_cell_type": "markdown",
        "tags": [],
        "id": "576f4495"
      },
      "source": [
        "## 3. Análisis Exploratorio de Datos"
      ]
    },
    {
      "cell_type": "code",
      "execution_count": null,
      "id": "943cbe73",
      "metadata": {
        "vscode": {
          "languageId": "plaintext"
        },
        "id": "943cbe73"
      },
      "outputs": [],
      "source": [
        "!pip install ydata_profiling"
      ]
    },
    {
      "cell_type": "code",
      "execution_count": null,
      "id": "27056a96",
      "metadata": {
        "vscode": {
          "languageId": "plaintext"
        },
        "id": "27056a96"
      },
      "outputs": [],
      "source": [
        "from ydata_profiling import ProfileReport\n",
        "\n",
        "profile = ProfileReport(df, title=\"EDA\")\n",
        "profile.to_file(\"eda.html\")"
      ]
    },
    {
      "cell_type": "markdown",
      "id": "9faaf197",
      "metadata": {
        "id": "9faaf197"
      },
      "source": [
        "### 3.1 Análisis del EDA"
      ]
    },
    {
      "cell_type": "code",
      "execution_count": null,
      "id": "74869edc",
      "metadata": {
        "vscode": {
          "languageId": "plaintext"
        },
        "id": "74869edc"
      },
      "outputs": [],
      "source": [
        "..."
      ]
    },
    {
      "cell_type": "markdown",
      "id": "66c034e4",
      "metadata": {
        "cell_id": "00010-41569a5a-d2db-40c6-a236-99a8d5ef58b7",
        "deepnote_cell_type": "markdown",
        "id": "66c034e4"
      },
      "source": [
        "## 4. Preprocesamiento"
      ]
    },
    {
      "cell_type": "markdown",
      "id": "95c8cf73",
      "metadata": {
        "id": "95c8cf73"
      },
      "source": [
        "### 4.1 Declarar `ColumnTransformer`"
      ]
    },
    {
      "cell_type": "code",
      "execution_count": null,
      "id": "f1799cb4",
      "metadata": {
        "vscode": {
          "languageId": "plaintext"
        },
        "id": "f1799cb4"
      },
      "outputs": [],
      "source": [
        "..."
      ]
    },
    {
      "cell_type": "markdown",
      "id": "1a23ec24",
      "metadata": {
        "id": "1a23ec24"
      },
      "source": [
        "### 4.2 Transformar datos"
      ]
    },
    {
      "cell_type": "code",
      "execution_count": null,
      "id": "749ab504",
      "metadata": {
        "vscode": {
          "languageId": "plaintext"
        },
        "id": "749ab504"
      },
      "outputs": [],
      "source": [
        "..."
      ]
    },
    {
      "cell_type": "markdown",
      "id": "40b95e20-857d-4e29-8071-0071dfd3f62f",
      "metadata": {
        "id": "40b95e20-857d-4e29-8071-0071dfd3f62f"
      },
      "source": [
        "## 5. Visualización en Baja Dimensionalidad"
      ]
    },
    {
      "cell_type": "markdown",
      "id": "8f55ee74",
      "metadata": {
        "id": "8f55ee74"
      },
      "source": [
        "### 5.1 Muestrear dataframe"
      ]
    },
    {
      "cell_type": "code",
      "execution_count": null,
      "id": "b7e169dd",
      "metadata": {
        "vscode": {
          "languageId": "plaintext"
        },
        "id": "b7e169dd"
      },
      "outputs": [],
      "source": [
        "..."
      ]
    },
    {
      "cell_type": "markdown",
      "id": "a699143c",
      "metadata": {
        "id": "a699143c"
      },
      "source": [
        "### 5.2 Proyectar y agregar proyecciones al dataframe de muestreo"
      ]
    },
    {
      "cell_type": "code",
      "execution_count": null,
      "id": "bbbe5843",
      "metadata": {
        "vscode": {
          "languageId": "plaintext"
        },
        "id": "bbbe5843"
      },
      "outputs": [],
      "source": [
        "..."
      ]
    },
    {
      "cell_type": "markdown",
      "id": "491bdaf7",
      "metadata": {
        "id": "491bdaf7"
      },
      "source": [
        "### 5.3 Visualizar según rangos etarios"
      ]
    },
    {
      "cell_type": "code",
      "execution_count": null,
      "id": "d94ac394",
      "metadata": {
        "vscode": {
          "languageId": "plaintext"
        },
        "id": "d94ac394"
      },
      "outputs": [],
      "source": [
        "..."
      ]
    },
    {
      "cell_type": "markdown",
      "id": "ca2ac9bc-c472-49d6-81fc-ccfd2a07b92e",
      "metadata": {
        "id": "ca2ac9bc-c472-49d6-81fc-ccfd2a07b92e"
      },
      "source": [
        "## 6. Anomalías"
      ]
    },
    {
      "cell_type": "markdown",
      "id": "723aa232",
      "metadata": {
        "id": "723aa232"
      },
      "source": [
        "### 6.1 Implementar detector de anomalías sobre dataframe de muestreo"
      ]
    },
    {
      "cell_type": "code",
      "execution_count": null,
      "id": "3bf5300b",
      "metadata": {
        "vscode": {
          "languageId": "plaintext"
        },
        "id": "3bf5300b"
      },
      "outputs": [],
      "source": [
        "..."
      ]
    },
    {
      "cell_type": "markdown",
      "id": "e9a26f75",
      "metadata": {
        "id": "e9a26f75"
      },
      "source": [
        "### 6.2 Agregar resultados a dataframe de muestreo"
      ]
    },
    {
      "cell_type": "code",
      "execution_count": null,
      "id": "ae3a3402",
      "metadata": {
        "vscode": {
          "languageId": "plaintext"
        },
        "id": "ae3a3402"
      },
      "outputs": [],
      "source": [
        "..."
      ]
    },
    {
      "cell_type": "markdown",
      "id": "31faab8b",
      "metadata": {
        "id": "31faab8b"
      },
      "source": [
        "### 6.3 Visualizar según rangos etarios"
      ]
    },
    {
      "cell_type": "code",
      "execution_count": null,
      "id": "b9f67978",
      "metadata": {
        "vscode": {
          "languageId": "plaintext"
        },
        "id": "b9f67978"
      },
      "outputs": [],
      "source": [
        "..."
      ]
    },
    {
      "cell_type": "markdown",
      "id": "61449e87",
      "metadata": {
        "id": "61449e87"
      },
      "source": [
        "### 6.4 Calcular ratios y responder"
      ]
    },
    {
      "cell_type": "code",
      "execution_count": null,
      "id": "fd07169f",
      "metadata": {
        "vscode": {
          "languageId": "plaintext"
        },
        "id": "fd07169f"
      },
      "outputs": [],
      "source": [
        "..."
      ]
    }
  ],
  "metadata": {
    "deepnote": {},
    "deepnote_execution_queue": [],
    "deepnote_notebook_id": "cd4ffb8b-90a0-4648-9d80-2b8c0eef5325",
    "kernelspec": {
      "display_name": "Python 3 (ipykernel)",
      "language": "python",
      "name": "python3"
    },
    "language_info": {
      "codemirror_mode": {
        "name": "ipython",
        "version": 3
      },
      "file_extension": ".py",
      "mimetype": "text/x-python",
      "name": "python",
      "nbconvert_exporter": "python",
      "pygments_lexer": "ipython3",
      "version": "3.10.9"
    },
    "colab": {
      "provenance": [],
      "toc_visible": true
    }
  },
  "nbformat": 4,
  "nbformat_minor": 5
}