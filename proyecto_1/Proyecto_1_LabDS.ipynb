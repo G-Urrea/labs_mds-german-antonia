{
  "cells": [
    {
      "cell_type": "markdown",
      "id": "78c19fa0-2f05-4339-8a2b-cdc09c68b975",
      "metadata": {
        "id": "78c19fa0-2f05-4339-8a2b-cdc09c68b975"
      },
      "source": [
        "![](https://www.dii.uchile.cl/wp-content/uploads/2021/06/Magi%CC%81ster-en-Ciencia-de-Datos.png)"
      ]
    },
    {
      "cell_type": "markdown",
      "id": "3a560a74",
      "metadata": {
        "cell_id": "00000-f53914fc-294a-4bd9-ab99-c7f9f7e072d9",
        "deepnote_cell_type": "markdown",
        "id": "3a560a74"
      },
      "source": [
        "# Proyecto: Innovación Tecnológica en Bodoque Bank\n",
        "\n",
        "**MDS7202: Laboratorio de Programación Científica para Ciencia de Datos**\n",
        "\n",
        "### Cuerpo Docente:\n",
        "\n",
        "- Profesor: Pablo Badilla, Ignacio Meza De La Jara\n",
        "- Auxiliar: Sebastián Tinoco\n",
        "- Ayudante: Diego Cortez M., Felipe Arias T.\n",
        "\n",
        "*Por favor, lean detalladamente las instrucciones de la tarea antes de empezar a escribir.*\n"
      ]
    },
    {
      "cell_type": "markdown",
      "id": "59ff9d5b",
      "metadata": {
        "cell_id": "00001-7e639802-19f7-4bbe-9a97-e312f613a693",
        "deepnote_cell_type": "markdown",
        "id": "59ff9d5b"
      },
      "source": [
        "----\n",
        "\n",
        "## Reglas\n",
        "\n",
        "- Fecha de entrega: 01/06/2021\n",
        "- **Grupos de 2 personas.**\n",
        "- Cualquier duda fuera del horario de clases al foro. Mensajes al equipo docente serán respondidos por este medio.\n",
        "- Estrictamente prohibida la copia. \n",
        "- Pueden usar cualquier material del curso que estimen conveniente."
      ]
    },
    {
      "cell_type": "markdown",
      "id": "b020ce37",
      "metadata": {
        "cell_id": "00002-bf13ea5a-d8bf-4cee-879e-ba1c7035e657",
        "deepnote_cell_type": "markdown",
        "id": "b020ce37"
      },
      "source": [
        "# Motivación\n",
        "\n",
        "![](https://www.geekmi.news/__export/1621969098810/sites/debate/img/2021/05/25/juan-carlos-bodoque-1.jpg_554688468.jpg)\n",
        "\n",
        "Juan Carlos Bodoque, el famoso periodista y empresario, decidió diversificar su portafolio de negocios y crear su propio banco. Después de varios años de investigar y analizar el mercado financiero, finalmente logró fundar su entidad bancaria con el objetivo de ofrecer a sus clientes una experiencia personalizada y confiable en sus transacciones financieras. \n",
        "\n",
        "Sin embargo, con las nuevas tecnologías, aparecen nuevos desafíos para la joven entidad bancaria. Por ello, Bodoque decide invertir en un equipo de expertos en tecnología y finanzas, para que Bodoque Bank implemente las últimas innovaciones en seguridad y servicio al cliente para garantizar la satisfacción y fidelización de sus clientes.\n",
        "\n",
        "El primer objetivo de la entidad bancaria será la detección de potenciales clientes fraudulentos, para ello Bodoque Bank les hace entrega de un extenso dataset en el que se registran las actividades que han realizado sus clientes durante los últimos meses. Uno de los puntos que resaltan al pasar el conjunto de datos es que el nombre de los usuarios está protegido y que consideren cada una de las filas como una muestra independiente de la otra.\n",
        "\n",
        "Tras la solicitud, uno de los mayores accionistas del banco llamado Mario Hugo, les sugiere que al momento de realizar el proyecto tomen las siguientes consideraciones:\n",
        "\n",
        "- Realicen un análisis exhaustivo de cada variable, ya que los directores tienden a ser quisquillosos con puntos o definiciones sin algún fundamento claro.\n",
        "- Deben ser muy claros de cómo encontrar los outliers y si es posible expliquen cómo están determinando que un cliente es fraudulento.\n",
        "- Es muy probable que existan clientes con diferentes comportamientos bancarios, por lo que sería muy buena decisión de separar a los clientes en grupos etarios.\n"
      ]
    },
    {
      "cell_type": "markdown",
      "id": "1223ca1b",
      "metadata": {
        "cell_id": "00003-a5045731-0c9e-47a1-ae7b-243d8603e70b",
        "deepnote_cell_type": "markdown",
        "tags": [],
        "id": "1223ca1b"
      },
      "source": [
        "### Definición Formal del Problema\n",
        "\n",
        "El dataset con el que se trabajará en este primer proyecto será [_The Bank Account Fraud (BAF)_](https://www.kaggle.com/datasets/sgpjesus/bank-account-fraud-dataset-neurips-2022). Este consiste en un dataset para evaluar métodos de detección de fraudes bancarios, el cuál según sus autores es:\n",
        "\n",
        "- Realista: Se basa en un actualizado dataset de casos reales de detección de fraude bancario.\n",
        "- Sesgado: Poseen distintos tipos de bias.\n",
        "- Desbalanceado: Clase positiva extremadamente pequeña.\n",
        "- Dinámico: Presenta datos temporales y cambios de distribución.\n",
        "- Preserva la privacidad: Protege a los potenciales clientes a través de la aplicación de privacidad diferencial.\n",
        "\n",
        "El proyecto tiene por objetivo evaluar los conocimientos adquiridos en la primera mitad del curso, consistente en manejo de datos tabulares (I/O, manipulación, agregaciones, merge y visualizaciones) más la primera parte de modelos consistente en preprocesamiento de datos y detección de anomalías. Por ende, el proyecto consiste en dos tareas principales:\n",
        "\n",
        "1. Generar un Análisis exploratorio de Datos (EDA) que describa completamente el dataset.\n",
        "2. Buscar anomalías de forma automatizada.\n",
        "\n",
        "**Importante:** Esta permitido el uso de librerías externas a las vistas en clases para profundizar aún mas en los análisis. Sin embargo, al momento de utilizar cualqueir metodo deberán explicar que hace y el porque de su aplicación.\n"
      ]
    },
    {
      "cell_type": "markdown",
      "id": "f4771943",
      "metadata": {
        "cell_id": "00003-3cb3d532-0223-4021-869f-4b03ea06b875",
        "deepnote_cell_type": "markdown",
        "id": "f4771943"
      },
      "source": [
        "---\n",
        "\n",
        "## Secciones requeridas en la entrega\n",
        "\n",
        "La siguiente lista detalla las secciones que debe contener su notebook para resolver el proyecto. Es importante que al momento de desarrollar cada una de las secciones, estas sean escritas en un formato tipo **informe**, donde describan detalladamente cada uno de los puntos realizados.\n",
        "\n",
        "### 1. Introducción [0.5 Puntos]\n",
        "\n",
        "Elaborar una breve introducción con todo lo necesario para entender qué realizarán durante su proyecto. La idea es que describan de manera formal el proyecto con sus propias palabras y logren describir algunos aspectos básicos tanto del dataset como del análisis a realizar sobre los datos.\n",
        "\n",
        "Por lo anterior, en esta sección ustedes deberán ser capaces de:\n",
        "\n",
        "- Describir la tarea asociada al dataset.\n",
        "- Describir brevemente los datos de entrada que les provee el problema.\n",
        "- Plantear hipótesis de cómo podrían abordar el problema.\n",
        "\n",
        "### 2. Lectura y Manejo de Datos [1 Punto]\n",
        "\n",
        "Este punto tiene por objetivo evaluar la capacidad de leer y manejar distintas fuentes de datos y unirlas.\n",
        "Para esto, se les provee de 3 datasets distintos: \n",
        "\n",
        "- `df_1.parquet` que contiene una cierta cantidad de ejemplos.\n",
        "- `df_2.parquet` que contiene el resto de los ejemplos.\n",
        "- `df_email_phone.parquet` que contiene características exclusivas relacionadas a los emails y teléfonos de los ejemplos.\n",
        "\n",
        "Tanto `df_1` como `df_2` son dataframes que contienen conjuntos (no necesariamente disjuntos) de ejemplos obtenidos a partir de distintas fuentes (la primera más confiable que la segunda)  mientras que `df_email_phone` contiene nuevas características que deben ser fusionadas con el conjunto de ejemplos.\n",
        "Dicho esto, para este punto se le solicita:\n",
        "\n",
        "1. Cargar los datasets usando pandas.\n",
        "2. Explorar superficialmente los datsets por medio de `.head(5)` e `.info()` y reportar número de filas y columnas de cada dataset.\n",
        "3. Unir los datasets con los conjuntos de ejemplos en un único dataset.\n",
        "4. Combinar el datasets con ejemplos con las nuevas características usando la estrategia `outer`.\n",
        "5. Explorar nulos y duplicados de datos (i.e., generar conteos de cada uno y ver algunos de sus ejemplos), explicar su origen y entregar una solución sencilla a estos casos.\n",
        "6. Limpiar datos y reportar modificaciones a los datasets originales (cuántos ejemplos se eliminaron, cuántos ejemplos quedaron finalmente, etc...).\n",
        "7. Realizar una segmentación etaria de los datos creando una columna llamada `segmentacion_etaria` para clasificar a los diferentes usuarios. Para la segmentación utilice los siguientes rangos:\n",
        "   - Joven (Menor a 18 años)\n",
        "   - Adulto-Joven (18 - 26 años)\n",
        "   - Adulto (27- 59 años)\n",
        "   - Persona Mayor (60 años o mas).\n",
        "\n",
        "\n",
        "### 3. Análisis Exploratorio de Datos [1 Punto]\n",
        "\n",
        "Esta sección se busca evaluar la capacidad de generar reportes y conclusiones a partir de los patrones observados en estos.\n",
        "\n",
        "- Utilizando `pandas-profiling` (nombre de la librería: `ydata-profiling`), explore:\n",
        "\n",
        "    * Analizar cantidad de datos nulos, tipos de datos, duplicados, distribuciones de las variables a través de histogramas.\n",
        "    * Generar visualizaciones de las interacciones (como por ejemplo, una scatter matrix) en las distintas variables.\n",
        "    * Ver las correlaciones entre las distintas variables y los valores faltantes de cada una de estas. \n",
        "    * Reportar los patrones interesantes observados. Ejemplos:\n",
        "        - Se observó que las variables numéricas A, B y C siguen una distribución normal / exponencial / logarítmica / no presenta distribución conocida debido a que (usar información sobre el descripción de cada variable)....\n",
        "        - La mayoría de los ejemplos de las variables I, J y K tienen valor 0.\n",
        "        - La variable M presenta gran cantidad de outliers.\n",
        "        - Se observó que las variables categóricas E y F están bien balanceadas / presentan un gran desbalance.\n",
        "        - Del gráfico de correlaciones se puede inferir que X, Y y Z tienen una correlación alta/baja entre ellas.\n",
        "\n",
        "\n",
        "\n",
        "### 4. Preparación de Datos [1 Punto]\n",
        "\n",
        "*Esta sección consiste en generar los distintos pasos para preparar sus datos con el fin de luego poder crear su modelo.*\n",
        "\n",
        "Dentro de los aspectos minimos que se les solicitarán en este desarrollo estan:\n",
        "\n",
        "- Definir preprocesadores para datos categóricos y ordinales.\n",
        "- Setear las transformaciones en un `ColumnTransformer`.\n",
        "- Transformar todo el datset.\n",
        "\n",
        "**Notas**: \n",
        "\n",
        "- Las variables `id` y `fraud_bool` no deben ser transformadas, pero si pasadas a la siguiente etapa. (Estudiar la transformación `passthrough`).\n",
        "- La salida de la transformación debe ser un pandas dataframe. Para esto, investiguen acerca de la nueva [`set_output` API](https://scikit-learn.org/stable/auto_examples/miscellaneous/plot_set_output.html). Si se levanta un error por matriz sparse, desactiven su uso en la transformación correspondiente.\n",
        "\n",
        "### 5. Visualización en baja dimensionalidad [1 Punto]\n",
        "\n",
        "Programar un script para proyectar los datos en baja dimensionalidad usando `PCA` o `UMAP`.\n",
        "\n",
        "**Notas**: \n",
        "\n",
        "- Para realizar las proyecciones no consideren la variable `fraud_bool`, ya que esto provocaría un _data leakage_ (i.e., usar información del futuro para analizar el mismo fenómeno que quieren descubrir).\n",
        "- Utilice un muestreo significativo del dataframe (10k a 25k ejemplos) para generar las proyecciones. De lo contrario, probablemente el proyector no sea capaz de asignar todos los recursos necesarios y lance alguna excepción.\n",
        "\n",
        "Luego, por cada segmento etario generado en la sección 2, implemente un gráfico de dispersión (idealmente en plotly express) la proyección en 2D generada y coloree cada punto según la etiqueta `fraud_bool`.\n",
        "\n",
        "Reportar si existen patrones y/o relaciones interesantes con respecto a variables de interés.\n",
        "\n",
        "\n",
        "### 6. Explorar Anomalías [1.5 Puntos]\n",
        "\n",
        "Proponer una técnica para detectar clientes fraudulentos en base a detección de anomalías. \n",
        "Al igual que el punto anterior, la técnica que proponga debe ser aplicada por separado en los diferentes segmentos etarios descritos en el punto 2 (es decir, debe entrenar un detector de anomalías para cada uno de estos grupos). \n",
        "\n",
        "Luego, al igual que el punto anterior, genere un gráfico de dispersión con las proyecciones 2D en donde el coloreado sea ahora las etiquetas predichas por el detector de anomalías.\n",
        "\n",
        "Por último, usando queries de numpy/pandas, calcule dos ratios (P y R):\n",
        "\n",
        "- P: Cantidad de ejemplos predichos correctamente como fraude / cantidad total de datos predichos como fraude.\n",
        "- R: Cantidad de ejemplos predichos correctamente como fraude / cantidad total de ejemplos que eran realmente fraude.\n",
        "\n",
        "\n",
        "De los resultados obtenidos responda las siguientes preguntas:\n",
        "\n",
        "- ¿Qué significan los ratios y sus valores?\n",
        "- ¿Qué tan correctas fueron las predicciones realizadas por su modelo según los ratios calculados?\n",
        "- ¿Son coherentes los resultados obtenidos?.\n",
        "- ¿Cómo se comportan los casos de fraudes para los diferentes rangos etarios?\n",
        "\n",
        "Justifique cada una de sus respuestas."
      ]
    },
    {
      "cell_type": "markdown",
      "id": "9b045cec",
      "metadata": {
        "cell_id": "00004-2c33dfb6-7731-4252-a108-cec08f45ddf9",
        "deepnote_cell_type": "markdown",
        "id": "9b045cec"
      },
      "source": [
        "---\n",
        "\n",
        "## Esquema de la Tarea\n",
        "\n",
        "\n",
        "Pueden usar el siguiente esquema para organizar la tarea (y borrar todo lo anterior).\n",
        "Obviamente **no deben limitarse a lo que está escrito en esta**: puede incrementar en caso de más técnicas y obviar algunas partes en caso que alguna y otro punto no aplique a su problema.\n",
        "\n",
        "Pueden borrar las instrucciones anteriores y quedarse solo con lo que viene a continuación.\n",
        "\n",
        "---\n",
        "<br>\n",
        "\n",
        "<br>\n",
        "\n",
        "<br>"
      ]
    },
    {
      "cell_type": "markdown",
      "id": "d8c982ca",
      "metadata": {
        "cell_id": "00005-7921fb53-59e9-49a1-a5a5-dec92da88299",
        "deepnote_cell_type": "markdown",
        "tags": [],
        "id": "d8c982ca"
      },
      "source": [
        "\n",
        "\n",
        "# Proyecto\n",
        "\n",
        "### Equipo:\n",
        "\n",
        "- Germán Urrea\n",
        "- Antonia Villegas\n",
        "\n",
        "\n",
        "### Link de repositorio de GitHub: `\\<http://....\\>`\n",
        "\n"
      ]
    },
    {
      "cell_type": "markdown",
      "id": "046cceb7",
      "metadata": {
        "cell_id": "00006-200f2a79-7517-4226-8a5b-438553fa1b13",
        "deepnote_cell_type": "markdown",
        "id": "046cceb7"
      },
      "source": [
        "\n",
        "## 1. Introducción\n"
      ]
    },
    {
      "cell_type": "markdown",
      "source": [
        "*Introducción callampa, se puede expandir o cambiar (pero ser breve iwi)*"
      ],
      "metadata": {
        "id": "TRd-utb47PnU"
      },
      "id": "TRd-utb47PnU"
    },
    {
      "cell_type": "markdown",
      "source": [
        "El banco **Bodoque Bank**, del famoso empresario Juan Carlos Bodoque, quiere detectar a posibles clientes fraudulentos. Es por esta razón que proporciona un dataset con información sobre sus clientes y su actividad bancaria reciente, sin exponer ningún tipo de información personal delicada de forma explicita.\n",
        "\n",
        "Los datos de entrada se dividen entre 3 archivos. Dos de de estos archivos contienen el mismo tipo de información, correspondiente a caracteristicas generales de los clientes y su actividad bancaria. El tercer archivo contiene datos sobre la información de contacto de los clientes.\n",
        "\n",
        "Para abordar este problema primero hay que unificar los archivos y limpiar los datos para crear una base de datos apta para el trabajo. Posteriormente se debe realizar una exploración y comprensión sobre los datos, para poder identificar las variables relevantes en la detección de fraude, así como encontrar posibles tendencias en los datos. Por último, a partir del paso anterior, se deberían definir indicadores relevantes para sospechar de un cliente por posible fraude bancario."
      ],
      "metadata": {
        "id": "SR87FlnP3rh2"
      },
      "id": "SR87FlnP3rh2"
    },
    {
      "cell_type": "markdown",
      "id": "720c912c-e759-4258-8085-5b3a0f4a3027",
      "metadata": {
        "jp-MarkdownHeadingCollapsed": true,
        "tags": [],
        "id": "720c912c-e759-4258-8085-5b3a0f4a3027"
      },
      "source": [
        "## 2. Lectura y Manejo de Datos\n",
        "\n",
        "\n"
      ]
    },
    {
      "cell_type": "markdown",
      "id": "3c72c649-c228-43dd-adfd-16e3896203f3",
      "metadata": {
        "id": "3c72c649-c228-43dd-adfd-16e3896203f3"
      },
      "source": [
        "### 2.1 Cargar datos en dataframes"
      ]
    },
    {
      "cell_type": "code",
      "execution_count": 1,
      "id": "74ce9ab5",
      "metadata": {
        "vscode": {
          "languageId": "plaintext"
        },
        "id": "74ce9ab5"
      },
      "outputs": [],
      "source": [
        "import pandas as pd\n",
        "from IPython.display import display"
      ]
    },
    {
      "cell_type": "markdown",
      "source": [
        "El primer paso es leer los datos, para ello de opta por leer los datos directamente desde su fuente en internet y cargarlos en dataframes."
      ],
      "metadata": {
        "id": "dhsFCY6zy8FO"
      },
      "id": "dhsFCY6zy8FO"
    },
    {
      "cell_type": "code",
      "source": [
        "# To do: Código para descargar datos si no se encuentran en local (y así no leer desde internet a cada rato (?))\n",
        "# Obtener datos directamente de repos\n",
        "df_1 = pd.read_parquet('https://gitlab.com/imezadelajara/datos_proyecto_1_mds7202/-/raw/main/df_1.parquet')\n",
        "df_2 = pd.read_parquet('https://gitlab.com/imezadelajara/datos_proyecto_1_mds7202/-/raw/main/df_2.parquet')\n",
        "df_email_phone = pd.read_parquet('https://gitlab.com/imezadelajara/datos_proyecto_1_mds7202/-/raw/main/df_email_phone.parquet')"
      ],
      "metadata": {
        "id": "AIuCKeM7avbZ"
      },
      "id": "AIuCKeM7avbZ",
      "execution_count": 2,
      "outputs": []
    },
    {
      "cell_type": "markdown",
      "id": "e6af3714-cc14-495a-8757-115e7cde7d31",
      "metadata": {
        "id": "e6af3714-cc14-495a-8757-115e7cde7d31"
      },
      "source": [
        "### 2.2 Exploración inicial"
      ]
    },
    {
      "cell_type": "markdown",
      "source": [
        "Una vez cargados los datos en dataframes, se procede a realizar una exploración superficial de estos. La exploración consiste principalmente en revisar las columnas, número de entradas, y una pequeña muestra de cada dataframe."
      ],
      "metadata": {
        "id": "Ab1uAAqNzeQJ"
      },
      "id": "Ab1uAAqNzeQJ"
    },
    {
      "cell_type": "code",
      "execution_count": 3,
      "id": "8469fe2a",
      "metadata": {
        "vscode": {
          "languageId": "plaintext"
        },
        "colab": {
          "base_uri": "https://localhost:8080/",
          "height": 969
        },
        "id": "8469fe2a",
        "outputId": "41ed86bd-191a-4aa6-9d1f-43c29930ff00"
      },
      "outputs": [
        {
          "output_type": "stream",
          "name": "stdout",
          "text": [
            "<class 'pandas.core.frame.DataFrame'>\n",
            "Int64Index: 389782 entries, 104446 to 193209\n",
            "Data columns (total 29 columns):\n",
            " #   Column                        Non-Null Count   Dtype  \n",
            "---  ------                        --------------   -----  \n",
            " 0   id                            389782 non-null  int64  \n",
            " 1   fraud_bool                    389782 non-null  int64  \n",
            " 2   income                        389782 non-null  float64\n",
            " 3   prev_address_months_count     389782 non-null  int64  \n",
            " 4   current_address_months_count  389782 non-null  int64  \n",
            " 5   customer_age                  389782 non-null  int64  \n",
            " 6   days_since_request            389782 non-null  float64\n",
            " 7   intended_balcon_amount        389782 non-null  float64\n",
            " 8   payment_type                  389782 non-null  object \n",
            " 9   zip_count_4w                  389782 non-null  int64  \n",
            " 10  velocity_6h                   389782 non-null  float64\n",
            " 11  velocity_24h                  389782 non-null  float64\n",
            " 12  velocity_4w                   389782 non-null  float64\n",
            " 13  bank_branch_count_8w          389782 non-null  int64  \n",
            " 14  employment_status             389782 non-null  object \n",
            " 15  credit_risk_score             389782 non-null  int64  \n",
            " 16  housing_status                389782 non-null  object \n",
            " 17  bank_months_count             389782 non-null  int64  \n",
            " 18  has_other_cards               389782 non-null  int64  \n",
            " 19  proposed_credit_limit         389782 non-null  float64\n",
            " 20  foreign_request               389782 non-null  int64  \n",
            " 21  source                        389782 non-null  object \n",
            " 22  session_length_in_minutes     389782 non-null  float64\n",
            " 23  device_os                     389782 non-null  object \n",
            " 24  keep_alive_session            389782 non-null  int64  \n",
            " 25  device_fraud_count            389782 non-null  int64  \n",
            " 26  month                         389782 non-null  int64  \n",
            " 27  x1                            389782 non-null  float64\n",
            " 28  x2                            389782 non-null  float64\n",
            "dtypes: float64(10), int64(14), object(5)\n",
            "memory usage: 89.2+ MB\n",
            "None\n"
          ]
        },
        {
          "output_type": "execute_result",
          "data": {
            "text/plain": [
              "            id  fraud_bool  income  prev_address_months_count  \\\n",
              "104446  729517           0     0.7                         -1   \n",
              "269483  149585           0     0.8                         -1   \n",
              "4102     64486           0     0.9                         -1   \n",
              "351767  825283           0     0.5                         -1   \n",
              "126377    8308           0     0.9                         -1   \n",
              "\n",
              "        current_address_months_count  customer_age  days_since_request  \\\n",
              "104446                           305            60            0.030059   \n",
              "269483                           140            50            0.015659   \n",
              "4102                             171            50            0.001409   \n",
              "351767                            85            30            0.027292   \n",
              "126377                            39            30            0.010945   \n",
              "\n",
              "        intended_balcon_amount payment_type  zip_count_4w  ...  \\\n",
              "104446               -1.599455           AC           990  ...   \n",
              "269483                3.951994           AA          1269  ...   \n",
              "4102                 28.159779           AB          4430  ...   \n",
              "351767               -1.310498           AB          1698  ...   \n",
              "126377               -1.450972           AC           569  ...   \n",
              "\n",
              "        proposed_credit_limit  foreign_request    source  \\\n",
              "104446                  500.0                0  INTERNET   \n",
              "269483                  200.0                0  INTERNET   \n",
              "4102                   1500.0                0  INTERNET   \n",
              "351767                  200.0                0  INTERNET   \n",
              "126377                  200.0                0  INTERNET   \n",
              "\n",
              "        session_length_in_minutes device_os  keep_alive_session  \\\n",
              "104446                   8.865992   windows                   0   \n",
              "269483                   4.654872     linux                   1   \n",
              "4102                     3.720953     linux                   1   \n",
              "351767                   2.912670   windows                   1   \n",
              "126377                   2.283680     other                   1   \n",
              "\n",
              "       device_fraud_count  month        x1        x2  \n",
              "104446                  0      2 -0.245425  0.568811  \n",
              "269483                  0      7  0.009336 -2.096682  \n",
              "4102                    0      1  2.229616 -0.005823  \n",
              "351767                  0      3 -0.193945  0.861207  \n",
              "126377                  0      3 -2.440650  0.354986  \n",
              "\n",
              "[5 rows x 29 columns]"
            ],
            "text/html": [
              "\n",
              "  <div id=\"df-c77faa0e-3efa-424e-b407-6a2a83f94ba3\">\n",
              "    <div class=\"colab-df-container\">\n",
              "      <div>\n",
              "<style scoped>\n",
              "    .dataframe tbody tr th:only-of-type {\n",
              "        vertical-align: middle;\n",
              "    }\n",
              "\n",
              "    .dataframe tbody tr th {\n",
              "        vertical-align: top;\n",
              "    }\n",
              "\n",
              "    .dataframe thead th {\n",
              "        text-align: right;\n",
              "    }\n",
              "</style>\n",
              "<table border=\"1\" class=\"dataframe\">\n",
              "  <thead>\n",
              "    <tr style=\"text-align: right;\">\n",
              "      <th></th>\n",
              "      <th>id</th>\n",
              "      <th>fraud_bool</th>\n",
              "      <th>income</th>\n",
              "      <th>prev_address_months_count</th>\n",
              "      <th>current_address_months_count</th>\n",
              "      <th>customer_age</th>\n",
              "      <th>days_since_request</th>\n",
              "      <th>intended_balcon_amount</th>\n",
              "      <th>payment_type</th>\n",
              "      <th>zip_count_4w</th>\n",
              "      <th>...</th>\n",
              "      <th>proposed_credit_limit</th>\n",
              "      <th>foreign_request</th>\n",
              "      <th>source</th>\n",
              "      <th>session_length_in_minutes</th>\n",
              "      <th>device_os</th>\n",
              "      <th>keep_alive_session</th>\n",
              "      <th>device_fraud_count</th>\n",
              "      <th>month</th>\n",
              "      <th>x1</th>\n",
              "      <th>x2</th>\n",
              "    </tr>\n",
              "  </thead>\n",
              "  <tbody>\n",
              "    <tr>\n",
              "      <th>104446</th>\n",
              "      <td>729517</td>\n",
              "      <td>0</td>\n",
              "      <td>0.7</td>\n",
              "      <td>-1</td>\n",
              "      <td>305</td>\n",
              "      <td>60</td>\n",
              "      <td>0.030059</td>\n",
              "      <td>-1.599455</td>\n",
              "      <td>AC</td>\n",
              "      <td>990</td>\n",
              "      <td>...</td>\n",
              "      <td>500.0</td>\n",
              "      <td>0</td>\n",
              "      <td>INTERNET</td>\n",
              "      <td>8.865992</td>\n",
              "      <td>windows</td>\n",
              "      <td>0</td>\n",
              "      <td>0</td>\n",
              "      <td>2</td>\n",
              "      <td>-0.245425</td>\n",
              "      <td>0.568811</td>\n",
              "    </tr>\n",
              "    <tr>\n",
              "      <th>269483</th>\n",
              "      <td>149585</td>\n",
              "      <td>0</td>\n",
              "      <td>0.8</td>\n",
              "      <td>-1</td>\n",
              "      <td>140</td>\n",
              "      <td>50</td>\n",
              "      <td>0.015659</td>\n",
              "      <td>3.951994</td>\n",
              "      <td>AA</td>\n",
              "      <td>1269</td>\n",
              "      <td>...</td>\n",
              "      <td>200.0</td>\n",
              "      <td>0</td>\n",
              "      <td>INTERNET</td>\n",
              "      <td>4.654872</td>\n",
              "      <td>linux</td>\n",
              "      <td>1</td>\n",
              "      <td>0</td>\n",
              "      <td>7</td>\n",
              "      <td>0.009336</td>\n",
              "      <td>-2.096682</td>\n",
              "    </tr>\n",
              "    <tr>\n",
              "      <th>4102</th>\n",
              "      <td>64486</td>\n",
              "      <td>0</td>\n",
              "      <td>0.9</td>\n",
              "      <td>-1</td>\n",
              "      <td>171</td>\n",
              "      <td>50</td>\n",
              "      <td>0.001409</td>\n",
              "      <td>28.159779</td>\n",
              "      <td>AB</td>\n",
              "      <td>4430</td>\n",
              "      <td>...</td>\n",
              "      <td>1500.0</td>\n",
              "      <td>0</td>\n",
              "      <td>INTERNET</td>\n",
              "      <td>3.720953</td>\n",
              "      <td>linux</td>\n",
              "      <td>1</td>\n",
              "      <td>0</td>\n",
              "      <td>1</td>\n",
              "      <td>2.229616</td>\n",
              "      <td>-0.005823</td>\n",
              "    </tr>\n",
              "    <tr>\n",
              "      <th>351767</th>\n",
              "      <td>825283</td>\n",
              "      <td>0</td>\n",
              "      <td>0.5</td>\n",
              "      <td>-1</td>\n",
              "      <td>85</td>\n",
              "      <td>30</td>\n",
              "      <td>0.027292</td>\n",
              "      <td>-1.310498</td>\n",
              "      <td>AB</td>\n",
              "      <td>1698</td>\n",
              "      <td>...</td>\n",
              "      <td>200.0</td>\n",
              "      <td>0</td>\n",
              "      <td>INTERNET</td>\n",
              "      <td>2.912670</td>\n",
              "      <td>windows</td>\n",
              "      <td>1</td>\n",
              "      <td>0</td>\n",
              "      <td>3</td>\n",
              "      <td>-0.193945</td>\n",
              "      <td>0.861207</td>\n",
              "    </tr>\n",
              "    <tr>\n",
              "      <th>126377</th>\n",
              "      <td>8308</td>\n",
              "      <td>0</td>\n",
              "      <td>0.9</td>\n",
              "      <td>-1</td>\n",
              "      <td>39</td>\n",
              "      <td>30</td>\n",
              "      <td>0.010945</td>\n",
              "      <td>-1.450972</td>\n",
              "      <td>AC</td>\n",
              "      <td>569</td>\n",
              "      <td>...</td>\n",
              "      <td>200.0</td>\n",
              "      <td>0</td>\n",
              "      <td>INTERNET</td>\n",
              "      <td>2.283680</td>\n",
              "      <td>other</td>\n",
              "      <td>1</td>\n",
              "      <td>0</td>\n",
              "      <td>3</td>\n",
              "      <td>-2.440650</td>\n",
              "      <td>0.354986</td>\n",
              "    </tr>\n",
              "  </tbody>\n",
              "</table>\n",
              "<p>5 rows × 29 columns</p>\n",
              "</div>\n",
              "      <button class=\"colab-df-convert\" onclick=\"convertToInteractive('df-c77faa0e-3efa-424e-b407-6a2a83f94ba3')\"\n",
              "              title=\"Convert this dataframe to an interactive table.\"\n",
              "              style=\"display:none;\">\n",
              "        \n",
              "  <svg xmlns=\"http://www.w3.org/2000/svg\" height=\"24px\"viewBox=\"0 0 24 24\"\n",
              "       width=\"24px\">\n",
              "    <path d=\"M0 0h24v24H0V0z\" fill=\"none\"/>\n",
              "    <path d=\"M18.56 5.44l.94 2.06.94-2.06 2.06-.94-2.06-.94-.94-2.06-.94 2.06-2.06.94zm-11 1L8.5 8.5l.94-2.06 2.06-.94-2.06-.94L8.5 2.5l-.94 2.06-2.06.94zm10 10l.94 2.06.94-2.06 2.06-.94-2.06-.94-.94-2.06-.94 2.06-2.06.94z\"/><path d=\"M17.41 7.96l-1.37-1.37c-.4-.4-.92-.59-1.43-.59-.52 0-1.04.2-1.43.59L10.3 9.45l-7.72 7.72c-.78.78-.78 2.05 0 2.83L4 21.41c.39.39.9.59 1.41.59.51 0 1.02-.2 1.41-.59l7.78-7.78 2.81-2.81c.8-.78.8-2.07 0-2.86zM5.41 20L4 18.59l7.72-7.72 1.47 1.35L5.41 20z\"/>\n",
              "  </svg>\n",
              "      </button>\n",
              "      \n",
              "  <style>\n",
              "    .colab-df-container {\n",
              "      display:flex;\n",
              "      flex-wrap:wrap;\n",
              "      gap: 12px;\n",
              "    }\n",
              "\n",
              "    .colab-df-convert {\n",
              "      background-color: #E8F0FE;\n",
              "      border: none;\n",
              "      border-radius: 50%;\n",
              "      cursor: pointer;\n",
              "      display: none;\n",
              "      fill: #1967D2;\n",
              "      height: 32px;\n",
              "      padding: 0 0 0 0;\n",
              "      width: 32px;\n",
              "    }\n",
              "\n",
              "    .colab-df-convert:hover {\n",
              "      background-color: #E2EBFA;\n",
              "      box-shadow: 0px 1px 2px rgba(60, 64, 67, 0.3), 0px 1px 3px 1px rgba(60, 64, 67, 0.15);\n",
              "      fill: #174EA6;\n",
              "    }\n",
              "\n",
              "    [theme=dark] .colab-df-convert {\n",
              "      background-color: #3B4455;\n",
              "      fill: #D2E3FC;\n",
              "    }\n",
              "\n",
              "    [theme=dark] .colab-df-convert:hover {\n",
              "      background-color: #434B5C;\n",
              "      box-shadow: 0px 1px 3px 1px rgba(0, 0, 0, 0.15);\n",
              "      filter: drop-shadow(0px 1px 2px rgba(0, 0, 0, 0.3));\n",
              "      fill: #FFFFFF;\n",
              "    }\n",
              "  </style>\n",
              "\n",
              "      <script>\n",
              "        const buttonEl =\n",
              "          document.querySelector('#df-c77faa0e-3efa-424e-b407-6a2a83f94ba3 button.colab-df-convert');\n",
              "        buttonEl.style.display =\n",
              "          google.colab.kernel.accessAllowed ? 'block' : 'none';\n",
              "\n",
              "        async function convertToInteractive(key) {\n",
              "          const element = document.querySelector('#df-c77faa0e-3efa-424e-b407-6a2a83f94ba3');\n",
              "          const dataTable =\n",
              "            await google.colab.kernel.invokeFunction('convertToInteractive',\n",
              "                                                     [key], {});\n",
              "          if (!dataTable) return;\n",
              "\n",
              "          const docLinkHtml = 'Like what you see? Visit the ' +\n",
              "            '<a target=\"_blank\" href=https://colab.research.google.com/notebooks/data_table.ipynb>data table notebook</a>'\n",
              "            + ' to learn more about interactive tables.';\n",
              "          element.innerHTML = '';\n",
              "          dataTable['output_type'] = 'display_data';\n",
              "          await google.colab.output.renderOutput(dataTable, element);\n",
              "          const docLink = document.createElement('div');\n",
              "          docLink.innerHTML = docLinkHtml;\n",
              "          element.appendChild(docLink);\n",
              "        }\n",
              "      </script>\n",
              "    </div>\n",
              "  </div>\n",
              "  "
            ]
          },
          "metadata": {},
          "execution_count": 3
        }
      ],
      "source": [
        "print(df_1.info())\n",
        "df_1.head(5)"
      ]
    },
    {
      "cell_type": "code",
      "source": [
        "print(df_2.info())\n",
        "df_2.head(5)"
      ],
      "metadata": {
        "colab": {
          "base_uri": "https://localhost:8080/",
          "height": 969
        },
        "id": "oIRaimlccHwh",
        "outputId": "9ab0cc46-7210-4c9d-ff8f-8807a616fd23"
      },
      "id": "oIRaimlccHwh",
      "execution_count": 4,
      "outputs": [
        {
          "output_type": "stream",
          "name": "stdout",
          "text": [
            "<class 'pandas.core.frame.DataFrame'>\n",
            "Int64Index: 747410 entries, 699954 to 384611\n",
            "Data columns (total 29 columns):\n",
            " #   Column                        Non-Null Count   Dtype  \n",
            "---  ------                        --------------   -----  \n",
            " 0   id                            747410 non-null  int64  \n",
            " 1   fraud_bool                    747410 non-null  int64  \n",
            " 2   income                        747410 non-null  float64\n",
            " 3   prev_address_months_count     747410 non-null  int64  \n",
            " 4   current_address_months_count  747410 non-null  int64  \n",
            " 5   customer_age                  747410 non-null  int64  \n",
            " 6   days_since_request            747410 non-null  float64\n",
            " 7   intended_balcon_amount        747410 non-null  float64\n",
            " 8   payment_type                  747410 non-null  object \n",
            " 9   zip_count_4w                  747410 non-null  int64  \n",
            " 10  velocity_6h                   747410 non-null  float64\n",
            " 11  velocity_24h                  747410 non-null  float64\n",
            " 12  velocity_4w                   747410 non-null  float64\n",
            " 13  bank_branch_count_8w          747410 non-null  int64  \n",
            " 14  employment_status             747410 non-null  object \n",
            " 15  credit_risk_score             747410 non-null  int64  \n",
            " 16  housing_status                747410 non-null  object \n",
            " 17  bank_months_count             747410 non-null  int64  \n",
            " 18  has_other_cards               747410 non-null  int64  \n",
            " 19  proposed_credit_limit         747410 non-null  float64\n",
            " 20  foreign_request               747410 non-null  int64  \n",
            " 21  source                        747410 non-null  object \n",
            " 22  session_length_in_minutes     747410 non-null  float64\n",
            " 23  device_os                     747410 non-null  object \n",
            " 24  keep_alive_session            747410 non-null  int64  \n",
            " 25  device_fraud_count            747410 non-null  int64  \n",
            " 26  month                         747410 non-null  int64  \n",
            " 27  x1                            747410 non-null  float64\n",
            " 28  x2                            747410 non-null  float64\n",
            "dtypes: float64(10), int64(14), object(5)\n",
            "memory usage: 171.1+ MB\n",
            "None\n"
          ]
        },
        {
          "output_type": "execute_result",
          "data": {
            "text/plain": [
              "            id  fraud_bool  income  prev_address_months_count  \\\n",
              "699954  303612           0     0.8                         -1   \n",
              "701206  568066           0     0.9                         -1   \n",
              "270304  893344           0     0.7                         -1   \n",
              "346538  247688           0     0.8                         -1   \n",
              "147297  674478           0     0.8                         -1   \n",
              "\n",
              "        current_address_months_count  customer_age  days_since_request  \\\n",
              "699954                            21            40            0.010837   \n",
              "701206                            70            50            0.711485   \n",
              "270304                           133            50            0.006856   \n",
              "346538                           207            50            0.026194   \n",
              "147297                            24            50            0.012646   \n",
              "\n",
              "        intended_balcon_amount payment_type  zip_count_4w  ...  \\\n",
              "699954               -0.853976           AD           239  ...   \n",
              "701206               25.137456           AA          1873  ...   \n",
              "270304               -0.815330           AC           675  ...   \n",
              "346538               -0.736615           AB           999  ...   \n",
              "147297               10.744253           AA          3198  ...   \n",
              "\n",
              "        proposed_credit_limit  foreign_request    source  \\\n",
              "699954                  200.0                0  INTERNET   \n",
              "701206                  200.0                0  INTERNET   \n",
              "270304                 1000.0                0  INTERNET   \n",
              "346538                  200.0                0  INTERNET   \n",
              "147297                  500.0                1  INTERNET   \n",
              "\n",
              "        session_length_in_minutes device_os  keep_alive_session  \\\n",
              "699954                  48.127390     other                   0   \n",
              "701206                   8.792273   windows                   1   \n",
              "270304                  15.916225     other                   1   \n",
              "346538                   0.509942     linux                   1   \n",
              "147297                  10.562945     other                   0   \n",
              "\n",
              "       device_fraud_count  month        x1        x2  \n",
              "699954                  0      3  0.236931  0.077061  \n",
              "701206                  0      3  0.571536  1.151563  \n",
              "270304                  0      7  0.224252 -0.590459  \n",
              "346538                  0      6  0.648528 -0.315911  \n",
              "147297                  0      6  0.041475  0.383332  \n",
              "\n",
              "[5 rows x 29 columns]"
            ],
            "text/html": [
              "\n",
              "  <div id=\"df-cd4e1ff4-bdcf-438e-bb56-ddc69786e60d\">\n",
              "    <div class=\"colab-df-container\">\n",
              "      <div>\n",
              "<style scoped>\n",
              "    .dataframe tbody tr th:only-of-type {\n",
              "        vertical-align: middle;\n",
              "    }\n",
              "\n",
              "    .dataframe tbody tr th {\n",
              "        vertical-align: top;\n",
              "    }\n",
              "\n",
              "    .dataframe thead th {\n",
              "        text-align: right;\n",
              "    }\n",
              "</style>\n",
              "<table border=\"1\" class=\"dataframe\">\n",
              "  <thead>\n",
              "    <tr style=\"text-align: right;\">\n",
              "      <th></th>\n",
              "      <th>id</th>\n",
              "      <th>fraud_bool</th>\n",
              "      <th>income</th>\n",
              "      <th>prev_address_months_count</th>\n",
              "      <th>current_address_months_count</th>\n",
              "      <th>customer_age</th>\n",
              "      <th>days_since_request</th>\n",
              "      <th>intended_balcon_amount</th>\n",
              "      <th>payment_type</th>\n",
              "      <th>zip_count_4w</th>\n",
              "      <th>...</th>\n",
              "      <th>proposed_credit_limit</th>\n",
              "      <th>foreign_request</th>\n",
              "      <th>source</th>\n",
              "      <th>session_length_in_minutes</th>\n",
              "      <th>device_os</th>\n",
              "      <th>keep_alive_session</th>\n",
              "      <th>device_fraud_count</th>\n",
              "      <th>month</th>\n",
              "      <th>x1</th>\n",
              "      <th>x2</th>\n",
              "    </tr>\n",
              "  </thead>\n",
              "  <tbody>\n",
              "    <tr>\n",
              "      <th>699954</th>\n",
              "      <td>303612</td>\n",
              "      <td>0</td>\n",
              "      <td>0.8</td>\n",
              "      <td>-1</td>\n",
              "      <td>21</td>\n",
              "      <td>40</td>\n",
              "      <td>0.010837</td>\n",
              "      <td>-0.853976</td>\n",
              "      <td>AD</td>\n",
              "      <td>239</td>\n",
              "      <td>...</td>\n",
              "      <td>200.0</td>\n",
              "      <td>0</td>\n",
              "      <td>INTERNET</td>\n",
              "      <td>48.127390</td>\n",
              "      <td>other</td>\n",
              "      <td>0</td>\n",
              "      <td>0</td>\n",
              "      <td>3</td>\n",
              "      <td>0.236931</td>\n",
              "      <td>0.077061</td>\n",
              "    </tr>\n",
              "    <tr>\n",
              "      <th>701206</th>\n",
              "      <td>568066</td>\n",
              "      <td>0</td>\n",
              "      <td>0.9</td>\n",
              "      <td>-1</td>\n",
              "      <td>70</td>\n",
              "      <td>50</td>\n",
              "      <td>0.711485</td>\n",
              "      <td>25.137456</td>\n",
              "      <td>AA</td>\n",
              "      <td>1873</td>\n",
              "      <td>...</td>\n",
              "      <td>200.0</td>\n",
              "      <td>0</td>\n",
              "      <td>INTERNET</td>\n",
              "      <td>8.792273</td>\n",
              "      <td>windows</td>\n",
              "      <td>1</td>\n",
              "      <td>0</td>\n",
              "      <td>3</td>\n",
              "      <td>0.571536</td>\n",
              "      <td>1.151563</td>\n",
              "    </tr>\n",
              "    <tr>\n",
              "      <th>270304</th>\n",
              "      <td>893344</td>\n",
              "      <td>0</td>\n",
              "      <td>0.7</td>\n",
              "      <td>-1</td>\n",
              "      <td>133</td>\n",
              "      <td>50</td>\n",
              "      <td>0.006856</td>\n",
              "      <td>-0.815330</td>\n",
              "      <td>AC</td>\n",
              "      <td>675</td>\n",
              "      <td>...</td>\n",
              "      <td>1000.0</td>\n",
              "      <td>0</td>\n",
              "      <td>INTERNET</td>\n",
              "      <td>15.916225</td>\n",
              "      <td>other</td>\n",
              "      <td>1</td>\n",
              "      <td>0</td>\n",
              "      <td>7</td>\n",
              "      <td>0.224252</td>\n",
              "      <td>-0.590459</td>\n",
              "    </tr>\n",
              "    <tr>\n",
              "      <th>346538</th>\n",
              "      <td>247688</td>\n",
              "      <td>0</td>\n",
              "      <td>0.8</td>\n",
              "      <td>-1</td>\n",
              "      <td>207</td>\n",
              "      <td>50</td>\n",
              "      <td>0.026194</td>\n",
              "      <td>-0.736615</td>\n",
              "      <td>AB</td>\n",
              "      <td>999</td>\n",
              "      <td>...</td>\n",
              "      <td>200.0</td>\n",
              "      <td>0</td>\n",
              "      <td>INTERNET</td>\n",
              "      <td>0.509942</td>\n",
              "      <td>linux</td>\n",
              "      <td>1</td>\n",
              "      <td>0</td>\n",
              "      <td>6</td>\n",
              "      <td>0.648528</td>\n",
              "      <td>-0.315911</td>\n",
              "    </tr>\n",
              "    <tr>\n",
              "      <th>147297</th>\n",
              "      <td>674478</td>\n",
              "      <td>0</td>\n",
              "      <td>0.8</td>\n",
              "      <td>-1</td>\n",
              "      <td>24</td>\n",
              "      <td>50</td>\n",
              "      <td>0.012646</td>\n",
              "      <td>10.744253</td>\n",
              "      <td>AA</td>\n",
              "      <td>3198</td>\n",
              "      <td>...</td>\n",
              "      <td>500.0</td>\n",
              "      <td>1</td>\n",
              "      <td>INTERNET</td>\n",
              "      <td>10.562945</td>\n",
              "      <td>other</td>\n",
              "      <td>0</td>\n",
              "      <td>0</td>\n",
              "      <td>6</td>\n",
              "      <td>0.041475</td>\n",
              "      <td>0.383332</td>\n",
              "    </tr>\n",
              "  </tbody>\n",
              "</table>\n",
              "<p>5 rows × 29 columns</p>\n",
              "</div>\n",
              "      <button class=\"colab-df-convert\" onclick=\"convertToInteractive('df-cd4e1ff4-bdcf-438e-bb56-ddc69786e60d')\"\n",
              "              title=\"Convert this dataframe to an interactive table.\"\n",
              "              style=\"display:none;\">\n",
              "        \n",
              "  <svg xmlns=\"http://www.w3.org/2000/svg\" height=\"24px\"viewBox=\"0 0 24 24\"\n",
              "       width=\"24px\">\n",
              "    <path d=\"M0 0h24v24H0V0z\" fill=\"none\"/>\n",
              "    <path d=\"M18.56 5.44l.94 2.06.94-2.06 2.06-.94-2.06-.94-.94-2.06-.94 2.06-2.06.94zm-11 1L8.5 8.5l.94-2.06 2.06-.94-2.06-.94L8.5 2.5l-.94 2.06-2.06.94zm10 10l.94 2.06.94-2.06 2.06-.94-2.06-.94-.94-2.06-.94 2.06-2.06.94z\"/><path d=\"M17.41 7.96l-1.37-1.37c-.4-.4-.92-.59-1.43-.59-.52 0-1.04.2-1.43.59L10.3 9.45l-7.72 7.72c-.78.78-.78 2.05 0 2.83L4 21.41c.39.39.9.59 1.41.59.51 0 1.02-.2 1.41-.59l7.78-7.78 2.81-2.81c.8-.78.8-2.07 0-2.86zM5.41 20L4 18.59l7.72-7.72 1.47 1.35L5.41 20z\"/>\n",
              "  </svg>\n",
              "      </button>\n",
              "      \n",
              "  <style>\n",
              "    .colab-df-container {\n",
              "      display:flex;\n",
              "      flex-wrap:wrap;\n",
              "      gap: 12px;\n",
              "    }\n",
              "\n",
              "    .colab-df-convert {\n",
              "      background-color: #E8F0FE;\n",
              "      border: none;\n",
              "      border-radius: 50%;\n",
              "      cursor: pointer;\n",
              "      display: none;\n",
              "      fill: #1967D2;\n",
              "      height: 32px;\n",
              "      padding: 0 0 0 0;\n",
              "      width: 32px;\n",
              "    }\n",
              "\n",
              "    .colab-df-convert:hover {\n",
              "      background-color: #E2EBFA;\n",
              "      box-shadow: 0px 1px 2px rgba(60, 64, 67, 0.3), 0px 1px 3px 1px rgba(60, 64, 67, 0.15);\n",
              "      fill: #174EA6;\n",
              "    }\n",
              "\n",
              "    [theme=dark] .colab-df-convert {\n",
              "      background-color: #3B4455;\n",
              "      fill: #D2E3FC;\n",
              "    }\n",
              "\n",
              "    [theme=dark] .colab-df-convert:hover {\n",
              "      background-color: #434B5C;\n",
              "      box-shadow: 0px 1px 3px 1px rgba(0, 0, 0, 0.15);\n",
              "      filter: drop-shadow(0px 1px 2px rgba(0, 0, 0, 0.3));\n",
              "      fill: #FFFFFF;\n",
              "    }\n",
              "  </style>\n",
              "\n",
              "      <script>\n",
              "        const buttonEl =\n",
              "          document.querySelector('#df-cd4e1ff4-bdcf-438e-bb56-ddc69786e60d button.colab-df-convert');\n",
              "        buttonEl.style.display =\n",
              "          google.colab.kernel.accessAllowed ? 'block' : 'none';\n",
              "\n",
              "        async function convertToInteractive(key) {\n",
              "          const element = document.querySelector('#df-cd4e1ff4-bdcf-438e-bb56-ddc69786e60d');\n",
              "          const dataTable =\n",
              "            await google.colab.kernel.invokeFunction('convertToInteractive',\n",
              "                                                     [key], {});\n",
              "          if (!dataTable) return;\n",
              "\n",
              "          const docLinkHtml = 'Like what you see? Visit the ' +\n",
              "            '<a target=\"_blank\" href=https://colab.research.google.com/notebooks/data_table.ipynb>data table notebook</a>'\n",
              "            + ' to learn more about interactive tables.';\n",
              "          element.innerHTML = '';\n",
              "          dataTable['output_type'] = 'display_data';\n",
              "          await google.colab.output.renderOutput(dataTable, element);\n",
              "          const docLink = document.createElement('div');\n",
              "          docLink.innerHTML = docLinkHtml;\n",
              "          element.appendChild(docLink);\n",
              "        }\n",
              "      </script>\n",
              "    </div>\n",
              "  </div>\n",
              "  "
            ]
          },
          "metadata": {},
          "execution_count": 4
        }
      ]
    },
    {
      "cell_type": "markdown",
      "source": [
        "De la exploración inicial, es evidente que los primeros dos dataframes contienen las mismas caracteristicas generales sobre clientes. Esta información es principalmente númerica, contando con algunas variables categoricas.\n",
        "\n",
        "El primer dataframe contiene alrededor de 389k filas, mientras que el segundo contiene alrededor de 747 k filas. Ambos tienen 28 caracteristicas que describen información general sobre el comportamiento del cliente en el ámbito financiero, además de un identificador para cada uno de estos. "
      ],
      "metadata": {
        "id": "u0T28PLMzoO3"
      },
      "id": "u0T28PLMzoO3"
    },
    {
      "cell_type": "code",
      "source": [
        "print(df_email_phone.info())\n",
        "df_email_phone.head(5)"
      ],
      "metadata": {
        "colab": {
          "base_uri": "https://localhost:8080/",
          "height": 541
        },
        "id": "ygTxcAyqcJiw",
        "outputId": "de50ac9d-ef2a-4a93-c047-2ea8a0776e00"
      },
      "id": "ygTxcAyqcJiw",
      "execution_count": 5,
      "outputs": [
        {
          "output_type": "stream",
          "name": "stdout",
          "text": [
            "<class 'pandas.core.frame.DataFrame'>\n",
            "Int64Index: 934730 entries, 987231 to 986114\n",
            "Data columns (total 7 columns):\n",
            " #   Column                            Non-Null Count   Dtype  \n",
            "---  ------                            --------------   -----  \n",
            " 0   id                                934730 non-null  int64  \n",
            " 1   name_email_similarity             934730 non-null  float64\n",
            " 2   date_of_birth_distinct_emails_4w  934730 non-null  int64  \n",
            " 3   email_is_free                     934730 non-null  int64  \n",
            " 4   device_distinct_emails_8w         934730 non-null  int64  \n",
            " 5   phone_home_valid                  934730 non-null  int64  \n",
            " 6   phone_mobile_valid                934730 non-null  int64  \n",
            "dtypes: float64(1), int64(6)\n",
            "memory usage: 57.1 MB\n",
            "None\n"
          ]
        },
        {
          "output_type": "execute_result",
          "data": {
            "text/plain": [
              "            id  name_email_similarity  date_of_birth_distinct_emails_4w  \\\n",
              "987231  624588               0.555653                                15   \n",
              "79954   620810               0.849718                                 2   \n",
              "567130  580633               0.110898                                 3   \n",
              "500891    6379               0.671250                                15   \n",
              "55399   366511               0.772932                                 7   \n",
              "\n",
              "        email_is_free  device_distinct_emails_8w  phone_home_valid  \\\n",
              "987231              0                          1                 0   \n",
              "79954               0                          1                 0   \n",
              "567130              0                          1                 1   \n",
              "500891              0                          1                 0   \n",
              "55399               0                          1                 0   \n",
              "\n",
              "        phone_mobile_valid  \n",
              "987231                   1  \n",
              "79954                    0  \n",
              "567130                   0  \n",
              "500891                   1  \n",
              "55399                    1  "
            ],
            "text/html": [
              "\n",
              "  <div id=\"df-8df696dd-32aa-4e78-81be-398103c395b8\">\n",
              "    <div class=\"colab-df-container\">\n",
              "      <div>\n",
              "<style scoped>\n",
              "    .dataframe tbody tr th:only-of-type {\n",
              "        vertical-align: middle;\n",
              "    }\n",
              "\n",
              "    .dataframe tbody tr th {\n",
              "        vertical-align: top;\n",
              "    }\n",
              "\n",
              "    .dataframe thead th {\n",
              "        text-align: right;\n",
              "    }\n",
              "</style>\n",
              "<table border=\"1\" class=\"dataframe\">\n",
              "  <thead>\n",
              "    <tr style=\"text-align: right;\">\n",
              "      <th></th>\n",
              "      <th>id</th>\n",
              "      <th>name_email_similarity</th>\n",
              "      <th>date_of_birth_distinct_emails_4w</th>\n",
              "      <th>email_is_free</th>\n",
              "      <th>device_distinct_emails_8w</th>\n",
              "      <th>phone_home_valid</th>\n",
              "      <th>phone_mobile_valid</th>\n",
              "    </tr>\n",
              "  </thead>\n",
              "  <tbody>\n",
              "    <tr>\n",
              "      <th>987231</th>\n",
              "      <td>624588</td>\n",
              "      <td>0.555653</td>\n",
              "      <td>15</td>\n",
              "      <td>0</td>\n",
              "      <td>1</td>\n",
              "      <td>0</td>\n",
              "      <td>1</td>\n",
              "    </tr>\n",
              "    <tr>\n",
              "      <th>79954</th>\n",
              "      <td>620810</td>\n",
              "      <td>0.849718</td>\n",
              "      <td>2</td>\n",
              "      <td>0</td>\n",
              "      <td>1</td>\n",
              "      <td>0</td>\n",
              "      <td>0</td>\n",
              "    </tr>\n",
              "    <tr>\n",
              "      <th>567130</th>\n",
              "      <td>580633</td>\n",
              "      <td>0.110898</td>\n",
              "      <td>3</td>\n",
              "      <td>0</td>\n",
              "      <td>1</td>\n",
              "      <td>1</td>\n",
              "      <td>0</td>\n",
              "    </tr>\n",
              "    <tr>\n",
              "      <th>500891</th>\n",
              "      <td>6379</td>\n",
              "      <td>0.671250</td>\n",
              "      <td>15</td>\n",
              "      <td>0</td>\n",
              "      <td>1</td>\n",
              "      <td>0</td>\n",
              "      <td>1</td>\n",
              "    </tr>\n",
              "    <tr>\n",
              "      <th>55399</th>\n",
              "      <td>366511</td>\n",
              "      <td>0.772932</td>\n",
              "      <td>7</td>\n",
              "      <td>0</td>\n",
              "      <td>1</td>\n",
              "      <td>0</td>\n",
              "      <td>1</td>\n",
              "    </tr>\n",
              "  </tbody>\n",
              "</table>\n",
              "</div>\n",
              "      <button class=\"colab-df-convert\" onclick=\"convertToInteractive('df-8df696dd-32aa-4e78-81be-398103c395b8')\"\n",
              "              title=\"Convert this dataframe to an interactive table.\"\n",
              "              style=\"display:none;\">\n",
              "        \n",
              "  <svg xmlns=\"http://www.w3.org/2000/svg\" height=\"24px\"viewBox=\"0 0 24 24\"\n",
              "       width=\"24px\">\n",
              "    <path d=\"M0 0h24v24H0V0z\" fill=\"none\"/>\n",
              "    <path d=\"M18.56 5.44l.94 2.06.94-2.06 2.06-.94-2.06-.94-.94-2.06-.94 2.06-2.06.94zm-11 1L8.5 8.5l.94-2.06 2.06-.94-2.06-.94L8.5 2.5l-.94 2.06-2.06.94zm10 10l.94 2.06.94-2.06 2.06-.94-2.06-.94-.94-2.06-.94 2.06-2.06.94z\"/><path d=\"M17.41 7.96l-1.37-1.37c-.4-.4-.92-.59-1.43-.59-.52 0-1.04.2-1.43.59L10.3 9.45l-7.72 7.72c-.78.78-.78 2.05 0 2.83L4 21.41c.39.39.9.59 1.41.59.51 0 1.02-.2 1.41-.59l7.78-7.78 2.81-2.81c.8-.78.8-2.07 0-2.86zM5.41 20L4 18.59l7.72-7.72 1.47 1.35L5.41 20z\"/>\n",
              "  </svg>\n",
              "      </button>\n",
              "      \n",
              "  <style>\n",
              "    .colab-df-container {\n",
              "      display:flex;\n",
              "      flex-wrap:wrap;\n",
              "      gap: 12px;\n",
              "    }\n",
              "\n",
              "    .colab-df-convert {\n",
              "      background-color: #E8F0FE;\n",
              "      border: none;\n",
              "      border-radius: 50%;\n",
              "      cursor: pointer;\n",
              "      display: none;\n",
              "      fill: #1967D2;\n",
              "      height: 32px;\n",
              "      padding: 0 0 0 0;\n",
              "      width: 32px;\n",
              "    }\n",
              "\n",
              "    .colab-df-convert:hover {\n",
              "      background-color: #E2EBFA;\n",
              "      box-shadow: 0px 1px 2px rgba(60, 64, 67, 0.3), 0px 1px 3px 1px rgba(60, 64, 67, 0.15);\n",
              "      fill: #174EA6;\n",
              "    }\n",
              "\n",
              "    [theme=dark] .colab-df-convert {\n",
              "      background-color: #3B4455;\n",
              "      fill: #D2E3FC;\n",
              "    }\n",
              "\n",
              "    [theme=dark] .colab-df-convert:hover {\n",
              "      background-color: #434B5C;\n",
              "      box-shadow: 0px 1px 3px 1px rgba(0, 0, 0, 0.15);\n",
              "      filter: drop-shadow(0px 1px 2px rgba(0, 0, 0, 0.3));\n",
              "      fill: #FFFFFF;\n",
              "    }\n",
              "  </style>\n",
              "\n",
              "      <script>\n",
              "        const buttonEl =\n",
              "          document.querySelector('#df-8df696dd-32aa-4e78-81be-398103c395b8 button.colab-df-convert');\n",
              "        buttonEl.style.display =\n",
              "          google.colab.kernel.accessAllowed ? 'block' : 'none';\n",
              "\n",
              "        async function convertToInteractive(key) {\n",
              "          const element = document.querySelector('#df-8df696dd-32aa-4e78-81be-398103c395b8');\n",
              "          const dataTable =\n",
              "            await google.colab.kernel.invokeFunction('convertToInteractive',\n",
              "                                                     [key], {});\n",
              "          if (!dataTable) return;\n",
              "\n",
              "          const docLinkHtml = 'Like what you see? Visit the ' +\n",
              "            '<a target=\"_blank\" href=https://colab.research.google.com/notebooks/data_table.ipynb>data table notebook</a>'\n",
              "            + ' to learn more about interactive tables.';\n",
              "          element.innerHTML = '';\n",
              "          dataTable['output_type'] = 'display_data';\n",
              "          await google.colab.output.renderOutput(dataTable, element);\n",
              "          const docLink = document.createElement('div');\n",
              "          docLink.innerHTML = docLinkHtml;\n",
              "          element.appendChild(docLink);\n",
              "        }\n",
              "      </script>\n",
              "    </div>\n",
              "  </div>\n",
              "  "
            ]
          },
          "metadata": {},
          "execution_count": 5
        }
      ]
    },
    {
      "cell_type": "markdown",
      "source": [
        "Respecto al tercer dataframe, este posee alrededor de 935k entradas y 6 caracteristicas numericas sobre la información de contacto de los clientes, principalmente email y telefono, además de un identificador para cada cliente."
      ],
      "metadata": {
        "id": "wiMlZPe8017Q"
      },
      "id": "wiMlZPe8017Q"
    },
    {
      "cell_type": "markdown",
      "source": [
        "Es de notar que ninguno de estos dataframes por sí sólo posee valores nulos, dado que en los 3 el número de no nulos para cada columna coincide con el número total de filas."
      ],
      "metadata": {
        "id": "LhrYhIhM1Zxu"
      },
      "id": "LhrYhIhM1Zxu"
    },
    {
      "cell_type": "markdown",
      "id": "882a9ff0-9399-43c7-9b7d-108e36ddef24",
      "metadata": {
        "id": "882a9ff0-9399-43c7-9b7d-108e36ddef24"
      },
      "source": [
        "### 2.3 Unir dataframes"
      ]
    },
    {
      "cell_type": "markdown",
      "source": [
        "Para poder realizar una exploración y estudio completos es necesario unir las 3 fuentes de información en una sola."
      ],
      "metadata": {
        "id": "HkeFWEgn1nop"
      },
      "id": "HkeFWEgn1nop"
    },
    {
      "cell_type": "markdown",
      "source": [
        "Para unir los primeros 2 dataframes basta con una concatenación de estos por el lado de las filas (manteniendo número de columnas)."
      ],
      "metadata": {
        "id": "UEv9p22Tehzl"
      },
      "id": "UEv9p22Tehzl"
    },
    {
      "cell_type": "code",
      "execution_count": 6,
      "id": "09bea965",
      "metadata": {
        "vscode": {
          "languageId": "plaintext"
        },
        "id": "09bea965"
      },
      "outputs": [],
      "source": [
        "df_customers = pd.concat([df_1, df_2])"
      ]
    },
    {
      "cell_type": "code",
      "source": [
        "print('Dimensiones de dataframes')\n",
        "print(f\"df_1:\\t\\t {df_1.shape}\")\n",
        "print(f\"df_2:\\t\\t {df_2.shape}\")\n",
        "print(f\"df_customers:\\t {df_customers.shape}\")"
      ],
      "metadata": {
        "colab": {
          "base_uri": "https://localhost:8080/"
        },
        "id": "AY1g4ecgdda4",
        "outputId": "03e2f24f-ca16-4c23-a098-9af5e9a4da2d"
      },
      "id": "AY1g4ecgdda4",
      "execution_count": 7,
      "outputs": [
        {
          "output_type": "stream",
          "name": "stdout",
          "text": [
            "Dimensiones de dataframes\n",
            "df_1:\t\t (389782, 29)\n",
            "df_2:\t\t (747410, 29)\n",
            "df_customers:\t (1137192, 29)\n"
          ]
        }
      ]
    },
    {
      "cell_type": "code",
      "source": [
        "df_email_phone.dtypes"
      ],
      "metadata": {
        "colab": {
          "base_uri": "https://localhost:8080/"
        },
        "id": "WKAdjwTnD50G",
        "outputId": "f8247075-b5d6-41cc-f408-6619903bb586"
      },
      "id": "WKAdjwTnD50G",
      "execution_count": 10,
      "outputs": [
        {
          "output_type": "execute_result",
          "data": {
            "text/plain": [
              "dtype('int64')"
            ]
          },
          "metadata": {},
          "execution_count": 10
        }
      ]
    },
    {
      "cell_type": "markdown",
      "id": "3359abbb-aa14-4c03-b108-cc7c0baa4031",
      "metadata": {
        "id": "3359abbb-aa14-4c03-b108-cc7c0baa4031"
      },
      "source": [
        "### 2.4 Unir nuevas variables"
      ]
    },
    {
      "cell_type": "markdown",
      "source": [
        "Para unir el dataframe de la unión anterior con las caracteristicas presentes en el dataframe de datos de contacto, se utilizará la función `merge` de pandas, uniendo las entradas a través del campo `id`."
      ],
      "metadata": {
        "id": "dR2FTSmuegfu"
      },
      "id": "dR2FTSmuegfu"
    },
    {
      "cell_type": "code",
      "execution_count": 11,
      "id": "bcd0d917",
      "metadata": {
        "vscode": {
          "languageId": "plaintext"
        },
        "colab": {
          "base_uri": "https://localhost:8080/"
        },
        "id": "bcd0d917",
        "outputId": "c61f5cdd-e1ce-4bb9-f45f-3e8fe615594f"
      },
      "outputs": [
        {
          "output_type": "stream",
          "name": "stdout",
          "text": [
            "Dimensiones antes de merge\n",
            "df_customers:\t(1137192, 29)\n",
            "df_email:\t(934730, 7)\n",
            "\n",
            "Dimensiones después de merge\n",
            "df_customers:\t(1198151, 35)\n",
            "\n",
            "Diferencia en filas:60959\n"
          ]
        }
      ],
      "source": [
        "print('Dimensiones antes de merge')\n",
        "shape_bf_merge = df_customers.shape\n",
        "print(f'df_customers:\\t{df_customers.shape}')\n",
        "print(f'df_email:\\t{df_email_phone.shape}\\n')\n",
        "\n",
        "df_customers = pd.merge(df_customers, df_email_phone, on='id', how = 'outer')\n",
        "\n",
        "print('Dimensiones después de merge')\n",
        "shape_af_merge = df_customers.shape\n",
        "print(f'df_customers:\\t{df_customers.shape}\\n')\n",
        "print(f'Diferencia en filas:{shape_af_merge[0]-shape_bf_merge[0]}')"
      ]
    },
    {
      "cell_type": "markdown",
      "id": "813bab66-81d8-421f-921d-109a7e474790",
      "metadata": {
        "id": "813bab66-81d8-421f-921d-109a7e474790"
      },
      "source": [
        "### 2.5 Verificar nulos y duplicados, generar explicaciones sobre sus fuentes y proponer soluciones.\n",
        "\n"
      ]
    },
    {
      "cell_type": "markdown",
      "source": [
        "Para asegurar que cualquier trabajo posterior se realice con datos que sigan un estándar de calidad mínimo, se estudiará la existencia de nulos y duplicados en el dataframe combinado."
      ],
      "metadata": {
        "id": "Ic-Fhvt81-Mg"
      },
      "id": "Ic-Fhvt81-Mg"
    },
    {
      "cell_type": "markdown",
      "source": [
        "Primero se verificará el número de NAN en cada columna"
      ],
      "metadata": {
        "id": "uk2hfZlKiYU0"
      },
      "id": "uk2hfZlKiYU0"
    },
    {
      "cell_type": "code",
      "execution_count": 13,
      "id": "22c5ce09",
      "metadata": {
        "vscode": {
          "languageId": "plaintext"
        },
        "colab": {
          "base_uri": "https://localhost:8080/"
        },
        "id": "22c5ce09",
        "outputId": "9554a252-0a4f-495e-f13b-21de642ecf06"
      },
      "outputs": [
        {
          "output_type": "execute_result",
          "data": {
            "text/plain": [
              "id                                      0\n",
              "fraud_bool                          60959\n",
              "income                              60959\n",
              "prev_address_months_count           60959\n",
              "current_address_months_count        60959\n",
              "customer_age                        60959\n",
              "days_since_request                  60959\n",
              "intended_balcon_amount              60959\n",
              "payment_type                        60959\n",
              "zip_count_4w                        60959\n",
              "velocity_6h                         60959\n",
              "velocity_24h                        60959\n",
              "velocity_4w                         60959\n",
              "bank_branch_count_8w                60959\n",
              "employment_status                   60959\n",
              "credit_risk_score                   60959\n",
              "housing_status                      60959\n",
              "bank_months_count                   60959\n",
              "has_other_cards                     60959\n",
              "proposed_credit_limit               60959\n",
              "foreign_request                     60959\n",
              "source                              60959\n",
              "session_length_in_minutes           60959\n",
              "device_os                           60959\n",
              "keep_alive_session                  60959\n",
              "device_fraud_count                  60959\n",
              "month                               60959\n",
              "x1                                  60959\n",
              "x2                                  60959\n",
              "name_email_similarity               79727\n",
              "date_of_birth_distinct_emails_4w    79727\n",
              "email_is_free                       79727\n",
              "device_distinct_emails_8w           79727\n",
              "phone_home_valid                    79727\n",
              "phone_mobile_valid                  79727\n",
              "dtype: int64"
            ]
          },
          "metadata": {},
          "execution_count": 13
        }
      ],
      "source": [
        "df_customers.isna().sum()"
      ]
    },
    {
      "cell_type": "markdown",
      "source": [
        "Hay un patrón en el número de NAN. No hay Ids nulos, lo que quiere decir que al menos todas las entradas tienen un identificador válido. Por otro lado todas las caracteristicas relacionadas a los ejemplos inicales tienen alrededor de 61k valores nulos, mientras que para cada una de las nuevas cararcteristicas hay casi 80k de valores nulos. \n",
        "\n",
        "Es muy posible que, al tener valores de nulos uniformemente distribuidos, todos estos se encuentren en las mismas filas. La causa más probable es que los nulos se hayan dado al realizar el merge con el dataframe de datos de emails:\n",
        "-  Dado que el dataframe de emails sólo poseía caracteristicas nuevas, se crearon nulos para las caracteristicas generales en aquellas entradas cuyos `id` que estaban en el dataframe de emails, pero no en el de caracteristicas generales.\n",
        "- De forma similar, se crearon datos nulos para las nuevas caracteristicas de clientes que, teniendo entradas en el dataset general, no poseían información en el dataset de emails.\n",
        "\n"
      ],
      "metadata": {
        "id": "CRMfXNteib7G"
      },
      "id": "CRMfXNteib7G"
    },
    {
      "cell_type": "markdown",
      "source": [
        "Ahora se revisará el número de duplicados, basandose en el campo identificador `id`"
      ],
      "metadata": {
        "id": "SdfBdCoYniT7"
      },
      "id": "SdfBdCoYniT7"
    },
    {
      "cell_type": "code",
      "source": [
        "duplicates = df_customers.duplicated(subset=['id'])\n",
        "n_duplicated = duplicates.sum()\n",
        "print(f\"Existen {n_duplicated} filas con identificadores duplicados.\")"
      ],
      "metadata": {
        "colab": {
          "base_uri": "https://localhost:8080/"
        },
        "id": "gPjr2LMUnlcL",
        "outputId": "12c74f9f-122b-4433-93c4-d648ad37f608"
      },
      "id": "gPjr2LMUnlcL",
      "execution_count": 14,
      "outputs": [
        {
          "output_type": "stream",
          "name": "stdout",
          "text": [
            "Existen 202334 filas con identificadores duplicados.\n"
          ]
        }
      ]
    },
    {
      "cell_type": "code",
      "source": [
        "print('Ejemplos de filas duplicadas:')\n",
        "display(df_customers.loc[duplicates].sort_values(by=['id']).head(10))"
      ],
      "metadata": {
        "colab": {
          "base_uri": "https://localhost:8080/",
          "height": 474
        },
        "id": "TD-i1IqXpGOO",
        "outputId": "9d607061-7fc2-4fe3-f4ce-3101b26ed742"
      },
      "id": "TD-i1IqXpGOO",
      "execution_count": 15,
      "outputs": [
        {
          "output_type": "stream",
          "name": "stdout",
          "text": [
            "Ejemplos de filas duplicadas:\n"
          ]
        },
        {
          "output_type": "display_data",
          "data": {
            "text/plain": [
              "        id  fraud_bool  income  prev_address_months_count  \\\n",
              "79730   10         0.0     0.7                       -1.0   \n",
              "63988   14         0.0     0.9                       -1.0   \n",
              "494431  19         0.0     0.5                       -1.0   \n",
              "494430  19         0.0     0.5                       -1.0   \n",
              "630239  37         0.0     0.8                       -1.0   \n",
              "630240  37         0.0     0.8                       -1.0   \n",
              "443211  39         0.0     0.1                       -1.0   \n",
              "443210  39         0.0     0.1                       -1.0   \n",
              "443209  39         0.0     0.1                       -1.0   \n",
              "840268  55         0.0     0.6                       -1.0   \n",
              "\n",
              "        current_address_months_count  customer_age  days_since_request  \\\n",
              "79730                          269.0          50.0            0.017052   \n",
              "63988                           38.0          40.0            0.011142   \n",
              "494431                          18.0          50.0            0.006434   \n",
              "494430                          18.0          50.0            0.006434   \n",
              "630239                          22.0          30.0            0.018731   \n",
              "630240                          22.0          30.0            0.018731   \n",
              "443211                         189.0          30.0            0.001039   \n",
              "443210                         189.0          30.0            0.001039   \n",
              "443209                         189.0          30.0            0.001039   \n",
              "840268                         216.0          60.0            0.022977   \n",
              "\n",
              "        intended_balcon_amount payment_type  zip_count_4w  ...  \\\n",
              "79730                18.113431           AA        1008.0  ...   \n",
              "63988                -0.700248           AB         999.0  ...   \n",
              "494431               -1.351873           AB         705.0  ...   \n",
              "494430               -1.351873           AB         705.0  ...   \n",
              "630239               24.369254           AA         591.0  ...   \n",
              "630240               24.369254           AA         591.0  ...   \n",
              "443211               -0.576867           AB        1644.0  ...   \n",
              "443210               -0.576867           AB        1644.0  ...   \n",
              "443209               -0.576867           AB        1644.0  ...   \n",
              "840268               -0.601287           AB        1126.0  ...   \n",
              "\n",
              "        device_fraud_count  month        x1        x2 name_email_similarity  \\\n",
              "79730                  0.0    7.0  0.819086  0.995956              0.409915   \n",
              "63988                  0.0    1.0 -1.204976 -0.460171              0.925234   \n",
              "494431                 0.0    7.0  1.017089 -0.557888              0.401173   \n",
              "494430                 0.0    7.0  1.017089 -0.557888              0.401173   \n",
              "630239                 0.0    7.0  0.961786  1.756209                   NaN   \n",
              "630240                 0.0    7.0  0.961786  1.756209                   NaN   \n",
              "443211                 0.0    3.0  1.620199  0.132025              0.868037   \n",
              "443210                 0.0    3.0  1.620199  0.132025              0.868037   \n",
              "443209                 0.0    3.0  1.620199  0.132025              0.868037   \n",
              "840268                 0.0    7.0  1.643214  1.155003              0.387457   \n",
              "\n",
              "        date_of_birth_distinct_emails_4w email_is_free  \\\n",
              "79730                                5.0           0.0   \n",
              "63988                                9.0           1.0   \n",
              "494431                              13.0           0.0   \n",
              "494430                              13.0           0.0   \n",
              "630239                               NaN           NaN   \n",
              "630240                               NaN           NaN   \n",
              "443211                               8.0           1.0   \n",
              "443210                               8.0           1.0   \n",
              "443209                               8.0           1.0   \n",
              "840268                               3.0           0.0   \n",
              "\n",
              "        device_distinct_emails_8w  phone_home_valid  phone_mobile_valid  \n",
              "79730                         1.0               1.0                 1.0  \n",
              "63988                         1.0               0.0                 1.0  \n",
              "494431                        1.0               1.0                 0.0  \n",
              "494430                        1.0               1.0                 0.0  \n",
              "630239                        NaN               NaN                 NaN  \n",
              "630240                        NaN               NaN                 NaN  \n",
              "443211                        1.0               0.0                 1.0  \n",
              "443210                        1.0               0.0                 1.0  \n",
              "443209                        1.0               0.0                 1.0  \n",
              "840268                        1.0               1.0                 1.0  \n",
              "\n",
              "[10 rows x 35 columns]"
            ],
            "text/html": [
              "\n",
              "  <div id=\"df-22806cf1-e4c2-4204-8306-eda8a0bb8aef\">\n",
              "    <div class=\"colab-df-container\">\n",
              "      <div>\n",
              "<style scoped>\n",
              "    .dataframe tbody tr th:only-of-type {\n",
              "        vertical-align: middle;\n",
              "    }\n",
              "\n",
              "    .dataframe tbody tr th {\n",
              "        vertical-align: top;\n",
              "    }\n",
              "\n",
              "    .dataframe thead th {\n",
              "        text-align: right;\n",
              "    }\n",
              "</style>\n",
              "<table border=\"1\" class=\"dataframe\">\n",
              "  <thead>\n",
              "    <tr style=\"text-align: right;\">\n",
              "      <th></th>\n",
              "      <th>id</th>\n",
              "      <th>fraud_bool</th>\n",
              "      <th>income</th>\n",
              "      <th>prev_address_months_count</th>\n",
              "      <th>current_address_months_count</th>\n",
              "      <th>customer_age</th>\n",
              "      <th>days_since_request</th>\n",
              "      <th>intended_balcon_amount</th>\n",
              "      <th>payment_type</th>\n",
              "      <th>zip_count_4w</th>\n",
              "      <th>...</th>\n",
              "      <th>device_fraud_count</th>\n",
              "      <th>month</th>\n",
              "      <th>x1</th>\n",
              "      <th>x2</th>\n",
              "      <th>name_email_similarity</th>\n",
              "      <th>date_of_birth_distinct_emails_4w</th>\n",
              "      <th>email_is_free</th>\n",
              "      <th>device_distinct_emails_8w</th>\n",
              "      <th>phone_home_valid</th>\n",
              "      <th>phone_mobile_valid</th>\n",
              "    </tr>\n",
              "  </thead>\n",
              "  <tbody>\n",
              "    <tr>\n",
              "      <th>79730</th>\n",
              "      <td>10</td>\n",
              "      <td>0.0</td>\n",
              "      <td>0.7</td>\n",
              "      <td>-1.0</td>\n",
              "      <td>269.0</td>\n",
              "      <td>50.0</td>\n",
              "      <td>0.017052</td>\n",
              "      <td>18.113431</td>\n",
              "      <td>AA</td>\n",
              "      <td>1008.0</td>\n",
              "      <td>...</td>\n",
              "      <td>0.0</td>\n",
              "      <td>7.0</td>\n",
              "      <td>0.819086</td>\n",
              "      <td>0.995956</td>\n",
              "      <td>0.409915</td>\n",
              "      <td>5.0</td>\n",
              "      <td>0.0</td>\n",
              "      <td>1.0</td>\n",
              "      <td>1.0</td>\n",
              "      <td>1.0</td>\n",
              "    </tr>\n",
              "    <tr>\n",
              "      <th>63988</th>\n",
              "      <td>14</td>\n",
              "      <td>0.0</td>\n",
              "      <td>0.9</td>\n",
              "      <td>-1.0</td>\n",
              "      <td>38.0</td>\n",
              "      <td>40.0</td>\n",
              "      <td>0.011142</td>\n",
              "      <td>-0.700248</td>\n",
              "      <td>AB</td>\n",
              "      <td>999.0</td>\n",
              "      <td>...</td>\n",
              "      <td>0.0</td>\n",
              "      <td>1.0</td>\n",
              "      <td>-1.204976</td>\n",
              "      <td>-0.460171</td>\n",
              "      <td>0.925234</td>\n",
              "      <td>9.0</td>\n",
              "      <td>1.0</td>\n",
              "      <td>1.0</td>\n",
              "      <td>0.0</td>\n",
              "      <td>1.0</td>\n",
              "    </tr>\n",
              "    <tr>\n",
              "      <th>494431</th>\n",
              "      <td>19</td>\n",
              "      <td>0.0</td>\n",
              "      <td>0.5</td>\n",
              "      <td>-1.0</td>\n",
              "      <td>18.0</td>\n",
              "      <td>50.0</td>\n",
              "      <td>0.006434</td>\n",
              "      <td>-1.351873</td>\n",
              "      <td>AB</td>\n",
              "      <td>705.0</td>\n",
              "      <td>...</td>\n",
              "      <td>0.0</td>\n",
              "      <td>7.0</td>\n",
              "      <td>1.017089</td>\n",
              "      <td>-0.557888</td>\n",
              "      <td>0.401173</td>\n",
              "      <td>13.0</td>\n",
              "      <td>0.0</td>\n",
              "      <td>1.0</td>\n",
              "      <td>1.0</td>\n",
              "      <td>0.0</td>\n",
              "    </tr>\n",
              "    <tr>\n",
              "      <th>494430</th>\n",
              "      <td>19</td>\n",
              "      <td>0.0</td>\n",
              "      <td>0.5</td>\n",
              "      <td>-1.0</td>\n",
              "      <td>18.0</td>\n",
              "      <td>50.0</td>\n",
              "      <td>0.006434</td>\n",
              "      <td>-1.351873</td>\n",
              "      <td>AB</td>\n",
              "      <td>705.0</td>\n",
              "      <td>...</td>\n",
              "      <td>0.0</td>\n",
              "      <td>7.0</td>\n",
              "      <td>1.017089</td>\n",
              "      <td>-0.557888</td>\n",
              "      <td>0.401173</td>\n",
              "      <td>13.0</td>\n",
              "      <td>0.0</td>\n",
              "      <td>1.0</td>\n",
              "      <td>1.0</td>\n",
              "      <td>0.0</td>\n",
              "    </tr>\n",
              "    <tr>\n",
              "      <th>630239</th>\n",
              "      <td>37</td>\n",
              "      <td>0.0</td>\n",
              "      <td>0.8</td>\n",
              "      <td>-1.0</td>\n",
              "      <td>22.0</td>\n",
              "      <td>30.0</td>\n",
              "      <td>0.018731</td>\n",
              "      <td>24.369254</td>\n",
              "      <td>AA</td>\n",
              "      <td>591.0</td>\n",
              "      <td>...</td>\n",
              "      <td>0.0</td>\n",
              "      <td>7.0</td>\n",
              "      <td>0.961786</td>\n",
              "      <td>1.756209</td>\n",
              "      <td>NaN</td>\n",
              "      <td>NaN</td>\n",
              "      <td>NaN</td>\n",
              "      <td>NaN</td>\n",
              "      <td>NaN</td>\n",
              "      <td>NaN</td>\n",
              "    </tr>\n",
              "    <tr>\n",
              "      <th>630240</th>\n",
              "      <td>37</td>\n",
              "      <td>0.0</td>\n",
              "      <td>0.8</td>\n",
              "      <td>-1.0</td>\n",
              "      <td>22.0</td>\n",
              "      <td>30.0</td>\n",
              "      <td>0.018731</td>\n",
              "      <td>24.369254</td>\n",
              "      <td>AA</td>\n",
              "      <td>591.0</td>\n",
              "      <td>...</td>\n",
              "      <td>0.0</td>\n",
              "      <td>7.0</td>\n",
              "      <td>0.961786</td>\n",
              "      <td>1.756209</td>\n",
              "      <td>NaN</td>\n",
              "      <td>NaN</td>\n",
              "      <td>NaN</td>\n",
              "      <td>NaN</td>\n",
              "      <td>NaN</td>\n",
              "      <td>NaN</td>\n",
              "    </tr>\n",
              "    <tr>\n",
              "      <th>443211</th>\n",
              "      <td>39</td>\n",
              "      <td>0.0</td>\n",
              "      <td>0.1</td>\n",
              "      <td>-1.0</td>\n",
              "      <td>189.0</td>\n",
              "      <td>30.0</td>\n",
              "      <td>0.001039</td>\n",
              "      <td>-0.576867</td>\n",
              "      <td>AB</td>\n",
              "      <td>1644.0</td>\n",
              "      <td>...</td>\n",
              "      <td>0.0</td>\n",
              "      <td>3.0</td>\n",
              "      <td>1.620199</td>\n",
              "      <td>0.132025</td>\n",
              "      <td>0.868037</td>\n",
              "      <td>8.0</td>\n",
              "      <td>1.0</td>\n",
              "      <td>1.0</td>\n",
              "      <td>0.0</td>\n",
              "      <td>1.0</td>\n",
              "    </tr>\n",
              "    <tr>\n",
              "      <th>443210</th>\n",
              "      <td>39</td>\n",
              "      <td>0.0</td>\n",
              "      <td>0.1</td>\n",
              "      <td>-1.0</td>\n",
              "      <td>189.0</td>\n",
              "      <td>30.0</td>\n",
              "      <td>0.001039</td>\n",
              "      <td>-0.576867</td>\n",
              "      <td>AB</td>\n",
              "      <td>1644.0</td>\n",
              "      <td>...</td>\n",
              "      <td>0.0</td>\n",
              "      <td>3.0</td>\n",
              "      <td>1.620199</td>\n",
              "      <td>0.132025</td>\n",
              "      <td>0.868037</td>\n",
              "      <td>8.0</td>\n",
              "      <td>1.0</td>\n",
              "      <td>1.0</td>\n",
              "      <td>0.0</td>\n",
              "      <td>1.0</td>\n",
              "    </tr>\n",
              "    <tr>\n",
              "      <th>443209</th>\n",
              "      <td>39</td>\n",
              "      <td>0.0</td>\n",
              "      <td>0.1</td>\n",
              "      <td>-1.0</td>\n",
              "      <td>189.0</td>\n",
              "      <td>30.0</td>\n",
              "      <td>0.001039</td>\n",
              "      <td>-0.576867</td>\n",
              "      <td>AB</td>\n",
              "      <td>1644.0</td>\n",
              "      <td>...</td>\n",
              "      <td>0.0</td>\n",
              "      <td>3.0</td>\n",
              "      <td>1.620199</td>\n",
              "      <td>0.132025</td>\n",
              "      <td>0.868037</td>\n",
              "      <td>8.0</td>\n",
              "      <td>1.0</td>\n",
              "      <td>1.0</td>\n",
              "      <td>0.0</td>\n",
              "      <td>1.0</td>\n",
              "    </tr>\n",
              "    <tr>\n",
              "      <th>840268</th>\n",
              "      <td>55</td>\n",
              "      <td>0.0</td>\n",
              "      <td>0.6</td>\n",
              "      <td>-1.0</td>\n",
              "      <td>216.0</td>\n",
              "      <td>60.0</td>\n",
              "      <td>0.022977</td>\n",
              "      <td>-0.601287</td>\n",
              "      <td>AB</td>\n",
              "      <td>1126.0</td>\n",
              "      <td>...</td>\n",
              "      <td>0.0</td>\n",
              "      <td>7.0</td>\n",
              "      <td>1.643214</td>\n",
              "      <td>1.155003</td>\n",
              "      <td>0.387457</td>\n",
              "      <td>3.0</td>\n",
              "      <td>0.0</td>\n",
              "      <td>1.0</td>\n",
              "      <td>1.0</td>\n",
              "      <td>1.0</td>\n",
              "    </tr>\n",
              "  </tbody>\n",
              "</table>\n",
              "<p>10 rows × 35 columns</p>\n",
              "</div>\n",
              "      <button class=\"colab-df-convert\" onclick=\"convertToInteractive('df-22806cf1-e4c2-4204-8306-eda8a0bb8aef')\"\n",
              "              title=\"Convert this dataframe to an interactive table.\"\n",
              "              style=\"display:none;\">\n",
              "        \n",
              "  <svg xmlns=\"http://www.w3.org/2000/svg\" height=\"24px\"viewBox=\"0 0 24 24\"\n",
              "       width=\"24px\">\n",
              "    <path d=\"M0 0h24v24H0V0z\" fill=\"none\"/>\n",
              "    <path d=\"M18.56 5.44l.94 2.06.94-2.06 2.06-.94-2.06-.94-.94-2.06-.94 2.06-2.06.94zm-11 1L8.5 8.5l.94-2.06 2.06-.94-2.06-.94L8.5 2.5l-.94 2.06-2.06.94zm10 10l.94 2.06.94-2.06 2.06-.94-2.06-.94-.94-2.06-.94 2.06-2.06.94z\"/><path d=\"M17.41 7.96l-1.37-1.37c-.4-.4-.92-.59-1.43-.59-.52 0-1.04.2-1.43.59L10.3 9.45l-7.72 7.72c-.78.78-.78 2.05 0 2.83L4 21.41c.39.39.9.59 1.41.59.51 0 1.02-.2 1.41-.59l7.78-7.78 2.81-2.81c.8-.78.8-2.07 0-2.86zM5.41 20L4 18.59l7.72-7.72 1.47 1.35L5.41 20z\"/>\n",
              "  </svg>\n",
              "      </button>\n",
              "      \n",
              "  <style>\n",
              "    .colab-df-container {\n",
              "      display:flex;\n",
              "      flex-wrap:wrap;\n",
              "      gap: 12px;\n",
              "    }\n",
              "\n",
              "    .colab-df-convert {\n",
              "      background-color: #E8F0FE;\n",
              "      border: none;\n",
              "      border-radius: 50%;\n",
              "      cursor: pointer;\n",
              "      display: none;\n",
              "      fill: #1967D2;\n",
              "      height: 32px;\n",
              "      padding: 0 0 0 0;\n",
              "      width: 32px;\n",
              "    }\n",
              "\n",
              "    .colab-df-convert:hover {\n",
              "      background-color: #E2EBFA;\n",
              "      box-shadow: 0px 1px 2px rgba(60, 64, 67, 0.3), 0px 1px 3px 1px rgba(60, 64, 67, 0.15);\n",
              "      fill: #174EA6;\n",
              "    }\n",
              "\n",
              "    [theme=dark] .colab-df-convert {\n",
              "      background-color: #3B4455;\n",
              "      fill: #D2E3FC;\n",
              "    }\n",
              "\n",
              "    [theme=dark] .colab-df-convert:hover {\n",
              "      background-color: #434B5C;\n",
              "      box-shadow: 0px 1px 3px 1px rgba(0, 0, 0, 0.15);\n",
              "      filter: drop-shadow(0px 1px 2px rgba(0, 0, 0, 0.3));\n",
              "      fill: #FFFFFF;\n",
              "    }\n",
              "  </style>\n",
              "\n",
              "      <script>\n",
              "        const buttonEl =\n",
              "          document.querySelector('#df-22806cf1-e4c2-4204-8306-eda8a0bb8aef button.colab-df-convert');\n",
              "        buttonEl.style.display =\n",
              "          google.colab.kernel.accessAllowed ? 'block' : 'none';\n",
              "\n",
              "        async function convertToInteractive(key) {\n",
              "          const element = document.querySelector('#df-22806cf1-e4c2-4204-8306-eda8a0bb8aef');\n",
              "          const dataTable =\n",
              "            await google.colab.kernel.invokeFunction('convertToInteractive',\n",
              "                                                     [key], {});\n",
              "          if (!dataTable) return;\n",
              "\n",
              "          const docLinkHtml = 'Like what you see? Visit the ' +\n",
              "            '<a target=\"_blank\" href=https://colab.research.google.com/notebooks/data_table.ipynb>data table notebook</a>'\n",
              "            + ' to learn more about interactive tables.';\n",
              "          element.innerHTML = '';\n",
              "          dataTable['output_type'] = 'display_data';\n",
              "          await google.colab.output.renderOutput(dataTable, element);\n",
              "          const docLink = document.createElement('div');\n",
              "          docLink.innerHTML = docLinkHtml;\n",
              "          element.appendChild(docLink);\n",
              "        }\n",
              "      </script>\n",
              "    </div>\n",
              "  </div>\n",
              "  "
            ]
          },
          "metadata": {}
        }
      ]
    },
    {
      "cell_type": "markdown",
      "source": [
        "Es interesante de notar que las filas con id duplicados, también poseen la fila entera duplicados. Los valores duplicados pueden deberse, ya sea por imperfecciones en los dataframe base, o por la concatenación de los dataframes de caracteristicas generales, dado que estos dos no necesariamente poseían entradas disjuntas entre ellos."
      ],
      "metadata": {
        "id": "gzKZqVhLnlEi"
      },
      "id": "gzKZqVhLnlEi"
    },
    {
      "cell_type": "markdown",
      "source": [
        "#### Estrategia de limpieza"
      ],
      "metadata": {
        "id": "Lg3kDSLqqAPk"
      },
      "id": "Lg3kDSLqqAPk"
    },
    {
      "cell_type": "markdown",
      "source": [
        "Para eliminar las imperfecciones en la unión final, bastaría con seguir los siguientes pasos:\n",
        "- Deshacerse de cualquier fila con al menos un NAN\n",
        "- Deshacerse de cualquier entrada con `id` duplicado, dejando sólo un ejemplar.\n",
        "\n",
        "Siguiendo estos pasos el dataframe final ya no tendría ni valores nulos ni duplicados, a cambio de perder una cantidad significativa de entradas."
      ],
      "metadata": {
        "id": "b7-D7GOYqJoX"
      },
      "id": "b7-D7GOYqJoX"
    },
    {
      "cell_type": "markdown",
      "id": "31b39557-4e12-4961-9a96-60d7eb945080",
      "metadata": {
        "id": "31b39557-4e12-4961-9a96-60d7eb945080"
      },
      "source": [
        "### 2.6 Limpiar"
      ]
    },
    {
      "cell_type": "code",
      "execution_count": 16,
      "id": "65507c50",
      "metadata": {
        "vscode": {
          "languageId": "plaintext"
        },
        "id": "65507c50"
      },
      "outputs": [],
      "source": [
        "# Limpiar nans\n",
        "df_customers = df_customers.dropna()\n",
        "# Limpiar duplicados\n",
        "df_customers = df_customers.drop_duplicates(subset=['id'])"
      ]
    },
    {
      "cell_type": "code",
      "source": [
        "# Verificar Nan\n",
        "df_customers.isna().sum()"
      ],
      "metadata": {
        "colab": {
          "base_uri": "https://localhost:8080/"
        },
        "id": "UeHv9i_vrWDg",
        "outputId": "2dcea1e9-3f13-43e7-ee53-5971a365d452"
      },
      "id": "UeHv9i_vrWDg",
      "execution_count": 17,
      "outputs": [
        {
          "output_type": "execute_result",
          "data": {
            "text/plain": [
              "id                                  0\n",
              "fraud_bool                          0\n",
              "income                              0\n",
              "prev_address_months_count           0\n",
              "current_address_months_count        0\n",
              "customer_age                        0\n",
              "days_since_request                  0\n",
              "intended_balcon_amount              0\n",
              "payment_type                        0\n",
              "zip_count_4w                        0\n",
              "velocity_6h                         0\n",
              "velocity_24h                        0\n",
              "velocity_4w                         0\n",
              "bank_branch_count_8w                0\n",
              "employment_status                   0\n",
              "credit_risk_score                   0\n",
              "housing_status                      0\n",
              "bank_months_count                   0\n",
              "has_other_cards                     0\n",
              "proposed_credit_limit               0\n",
              "foreign_request                     0\n",
              "source                              0\n",
              "session_length_in_minutes           0\n",
              "device_os                           0\n",
              "keep_alive_session                  0\n",
              "device_fraud_count                  0\n",
              "month                               0\n",
              "x1                                  0\n",
              "x2                                  0\n",
              "name_email_similarity               0\n",
              "date_of_birth_distinct_emails_4w    0\n",
              "email_is_free                       0\n",
              "device_distinct_emails_8w           0\n",
              "phone_home_valid                    0\n",
              "phone_mobile_valid                  0\n",
              "dtype: int64"
            ]
          },
          "metadata": {},
          "execution_count": 17
        }
      ]
    },
    {
      "cell_type": "code",
      "source": [
        "# Verificar duplicados\n",
        "df_customers.duplicated(subset=['id']).sum()"
      ],
      "metadata": {
        "colab": {
          "base_uri": "https://localhost:8080/"
        },
        "id": "jlONh4dJrd-C",
        "outputId": "c8bdcef6-9fda-49ac-85a0-79cf8fdca025"
      },
      "id": "jlONh4dJrd-C",
      "execution_count": 18,
      "outputs": [
        {
          "output_type": "execute_result",
          "data": {
            "text/plain": [
              "0"
            ]
          },
          "metadata": {},
          "execution_count": 18
        }
      ]
    },
    {
      "cell_type": "code",
      "source": [
        "print('Después de la limpieza')\n",
        "print(f'df_customers:\\t{df_customers.shape}')\n",
        "print(f'Cantidad de filas limpiadas: {shape_af_merge[0]-df_customers.shape[0]}')"
      ],
      "metadata": {
        "colab": {
          "base_uri": "https://localhost:8080/"
        },
        "id": "BL-9YM5eqy1w",
        "outputId": "30cba398-d7e2-4bad-8382-73a76acc6fa5"
      },
      "id": "BL-9YM5eqy1w",
      "execution_count": 19,
      "outputs": [
        {
          "output_type": "stream",
          "name": "stdout",
          "text": [
            "Después de la limpieza\n",
            "df_customers:\t(873771, 35)\n",
            "Cantidad de filas limpiadas: 324380\n"
          ]
        }
      ]
    },
    {
      "cell_type": "markdown",
      "source": [
        "Como resultado de la limpieza, ya no quedan entradas con valores nulos o duplicados, a cambio de esto se perdieron alrededor de 324k entradas, sin embargo, estas eran entradas que no serían de gran aporte en el estudio final debido a sus carencias."
      ],
      "metadata": {
        "id": "SnGnLY7jrniw"
      },
      "id": "SnGnLY7jrniw"
    },
    {
      "cell_type": "markdown",
      "source": [
        "### 2.7 Segmentación etaria"
      ],
      "metadata": {
        "id": "xxkezws-sMHx"
      },
      "id": "xxkezws-sMHx"
    },
    {
      "cell_type": "markdown",
      "source": [
        "Ya con los datos limpios, se realizará una segmentación etaria para apoyar la exploración y estudio de los datos, esto creando una columna categorica en base a la edad presente en la columna `customer_age`. A continuación se presenta la clasificación que seguirá la columna:\n",
        "- Joven: Edad menor a 18\n",
        "- Adulto-Joven: Entre 18 a 26 años\n",
        "- Adulto: Entre 27 y 59 años\n",
        "- Persona mayor: 60 años o más"
      ],
      "metadata": {
        "id": "StUX11OXuat0"
      },
      "id": "StUX11OXuat0"
    },
    {
      "cell_type": "code",
      "source": [
        "def categorize_by_age(age):\n",
        "  ranges = {\n",
        "    'Joven': (0, 17),\n",
        "    'Adulto-Joven': (18, 26),\n",
        "    'Adulto': (27, 59),\n",
        "    'Persona Mayor': (60, 120)\n",
        "    }\n",
        "  for range in ranges:\n",
        "    pair = ranges[range]\n",
        "    lower = pair[0]\n",
        "    upper = pair[1]\n",
        "    if age>=lower and age<=upper:\n",
        "      return range\n",
        "      \n",
        "  # Si por alguna razón nos pasamos, aquí hay algo raro \n",
        "  return 'No válida'"
      ],
      "metadata": {
        "id": "g-8zspzzvt5b"
      },
      "id": "g-8zspzzvt5b",
      "execution_count": 21,
      "outputs": []
    },
    {
      "cell_type": "code",
      "source": [
        "df_customers['segmentacion_etaria'] = df_customers['customer_age'].apply(categorize_by_age)"
      ],
      "metadata": {
        "id": "ch0AwddyukGA"
      },
      "id": "ch0AwddyukGA",
      "execution_count": 22,
      "outputs": []
    },
    {
      "cell_type": "code",
      "source": [
        "print(f\"Rangos creados: {df_customers['segmentacion_etaria'].unique()}\")\n",
        "df_customers[['segmentacion_etaria','customer_age']].sample(5)"
      ],
      "metadata": {
        "colab": {
          "base_uri": "https://localhost:8080/",
          "height": 224
        },
        "id": "SBIqFOyvx1-7",
        "outputId": "4352104b-3929-4c0e-a47d-d5c6d26d8542"
      },
      "id": "SBIqFOyvx1-7",
      "execution_count": 23,
      "outputs": [
        {
          "output_type": "stream",
          "name": "stdout",
          "text": [
            "Rangos creados: ['Persona Mayor' 'Adulto' 'Adulto-Joven' 'Joven']\n"
          ]
        },
        {
          "output_type": "execute_result",
          "data": {
            "text/plain": [
              "        segmentacion_etaria  customer_age\n",
              "975236               Adulto          50.0\n",
              "1051078              Adulto          40.0\n",
              "862651               Adulto          50.0\n",
              "600042               Adulto          40.0\n",
              "824770               Adulto          50.0"
            ],
            "text/html": [
              "\n",
              "  <div id=\"df-bc4b7881-2b30-4bf2-9699-b3b71a5dc28f\">\n",
              "    <div class=\"colab-df-container\">\n",
              "      <div>\n",
              "<style scoped>\n",
              "    .dataframe tbody tr th:only-of-type {\n",
              "        vertical-align: middle;\n",
              "    }\n",
              "\n",
              "    .dataframe tbody tr th {\n",
              "        vertical-align: top;\n",
              "    }\n",
              "\n",
              "    .dataframe thead th {\n",
              "        text-align: right;\n",
              "    }\n",
              "</style>\n",
              "<table border=\"1\" class=\"dataframe\">\n",
              "  <thead>\n",
              "    <tr style=\"text-align: right;\">\n",
              "      <th></th>\n",
              "      <th>segmentacion_etaria</th>\n",
              "      <th>customer_age</th>\n",
              "    </tr>\n",
              "  </thead>\n",
              "  <tbody>\n",
              "    <tr>\n",
              "      <th>975236</th>\n",
              "      <td>Adulto</td>\n",
              "      <td>50.0</td>\n",
              "    </tr>\n",
              "    <tr>\n",
              "      <th>1051078</th>\n",
              "      <td>Adulto</td>\n",
              "      <td>40.0</td>\n",
              "    </tr>\n",
              "    <tr>\n",
              "      <th>862651</th>\n",
              "      <td>Adulto</td>\n",
              "      <td>50.0</td>\n",
              "    </tr>\n",
              "    <tr>\n",
              "      <th>600042</th>\n",
              "      <td>Adulto</td>\n",
              "      <td>40.0</td>\n",
              "    </tr>\n",
              "    <tr>\n",
              "      <th>824770</th>\n",
              "      <td>Adulto</td>\n",
              "      <td>50.0</td>\n",
              "    </tr>\n",
              "  </tbody>\n",
              "</table>\n",
              "</div>\n",
              "      <button class=\"colab-df-convert\" onclick=\"convertToInteractive('df-bc4b7881-2b30-4bf2-9699-b3b71a5dc28f')\"\n",
              "              title=\"Convert this dataframe to an interactive table.\"\n",
              "              style=\"display:none;\">\n",
              "        \n",
              "  <svg xmlns=\"http://www.w3.org/2000/svg\" height=\"24px\"viewBox=\"0 0 24 24\"\n",
              "       width=\"24px\">\n",
              "    <path d=\"M0 0h24v24H0V0z\" fill=\"none\"/>\n",
              "    <path d=\"M18.56 5.44l.94 2.06.94-2.06 2.06-.94-2.06-.94-.94-2.06-.94 2.06-2.06.94zm-11 1L8.5 8.5l.94-2.06 2.06-.94-2.06-.94L8.5 2.5l-.94 2.06-2.06.94zm10 10l.94 2.06.94-2.06 2.06-.94-2.06-.94-.94-2.06-.94 2.06-2.06.94z\"/><path d=\"M17.41 7.96l-1.37-1.37c-.4-.4-.92-.59-1.43-.59-.52 0-1.04.2-1.43.59L10.3 9.45l-7.72 7.72c-.78.78-.78 2.05 0 2.83L4 21.41c.39.39.9.59 1.41.59.51 0 1.02-.2 1.41-.59l7.78-7.78 2.81-2.81c.8-.78.8-2.07 0-2.86zM5.41 20L4 18.59l7.72-7.72 1.47 1.35L5.41 20z\"/>\n",
              "  </svg>\n",
              "      </button>\n",
              "      \n",
              "  <style>\n",
              "    .colab-df-container {\n",
              "      display:flex;\n",
              "      flex-wrap:wrap;\n",
              "      gap: 12px;\n",
              "    }\n",
              "\n",
              "    .colab-df-convert {\n",
              "      background-color: #E8F0FE;\n",
              "      border: none;\n",
              "      border-radius: 50%;\n",
              "      cursor: pointer;\n",
              "      display: none;\n",
              "      fill: #1967D2;\n",
              "      height: 32px;\n",
              "      padding: 0 0 0 0;\n",
              "      width: 32px;\n",
              "    }\n",
              "\n",
              "    .colab-df-convert:hover {\n",
              "      background-color: #E2EBFA;\n",
              "      box-shadow: 0px 1px 2px rgba(60, 64, 67, 0.3), 0px 1px 3px 1px rgba(60, 64, 67, 0.15);\n",
              "      fill: #174EA6;\n",
              "    }\n",
              "\n",
              "    [theme=dark] .colab-df-convert {\n",
              "      background-color: #3B4455;\n",
              "      fill: #D2E3FC;\n",
              "    }\n",
              "\n",
              "    [theme=dark] .colab-df-convert:hover {\n",
              "      background-color: #434B5C;\n",
              "      box-shadow: 0px 1px 3px 1px rgba(0, 0, 0, 0.15);\n",
              "      filter: drop-shadow(0px 1px 2px rgba(0, 0, 0, 0.3));\n",
              "      fill: #FFFFFF;\n",
              "    }\n",
              "  </style>\n",
              "\n",
              "      <script>\n",
              "        const buttonEl =\n",
              "          document.querySelector('#df-bc4b7881-2b30-4bf2-9699-b3b71a5dc28f button.colab-df-convert');\n",
              "        buttonEl.style.display =\n",
              "          google.colab.kernel.accessAllowed ? 'block' : 'none';\n",
              "\n",
              "        async function convertToInteractive(key) {\n",
              "          const element = document.querySelector('#df-bc4b7881-2b30-4bf2-9699-b3b71a5dc28f');\n",
              "          const dataTable =\n",
              "            await google.colab.kernel.invokeFunction('convertToInteractive',\n",
              "                                                     [key], {});\n",
              "          if (!dataTable) return;\n",
              "\n",
              "          const docLinkHtml = 'Like what you see? Visit the ' +\n",
              "            '<a target=\"_blank\" href=https://colab.research.google.com/notebooks/data_table.ipynb>data table notebook</a>'\n",
              "            + ' to learn more about interactive tables.';\n",
              "          element.innerHTML = '';\n",
              "          dataTable['output_type'] = 'display_data';\n",
              "          await google.colab.output.renderOutput(dataTable, element);\n",
              "          const docLink = document.createElement('div');\n",
              "          docLink.innerHTML = docLinkHtml;\n",
              "          element.appendChild(docLink);\n",
              "        }\n",
              "      </script>\n",
              "    </div>\n",
              "  </div>\n",
              "  "
            ]
          },
          "metadata": {},
          "execution_count": 23
        }
      ]
    },
    {
      "cell_type": "markdown",
      "id": "576f4495",
      "metadata": {
        "cell_id": "00007-d1ce17da-f6e0-4c12-bbe8-a40a46e7371b",
        "deepnote_cell_type": "markdown",
        "tags": [],
        "id": "576f4495"
      },
      "source": [
        "## 3. Análisis Exploratorio de Datos"
      ]
    },
    {
      "cell_type": "code",
      "execution_count": null,
      "id": "943cbe73",
      "metadata": {
        "vscode": {
          "languageId": "plaintext"
        },
        "id": "943cbe73"
      },
      "outputs": [],
      "source": [
        "!pip install ydata_profiling"
      ]
    },
    {
      "cell_type": "code",
      "execution_count": 21,
      "id": "27056a96",
      "metadata": {
        "vscode": {
          "languageId": "plaintext"
        },
        "id": "27056a96",
        "colab": {
          "base_uri": "https://localhost:8080/",
          "height": 145,
          "referenced_widgets": [
            "8926b00885fb4f73ba1345986d4d8ce2",
            "e7eefad89ba240b7bbe495cb154eab2a",
            "a0d5ca9118d44783a051d5d7f250af9b",
            "cfd9ca87cbe44942b9009f13625c1646",
            "24fd15a6c13e4bcea176af783611d489",
            "91d959129bab49e0bd2afb0bd6597165",
            "3b871b1f018f4958a0a4c6cdabac1355",
            "bc76d683d715428eaba12b22d4cab334",
            "533a9298872c452b9fb419fd9706b89c",
            "7c1a3175c817469695ef30c827e57a64",
            "1511030daa364259b87ca992bc561a4c",
            "2d11e8026103415ebca7af6097f65e1f",
            "a4321b3c8d484ee59a7805b33a3a29b1",
            "8005ffbe44e64b49be9ce4ad4e9186aa",
            "18e9a604daaf48c4a3b81d462c6be230",
            "ce926d59d8c4452292fbd08ccc9f607c",
            "62b03e0f32df49499e69a92d71d12d07",
            "d94ed80216484af5bcb24fbace6ce08a",
            "649288880b194ba08f910b60d60cb0d1",
            "7b577be2d125454da87e027a0dc6a3b3",
            "de6c581ffde14a60a5745daad287678f",
            "dce595c8100e40d390943266a45043f2",
            "616237b54381489ea889fb6416f6eeb2",
            "b91be0fe5eb643a8a871c9a74fe6ecb1",
            "ce774fbf01524aabbf08c0a9c4002023",
            "e301b6e1a7e64da9ae2bb1739a05e454",
            "78e934912b7a43bc966cadd1b1b77165",
            "f594f158ffa84bc195667c754450ecf9",
            "0a3517eeed364abda86eaa3ab79589a5",
            "bdea80d696b24a9aa471586b3ab6b63d",
            "b4dbdc40a59d40629e702c7b21fad8e0",
            "c723c34baf4847f7b61b70fa1caa1f84",
            "2af0b451295c49b1a87b2bcc8d9b6afc",
            "218baf95b2154ffb8e65b107292ce5fa",
            "e59497fff905418e99e4e1a69db264ee",
            "c37ebe4ab7a248ce8a32aa970b2669ed",
            "cdaf44bc221b4783996d7358ef020caf",
            "f013531c1d8049ceb9d6fb17cefcfecf",
            "ccfb46de5c6a47f2a4be4df4576d7217",
            "2106836fe9d24afdaabe077e786e1e37",
            "9beaaa7f558041b4bebdc40faf028414",
            "397f1858e3a14f898a3cde4935bc640a",
            "58484255a77e406c956e4009cfe31365",
            "f9cc34bfe7164150be919b6a47111b67"
          ]
        },
        "outputId": "c704bc18-f058-435e-bebd-a84e56374854"
      },
      "outputs": [
        {
          "output_type": "display_data",
          "data": {
            "text/plain": [
              "Summarize dataset:   0%|          | 0/5 [00:00<?, ?it/s]"
            ],
            "application/vnd.jupyter.widget-view+json": {
              "version_major": 2,
              "version_minor": 0,
              "model_id": "8926b00885fb4f73ba1345986d4d8ce2"
            }
          },
          "metadata": {}
        },
        {
          "output_type": "display_data",
          "data": {
            "text/plain": [
              "Generate report structure:   0%|          | 0/1 [00:00<?, ?it/s]"
            ],
            "application/vnd.jupyter.widget-view+json": {
              "version_major": 2,
              "version_minor": 0,
              "model_id": "2d11e8026103415ebca7af6097f65e1f"
            }
          },
          "metadata": {}
        },
        {
          "output_type": "display_data",
          "data": {
            "text/plain": [
              "Render HTML:   0%|          | 0/1 [00:00<?, ?it/s]"
            ],
            "application/vnd.jupyter.widget-view+json": {
              "version_major": 2,
              "version_minor": 0,
              "model_id": "616237b54381489ea889fb6416f6eeb2"
            }
          },
          "metadata": {}
        },
        {
          "output_type": "display_data",
          "data": {
            "text/plain": [
              "Export report to file:   0%|          | 0/1 [00:00<?, ?it/s]"
            ],
            "application/vnd.jupyter.widget-view+json": {
              "version_major": 2,
              "version_minor": 0,
              "model_id": "218baf95b2154ffb8e65b107292ce5fa"
            }
          },
          "metadata": {}
        }
      ],
      "source": [
        "from ydata_profiling import ProfileReport\n",
        "\n",
        "profile = ProfileReport(df_customers, title=\"EDA\")\n",
        "profile.to_file(\"eda.html\")"
      ]
    },
    {
      "cell_type": "markdown",
      "id": "9faaf197",
      "metadata": {
        "id": "9faaf197"
      },
      "source": [
        "### 3.1 Análisis del EDA"
      ]
    },
    {
      "cell_type": "markdown",
      "source": [
        "#### **Variables relacionadas a información personal**"
      ],
      "metadata": {
        "id": "kXC1-B39pzOQ"
      },
      "id": "kXC1-B39pzOQ"
    },
    {
      "cell_type": "markdown",
      "source": [
        "- La variable `income` es una variable continua en el rango $[0.1,0.9]$, que indica el ingreso anual del cliente en cuantiles. Esta variable sigue una distribución en forma de arco, en el sentido de que la tendencia es hacia los valores extremos mientras que los intermedios aparecen con menor frecuencia, en particular, los ingresos tienden a los cuantiles más altos.\n",
        "- La variable `prev_address_months_count` corresponde al número de meses en que el cliente estuvo en su residencia previa, contando con valores enteros desde el $-1$ en adelante, en donde $-1$ representa un valor nulo. La distribución se decanta por el valor $-1$, siendo este el valor con mayor frecuencia ($76.2\\%$). Según la fuente oficial esto indica datos faltantes, lo que tiene sentido dado que una gran cantidad de clientes podría no tener una residencia previa, o simplemente no proveer dicha información.\n",
        "- La variable `current_address_months_count` es el equivalente a la variable anterior, pero considerando la residencia actual del cliente.En este caso particular, es interesante notar que la distribución presenta muy pocos valores nulos ($-1$), y que tiende a valores entre 0 y 12, presentando una forma casi completamente decreciente en valores posteriores, similar a una distribución *gamma*, lo cuál es de esperar si se consideran clientes nuevos todos los meses.\n",
        "- La variable `customer_age` corresponde a la edad del cliente redondeada a la decada. En este caso la distribución es casi estrictamente creciente hasta llegar a la mediana (50), y estrictamente decreciente para los valores mayores a esta. La mayor frecuencia de clientes se da en los 50 años, mientras que la menor se da en clientes menores de 20. Esto también se refleja en la variable derivada `segmentacion_etaria`, en donde la gran mayoría de clientes son adultos ($71.8\\%$), mientras que una cantidad significativamente menor son jovenes (aproximadamente un $1\\%$).\n",
        "- La variable `employment_status` es una variable categorica que indica el estado laboral del cliente de forma anonima, existiendo 7 posibles categorías (CA, CB, CC, etc). En este sentido, el estado CA es el más frecuente con una predominancia del $68.5\\%$, seguido por CB con un $13.5\\%$. Se puede teorizar que CA corresponde a un contrato laboral fijo, debido a su abundancia, sin embargo no es posible afirmar nada debido a la naturaleza anonima de las categorías.\n",
        "- La variable `housing_status` es una variable categorica que indica el estado residencial del cliente. Similar a la variable anterior, esta es anonima y tiene 7 posibles valores (BA, BB, BC, etc). En este caso la distribución no está tan desbalanceada como el caso anterior, en donde las 3 categorías más frecuentes (BB, BC y BA) poseen un porcentaje similar de muestras ($33.5\\%$, $30.1\\%$ y $21.6\\%$ respectivamente)."
      ],
      "metadata": {
        "id": "VlEUGYy5p9Ax"
      },
      "id": "VlEUGYy5p9Ax"
    },
    {
      "cell_type": "markdown",
      "source": [
        "#### **Variables relacionadas a información de contacto**"
      ],
      "metadata": {
        "id": "9EWaGsu_eUj6"
      },
      "id": "9EWaGsu_eUj6"
    },
    {
      "cell_type": "markdown",
      "source": [
        "- La variable `name_email_similarity` es una variable númerica continua en el rango [0,1], que indica la similitud entre el nombre del cliente y su dirección email. Esta variable no presenta una distribución similar a una conocida, sin embargo, tomando en cuenta que tanto el promedio como la mediana son aproximadamente $0.48$, y que tanto los valores de *kurtosis* ($-1.38$), como de *skewness* ($0.07$), son muy cercanos a 0, se puede concluir que la distribución de valores es simetrica.\n",
        "- La variable `email_is_free` es una variable binaria que indica si el dominio del email utilizado es gratuito o no. En este caso la distribución es casi equitativa, siendo el valor 1 (dominio gratis) el más frecuente, con un $51.9\\%$ de las muestras.\n",
        "- La variable `phone_home_valid` es una variable binaria que indica si el telefono fijo del cliente es válido. En este caso la distribución es casi equitativa, siendo la mayoría de telefonos no válidos, con una frecuencia del $50.7\\%$.\n",
        "- La variable `phone_mobile_valid` es una variable binaria que indica si el telefono móvil del cliente es válido. En este caso la distribución es desbalanceada, pues la mayoría de telefonos son válidos, con una frecuencia del $85.7\\%$."
      ],
      "metadata": {
        "id": "B6XESpkdeoBG"
      },
      "id": "B6XESpkdeoBG"
    },
    {
      "cell_type": "markdown",
      "source": [
        "De la información de contacto, es interesante notar que hay una gran cantidad de telefonos fijos no válidos, posiblemente debido a campos vacíos o mal rellenados debido a que el uso del telefono fijo no es tan frecuente, algo que contrasta con los telefonos móviles, pues la mayoría son válidos. Por otro lado, es interesante notar las distribuciones equitativas para las variables de email, en particular el hecho de que haya mucha gente que utilice dominios de pago para su información de contacto.\n",
        "\n",
        "\n",
        "*Posible relación entre dominio de pago y similitud de email con nombre*"
      ],
      "metadata": {
        "id": "2hRmSSMmn1_k"
      },
      "id": "2hRmSSMmn1_k"
    },
    {
      "cell_type": "markdown",
      "source": [
        "#### **Variables relacionadas a indices bancarios**"
      ],
      "metadata": {
        "id": "KAg1-f_P-bOj"
      },
      "id": "KAg1-f_P-bOj"
    },
    {
      "cell_type": "markdown",
      "source": [
        "- La variable `credit_risk_score` es una variable numérica entera con valores en el rango $[-177, 387]$, esta indica el riesgo del cliente al aplicar a un crédito. La distribución de esta variable es casi simetrica, con un *skew* de $0.28$, en donde la forma de la distribución se asemeja a una normal pronunciada en valores cercanos al promedio (aprox. 139), contando con ciertos desbalances que no le dan la forma exacta.\n",
        "- La variable `fraud_bool` es una variable binaria en el rango $[0,1]$ que indica si la solicitud de crédito es fraudulenta o no. En este caso hay un gran desbalance, pues el $98.8\\%$ de las muestras no son fraudulentas.\n",
        "- La variable `days_since_request` es una variable númerica continua y positiva que indica la cantidad de días que han pasado desde que se ha solicitado un crédito. Esta variable no presenta una distribución clara, pues la mayoría de datos son de solicitudes recientes, por lo que a pesar de haber muestras que llegan a los 76 días, el primer y tercer cuartil se definen en el rango $[0.007, 0.02]$. Se podría considerar la eliminación de outliers basada en esta variable, debido que la distribución es muy extrema para ser una variable continua.\n",
        "- "
      ],
      "metadata": {
        "id": "Qhp_n1dg_BVC"
      },
      "id": "Qhp_n1dg_BVC"
    },
    {
      "cell_type": "markdown",
      "source": [
        "#### **Variables relacionadas a dispositivos**"
      ],
      "metadata": {
        "id": "Zq_gr9kDaxim"
      },
      "id": "Zq_gr9kDaxim"
    },
    {
      "cell_type": "markdown",
      "source": [
        "- La variable `device_os`, que indica el sistema operativo del dispositivo a través del cuál se ha realizado una solicitud, presenta una tendencia hacia los sistemas operativos *linux* y *windows*, mientras que una variedad de otros dispositivos son la tercera mayoría.\n",
        "- La variable `device_fraud_count`, que indica el número de aplicaciones fraudulentas utilizadas en el dispositivo, es constante y de valor 0. Que la variable sea constante indica que es irrelevante para cualquier estudio relacionado a la detección de clientes fraudulentos. \n",
        "- La variable `device_distinct_emails_8w` indica el número de emails distintos utilizados en el banco, a través del dispositivo utilizado, durante las últimas 8 semanas. En este caso el valor predominante de emails es 1, con una frecuencia de aprox. el 96%, mientras que el de menor frecuencia es -1, que indica valores faltantes."
      ],
      "metadata": {
        "id": "YfekqUldb_2W"
      },
      "id": "YfekqUldb_2W"
    },
    {
      "cell_type": "markdown",
      "source": [
        "#### **Relaciones destacables**"
      ],
      "metadata": {
        "id": "1dh_jzXRb-dH"
      },
      "id": "1dh_jzXRb-dH"
    },
    {
      "cell_type": "markdown",
      "source": [
        "\n",
        "\n",
        "- Es de notar que no hay valores faltantes después de la limpieza de la parte 2."
      ],
      "metadata": {
        "id": "DRrh9R6meXzk"
      },
      "id": "DRrh9R6meXzk"
    },
    {
      "cell_type": "code",
      "execution_count": null,
      "id": "74869edc",
      "metadata": {
        "vscode": {
          "languageId": "plaintext"
        },
        "id": "74869edc"
      },
      "outputs": [],
      "source": [
        "..."
      ]
    },
    {
      "cell_type": "markdown",
      "id": "66c034e4",
      "metadata": {
        "cell_id": "00010-41569a5a-d2db-40c6-a236-99a8d5ef58b7",
        "deepnote_cell_type": "markdown",
        "id": "66c034e4"
      },
      "source": [
        "## 4. Preprocesamiento"
      ]
    },
    {
      "cell_type": "markdown",
      "source": [
        "Se considera apropiado pasar todas las caracteristicas númericas estrictamente positivas al rango $[0,1]$, para que de esta forma todas estén en un dominio similar. En el caso de las variables con valores negativos, se considera apropiado aplicar un escalado en el rango $[-1,1]$\n",
        "\n",
        "Respecto a las variables categoricas, estas se deberían traspasar a un valor númerico para que sea posible trabajar con ellas con modelos estadisticos. En este caso se decide utilizar la técnica *One-Hot Encoding*, para evitar representar las categorías en una escala continua."
      ],
      "metadata": {
        "id": "pQzzhYTGmEQa"
      },
      "id": "pQzzhYTGmEQa"
    },
    {
      "cell_type": "code",
      "source": [
        "df_customers.head()"
      ],
      "metadata": {
        "colab": {
          "base_uri": "https://localhost:8080/",
          "height": 299
        },
        "id": "wYYKJ4Xsck8K",
        "outputId": "a32a8a1e-4618-49bb-ab20-8f5eef5fa447"
      },
      "id": "wYYKJ4Xsck8K",
      "execution_count": 22,
      "outputs": [
        {
          "output_type": "execute_result",
          "data": {
            "text/plain": [
              "       id  fraud_bool  income  prev_address_months_count  \\\n",
              "0  729517         0.0     0.7                       -1.0   \n",
              "2  149585         0.0     0.8                       -1.0   \n",
              "4   64486         0.0     0.9                       -1.0   \n",
              "5  825283         0.0     0.5                       -1.0   \n",
              "7    8308         0.0     0.9                       -1.0   \n",
              "\n",
              "   current_address_months_count  customer_age  days_since_request  \\\n",
              "0                         305.0          60.0            0.030059   \n",
              "2                         140.0          50.0            0.015659   \n",
              "4                         171.0          50.0            0.001409   \n",
              "5                          85.0          30.0            0.027292   \n",
              "7                          39.0          30.0            0.010945   \n",
              "\n",
              "   intended_balcon_amount payment_type  zip_count_4w  ...  month        x1  \\\n",
              "0               -1.599455           AC         990.0  ...    2.0 -0.245425   \n",
              "2                3.951994           AA        1269.0  ...    7.0  0.009336   \n",
              "4               28.159779           AB        4430.0  ...    1.0  2.229616   \n",
              "5               -1.310498           AB        1698.0  ...    3.0 -0.193945   \n",
              "7               -1.450972           AC         569.0  ...    3.0 -2.440650   \n",
              "\n",
              "         x2  name_email_similarity date_of_birth_distinct_emails_4w  \\\n",
              "0  0.568811               0.883485                              2.0   \n",
              "2 -2.096682               0.113208                              4.0   \n",
              "4 -0.005823               0.792797                              4.0   \n",
              "5  0.861207               0.865082                             10.0   \n",
              "7  0.354986               0.450024                             13.0   \n",
              "\n",
              "   email_is_free device_distinct_emails_8w  phone_home_valid  \\\n",
              "0            1.0                       1.0               0.0   \n",
              "2            1.0                       1.0               1.0   \n",
              "4            0.0                       1.0               0.0   \n",
              "5            0.0                       1.0               0.0   \n",
              "7            1.0                       1.0               0.0   \n",
              "\n",
              "   phone_mobile_valid  segmentacion_etaria  \n",
              "0                 1.0        Persona Mayor  \n",
              "2                 1.0               Adulto  \n",
              "4                 1.0               Adulto  \n",
              "5                 1.0               Adulto  \n",
              "7                 0.0               Adulto  \n",
              "\n",
              "[5 rows x 36 columns]"
            ],
            "text/html": [
              "\n",
              "  <div id=\"df-a12b0bd1-7c1f-424e-914c-bd42f3b0c1b2\">\n",
              "    <div class=\"colab-df-container\">\n",
              "      <div>\n",
              "<style scoped>\n",
              "    .dataframe tbody tr th:only-of-type {\n",
              "        vertical-align: middle;\n",
              "    }\n",
              "\n",
              "    .dataframe tbody tr th {\n",
              "        vertical-align: top;\n",
              "    }\n",
              "\n",
              "    .dataframe thead th {\n",
              "        text-align: right;\n",
              "    }\n",
              "</style>\n",
              "<table border=\"1\" class=\"dataframe\">\n",
              "  <thead>\n",
              "    <tr style=\"text-align: right;\">\n",
              "      <th></th>\n",
              "      <th>id</th>\n",
              "      <th>fraud_bool</th>\n",
              "      <th>income</th>\n",
              "      <th>prev_address_months_count</th>\n",
              "      <th>current_address_months_count</th>\n",
              "      <th>customer_age</th>\n",
              "      <th>days_since_request</th>\n",
              "      <th>intended_balcon_amount</th>\n",
              "      <th>payment_type</th>\n",
              "      <th>zip_count_4w</th>\n",
              "      <th>...</th>\n",
              "      <th>month</th>\n",
              "      <th>x1</th>\n",
              "      <th>x2</th>\n",
              "      <th>name_email_similarity</th>\n",
              "      <th>date_of_birth_distinct_emails_4w</th>\n",
              "      <th>email_is_free</th>\n",
              "      <th>device_distinct_emails_8w</th>\n",
              "      <th>phone_home_valid</th>\n",
              "      <th>phone_mobile_valid</th>\n",
              "      <th>segmentacion_etaria</th>\n",
              "    </tr>\n",
              "  </thead>\n",
              "  <tbody>\n",
              "    <tr>\n",
              "      <th>0</th>\n",
              "      <td>729517</td>\n",
              "      <td>0.0</td>\n",
              "      <td>0.7</td>\n",
              "      <td>-1.0</td>\n",
              "      <td>305.0</td>\n",
              "      <td>60.0</td>\n",
              "      <td>0.030059</td>\n",
              "      <td>-1.599455</td>\n",
              "      <td>AC</td>\n",
              "      <td>990.0</td>\n",
              "      <td>...</td>\n",
              "      <td>2.0</td>\n",
              "      <td>-0.245425</td>\n",
              "      <td>0.568811</td>\n",
              "      <td>0.883485</td>\n",
              "      <td>2.0</td>\n",
              "      <td>1.0</td>\n",
              "      <td>1.0</td>\n",
              "      <td>0.0</td>\n",
              "      <td>1.0</td>\n",
              "      <td>Persona Mayor</td>\n",
              "    </tr>\n",
              "    <tr>\n",
              "      <th>2</th>\n",
              "      <td>149585</td>\n",
              "      <td>0.0</td>\n",
              "      <td>0.8</td>\n",
              "      <td>-1.0</td>\n",
              "      <td>140.0</td>\n",
              "      <td>50.0</td>\n",
              "      <td>0.015659</td>\n",
              "      <td>3.951994</td>\n",
              "      <td>AA</td>\n",
              "      <td>1269.0</td>\n",
              "      <td>...</td>\n",
              "      <td>7.0</td>\n",
              "      <td>0.009336</td>\n",
              "      <td>-2.096682</td>\n",
              "      <td>0.113208</td>\n",
              "      <td>4.0</td>\n",
              "      <td>1.0</td>\n",
              "      <td>1.0</td>\n",
              "      <td>1.0</td>\n",
              "      <td>1.0</td>\n",
              "      <td>Adulto</td>\n",
              "    </tr>\n",
              "    <tr>\n",
              "      <th>4</th>\n",
              "      <td>64486</td>\n",
              "      <td>0.0</td>\n",
              "      <td>0.9</td>\n",
              "      <td>-1.0</td>\n",
              "      <td>171.0</td>\n",
              "      <td>50.0</td>\n",
              "      <td>0.001409</td>\n",
              "      <td>28.159779</td>\n",
              "      <td>AB</td>\n",
              "      <td>4430.0</td>\n",
              "      <td>...</td>\n",
              "      <td>1.0</td>\n",
              "      <td>2.229616</td>\n",
              "      <td>-0.005823</td>\n",
              "      <td>0.792797</td>\n",
              "      <td>4.0</td>\n",
              "      <td>0.0</td>\n",
              "      <td>1.0</td>\n",
              "      <td>0.0</td>\n",
              "      <td>1.0</td>\n",
              "      <td>Adulto</td>\n",
              "    </tr>\n",
              "    <tr>\n",
              "      <th>5</th>\n",
              "      <td>825283</td>\n",
              "      <td>0.0</td>\n",
              "      <td>0.5</td>\n",
              "      <td>-1.0</td>\n",
              "      <td>85.0</td>\n",
              "      <td>30.0</td>\n",
              "      <td>0.027292</td>\n",
              "      <td>-1.310498</td>\n",
              "      <td>AB</td>\n",
              "      <td>1698.0</td>\n",
              "      <td>...</td>\n",
              "      <td>3.0</td>\n",
              "      <td>-0.193945</td>\n",
              "      <td>0.861207</td>\n",
              "      <td>0.865082</td>\n",
              "      <td>10.0</td>\n",
              "      <td>0.0</td>\n",
              "      <td>1.0</td>\n",
              "      <td>0.0</td>\n",
              "      <td>1.0</td>\n",
              "      <td>Adulto</td>\n",
              "    </tr>\n",
              "    <tr>\n",
              "      <th>7</th>\n",
              "      <td>8308</td>\n",
              "      <td>0.0</td>\n",
              "      <td>0.9</td>\n",
              "      <td>-1.0</td>\n",
              "      <td>39.0</td>\n",
              "      <td>30.0</td>\n",
              "      <td>0.010945</td>\n",
              "      <td>-1.450972</td>\n",
              "      <td>AC</td>\n",
              "      <td>569.0</td>\n",
              "      <td>...</td>\n",
              "      <td>3.0</td>\n",
              "      <td>-2.440650</td>\n",
              "      <td>0.354986</td>\n",
              "      <td>0.450024</td>\n",
              "      <td>13.0</td>\n",
              "      <td>1.0</td>\n",
              "      <td>1.0</td>\n",
              "      <td>0.0</td>\n",
              "      <td>0.0</td>\n",
              "      <td>Adulto</td>\n",
              "    </tr>\n",
              "  </tbody>\n",
              "</table>\n",
              "<p>5 rows × 36 columns</p>\n",
              "</div>\n",
              "      <button class=\"colab-df-convert\" onclick=\"convertToInteractive('df-a12b0bd1-7c1f-424e-914c-bd42f3b0c1b2')\"\n",
              "              title=\"Convert this dataframe to an interactive table.\"\n",
              "              style=\"display:none;\">\n",
              "        \n",
              "  <svg xmlns=\"http://www.w3.org/2000/svg\" height=\"24px\"viewBox=\"0 0 24 24\"\n",
              "       width=\"24px\">\n",
              "    <path d=\"M0 0h24v24H0V0z\" fill=\"none\"/>\n",
              "    <path d=\"M18.56 5.44l.94 2.06.94-2.06 2.06-.94-2.06-.94-.94-2.06-.94 2.06-2.06.94zm-11 1L8.5 8.5l.94-2.06 2.06-.94-2.06-.94L8.5 2.5l-.94 2.06-2.06.94zm10 10l.94 2.06.94-2.06 2.06-.94-2.06-.94-.94-2.06-.94 2.06-2.06.94z\"/><path d=\"M17.41 7.96l-1.37-1.37c-.4-.4-.92-.59-1.43-.59-.52 0-1.04.2-1.43.59L10.3 9.45l-7.72 7.72c-.78.78-.78 2.05 0 2.83L4 21.41c.39.39.9.59 1.41.59.51 0 1.02-.2 1.41-.59l7.78-7.78 2.81-2.81c.8-.78.8-2.07 0-2.86zM5.41 20L4 18.59l7.72-7.72 1.47 1.35L5.41 20z\"/>\n",
              "  </svg>\n",
              "      </button>\n",
              "      \n",
              "  <style>\n",
              "    .colab-df-container {\n",
              "      display:flex;\n",
              "      flex-wrap:wrap;\n",
              "      gap: 12px;\n",
              "    }\n",
              "\n",
              "    .colab-df-convert {\n",
              "      background-color: #E8F0FE;\n",
              "      border: none;\n",
              "      border-radius: 50%;\n",
              "      cursor: pointer;\n",
              "      display: none;\n",
              "      fill: #1967D2;\n",
              "      height: 32px;\n",
              "      padding: 0 0 0 0;\n",
              "      width: 32px;\n",
              "    }\n",
              "\n",
              "    .colab-df-convert:hover {\n",
              "      background-color: #E2EBFA;\n",
              "      box-shadow: 0px 1px 2px rgba(60, 64, 67, 0.3), 0px 1px 3px 1px rgba(60, 64, 67, 0.15);\n",
              "      fill: #174EA6;\n",
              "    }\n",
              "\n",
              "    [theme=dark] .colab-df-convert {\n",
              "      background-color: #3B4455;\n",
              "      fill: #D2E3FC;\n",
              "    }\n",
              "\n",
              "    [theme=dark] .colab-df-convert:hover {\n",
              "      background-color: #434B5C;\n",
              "      box-shadow: 0px 1px 3px 1px rgba(0, 0, 0, 0.15);\n",
              "      filter: drop-shadow(0px 1px 2px rgba(0, 0, 0, 0.3));\n",
              "      fill: #FFFFFF;\n",
              "    }\n",
              "  </style>\n",
              "\n",
              "      <script>\n",
              "        const buttonEl =\n",
              "          document.querySelector('#df-a12b0bd1-7c1f-424e-914c-bd42f3b0c1b2 button.colab-df-convert');\n",
              "        buttonEl.style.display =\n",
              "          google.colab.kernel.accessAllowed ? 'block' : 'none';\n",
              "\n",
              "        async function convertToInteractive(key) {\n",
              "          const element = document.querySelector('#df-a12b0bd1-7c1f-424e-914c-bd42f3b0c1b2');\n",
              "          const dataTable =\n",
              "            await google.colab.kernel.invokeFunction('convertToInteractive',\n",
              "                                                     [key], {});\n",
              "          if (!dataTable) return;\n",
              "\n",
              "          const docLinkHtml = 'Like what you see? Visit the ' +\n",
              "            '<a target=\"_blank\" href=https://colab.research.google.com/notebooks/data_table.ipynb>data table notebook</a>'\n",
              "            + ' to learn more about interactive tables.';\n",
              "          element.innerHTML = '';\n",
              "          dataTable['output_type'] = 'display_data';\n",
              "          await google.colab.output.renderOutput(dataTable, element);\n",
              "          const docLink = document.createElement('div');\n",
              "          docLink.innerHTML = docLinkHtml;\n",
              "          element.appendChild(docLink);\n",
              "        }\n",
              "      </script>\n",
              "    </div>\n",
              "  </div>\n",
              "  "
            ]
          },
          "metadata": {},
          "execution_count": 22
        }
      ]
    },
    {
      "cell_type": "markdown",
      "id": "95c8cf73",
      "metadata": {
        "id": "95c8cf73"
      },
      "source": [
        "### 4.1 Declarar `ColumnTransformer`"
      ]
    },
    {
      "cell_type": "code",
      "execution_count": null,
      "id": "f1799cb4",
      "metadata": {
        "vscode": {
          "languageId": "plaintext"
        },
        "id": "f1799cb4"
      },
      "outputs": [],
      "source": [
        "..."
      ]
    },
    {
      "cell_type": "markdown",
      "id": "1a23ec24",
      "metadata": {
        "id": "1a23ec24"
      },
      "source": [
        "### 4.2 Transformar datos"
      ]
    },
    {
      "cell_type": "code",
      "execution_count": null,
      "id": "749ab504",
      "metadata": {
        "vscode": {
          "languageId": "plaintext"
        },
        "id": "749ab504"
      },
      "outputs": [],
      "source": [
        "..."
      ]
    },
    {
      "cell_type": "markdown",
      "id": "40b95e20-857d-4e29-8071-0071dfd3f62f",
      "metadata": {
        "id": "40b95e20-857d-4e29-8071-0071dfd3f62f"
      },
      "source": [
        "## 5. Visualización en Baja Dimensionalidad"
      ]
    },
    {
      "cell_type": "markdown",
      "id": "8f55ee74",
      "metadata": {
        "id": "8f55ee74"
      },
      "source": [
        "### 5.1 Muestrear dataframe"
      ]
    },
    {
      "cell_type": "code",
      "execution_count": null,
      "id": "b7e169dd",
      "metadata": {
        "vscode": {
          "languageId": "plaintext"
        },
        "id": "b7e169dd"
      },
      "outputs": [],
      "source": [
        "..."
      ]
    },
    {
      "cell_type": "markdown",
      "id": "a699143c",
      "metadata": {
        "id": "a699143c"
      },
      "source": [
        "### 5.2 Proyectar y agregar proyecciones al dataframe de muestreo"
      ]
    },
    {
      "cell_type": "code",
      "execution_count": null,
      "id": "bbbe5843",
      "metadata": {
        "vscode": {
          "languageId": "plaintext"
        },
        "id": "bbbe5843"
      },
      "outputs": [],
      "source": [
        "..."
      ]
    },
    {
      "cell_type": "markdown",
      "id": "491bdaf7",
      "metadata": {
        "id": "491bdaf7"
      },
      "source": [
        "### 5.3 Visualizar según rangos etarios"
      ]
    },
    {
      "cell_type": "code",
      "execution_count": null,
      "id": "d94ac394",
      "metadata": {
        "vscode": {
          "languageId": "plaintext"
        },
        "id": "d94ac394"
      },
      "outputs": [],
      "source": [
        "..."
      ]
    },
    {
      "cell_type": "markdown",
      "id": "ca2ac9bc-c472-49d6-81fc-ccfd2a07b92e",
      "metadata": {
        "id": "ca2ac9bc-c472-49d6-81fc-ccfd2a07b92e"
      },
      "source": [
        "## 6. Anomalías"
      ]
    },
    {
      "cell_type": "markdown",
      "id": "723aa232",
      "metadata": {
        "id": "723aa232"
      },
      "source": [
        "### 6.1 Implementar detector de anomalías sobre dataframe de muestreo"
      ]
    },
    {
      "cell_type": "code",
      "execution_count": null,
      "id": "3bf5300b",
      "metadata": {
        "vscode": {
          "languageId": "plaintext"
        },
        "id": "3bf5300b"
      },
      "outputs": [],
      "source": [
        "..."
      ]
    },
    {
      "cell_type": "markdown",
      "id": "e9a26f75",
      "metadata": {
        "id": "e9a26f75"
      },
      "source": [
        "### 6.2 Agregar resultados a dataframe de muestreo"
      ]
    },
    {
      "cell_type": "code",
      "execution_count": null,
      "id": "ae3a3402",
      "metadata": {
        "vscode": {
          "languageId": "plaintext"
        },
        "id": "ae3a3402"
      },
      "outputs": [],
      "source": [
        "..."
      ]
    },
    {
      "cell_type": "markdown",
      "id": "31faab8b",
      "metadata": {
        "id": "31faab8b"
      },
      "source": [
        "### 6.3 Visualizar según rangos etarios"
      ]
    },
    {
      "cell_type": "code",
      "execution_count": null,
      "id": "b9f67978",
      "metadata": {
        "vscode": {
          "languageId": "plaintext"
        },
        "id": "b9f67978"
      },
      "outputs": [],
      "source": [
        "..."
      ]
    },
    {
      "cell_type": "markdown",
      "id": "61449e87",
      "metadata": {
        "id": "61449e87"
      },
      "source": [
        "### 6.4 Calcular ratios y responder"
      ]
    },
    {
      "cell_type": "code",
      "execution_count": null,
      "id": "fd07169f",
      "metadata": {
        "vscode": {
          "languageId": "plaintext"
        },
        "id": "fd07169f"
      },
      "outputs": [],
      "source": [
        "..."
      ]
    }
  ],
  "metadata": {
    "deepnote": {},
    "deepnote_execution_queue": [],
    "deepnote_notebook_id": "cd4ffb8b-90a0-4648-9d80-2b8c0eef5325",
    "kernelspec": {
      "display_name": "Python 3 (ipykernel)",
      "language": "python",
      "name": "python3"
    },
    "language_info": {
      "codemirror_mode": {
        "name": "ipython",
        "version": 3
      },
      "file_extension": ".py",
      "mimetype": "text/x-python",
      "name": "python",
      "nbconvert_exporter": "python",
      "pygments_lexer": "ipython3",
      "version": "3.10.9"
    },
    "colab": {
      "provenance": [],
      "toc_visible": true
    },
    "widgets": {
      "application/vnd.jupyter.widget-state+json": {
        "8926b00885fb4f73ba1345986d4d8ce2": {
          "model_module": "@jupyter-widgets/controls",
          "model_name": "HBoxModel",
          "model_module_version": "1.5.0",
          "state": {
            "_dom_classes": [],
            "_model_module": "@jupyter-widgets/controls",
            "_model_module_version": "1.5.0",
            "_model_name": "HBoxModel",
            "_view_count": null,
            "_view_module": "@jupyter-widgets/controls",
            "_view_module_version": "1.5.0",
            "_view_name": "HBoxView",
            "box_style": "",
            "children": [
              "IPY_MODEL_e7eefad89ba240b7bbe495cb154eab2a",
              "IPY_MODEL_a0d5ca9118d44783a051d5d7f250af9b",
              "IPY_MODEL_cfd9ca87cbe44942b9009f13625c1646"
            ],
            "layout": "IPY_MODEL_24fd15a6c13e4bcea176af783611d489"
          }
        },
        "e7eefad89ba240b7bbe495cb154eab2a": {
          "model_module": "@jupyter-widgets/controls",
          "model_name": "HTMLModel",
          "model_module_version": "1.5.0",
          "state": {
            "_dom_classes": [],
            "_model_module": "@jupyter-widgets/controls",
            "_model_module_version": "1.5.0",
            "_model_name": "HTMLModel",
            "_view_count": null,
            "_view_module": "@jupyter-widgets/controls",
            "_view_module_version": "1.5.0",
            "_view_name": "HTMLView",
            "description": "",
            "description_tooltip": null,
            "layout": "IPY_MODEL_91d959129bab49e0bd2afb0bd6597165",
            "placeholder": "​",
            "style": "IPY_MODEL_3b871b1f018f4958a0a4c6cdabac1355",
            "value": "Summarize dataset: 100%"
          }
        },
        "a0d5ca9118d44783a051d5d7f250af9b": {
          "model_module": "@jupyter-widgets/controls",
          "model_name": "FloatProgressModel",
          "model_module_version": "1.5.0",
          "state": {
            "_dom_classes": [],
            "_model_module": "@jupyter-widgets/controls",
            "_model_module_version": "1.5.0",
            "_model_name": "FloatProgressModel",
            "_view_count": null,
            "_view_module": "@jupyter-widgets/controls",
            "_view_module_version": "1.5.0",
            "_view_name": "ProgressView",
            "bar_style": "success",
            "description": "",
            "description_tooltip": null,
            "layout": "IPY_MODEL_bc76d683d715428eaba12b22d4cab334",
            "max": 5,
            "min": 0,
            "orientation": "horizontal",
            "style": "IPY_MODEL_533a9298872c452b9fb419fd9706b89c",
            "value": 5
          }
        },
        "cfd9ca87cbe44942b9009f13625c1646": {
          "model_module": "@jupyter-widgets/controls",
          "model_name": "HTMLModel",
          "model_module_version": "1.5.0",
          "state": {
            "_dom_classes": [],
            "_model_module": "@jupyter-widgets/controls",
            "_model_module_version": "1.5.0",
            "_model_name": "HTMLModel",
            "_view_count": null,
            "_view_module": "@jupyter-widgets/controls",
            "_view_module_version": "1.5.0",
            "_view_name": "HTMLView",
            "description": "",
            "description_tooltip": null,
            "layout": "IPY_MODEL_7c1a3175c817469695ef30c827e57a64",
            "placeholder": "​",
            "style": "IPY_MODEL_1511030daa364259b87ca992bc561a4c",
            "value": " 486/486 [05:46&lt;00:00,  2.50s/it, Completed]"
          }
        },
        "24fd15a6c13e4bcea176af783611d489": {
          "model_module": "@jupyter-widgets/base",
          "model_name": "LayoutModel",
          "model_module_version": "1.2.0",
          "state": {
            "_model_module": "@jupyter-widgets/base",
            "_model_module_version": "1.2.0",
            "_model_name": "LayoutModel",
            "_view_count": null,
            "_view_module": "@jupyter-widgets/base",
            "_view_module_version": "1.2.0",
            "_view_name": "LayoutView",
            "align_content": null,
            "align_items": null,
            "align_self": null,
            "border": null,
            "bottom": null,
            "display": null,
            "flex": null,
            "flex_flow": null,
            "grid_area": null,
            "grid_auto_columns": null,
            "grid_auto_flow": null,
            "grid_auto_rows": null,
            "grid_column": null,
            "grid_gap": null,
            "grid_row": null,
            "grid_template_areas": null,
            "grid_template_columns": null,
            "grid_template_rows": null,
            "height": null,
            "justify_content": null,
            "justify_items": null,
            "left": null,
            "margin": null,
            "max_height": null,
            "max_width": null,
            "min_height": null,
            "min_width": null,
            "object_fit": null,
            "object_position": null,
            "order": null,
            "overflow": null,
            "overflow_x": null,
            "overflow_y": null,
            "padding": null,
            "right": null,
            "top": null,
            "visibility": null,
            "width": null
          }
        },
        "91d959129bab49e0bd2afb0bd6597165": {
          "model_module": "@jupyter-widgets/base",
          "model_name": "LayoutModel",
          "model_module_version": "1.2.0",
          "state": {
            "_model_module": "@jupyter-widgets/base",
            "_model_module_version": "1.2.0",
            "_model_name": "LayoutModel",
            "_view_count": null,
            "_view_module": "@jupyter-widgets/base",
            "_view_module_version": "1.2.0",
            "_view_name": "LayoutView",
            "align_content": null,
            "align_items": null,
            "align_self": null,
            "border": null,
            "bottom": null,
            "display": null,
            "flex": null,
            "flex_flow": null,
            "grid_area": null,
            "grid_auto_columns": null,
            "grid_auto_flow": null,
            "grid_auto_rows": null,
            "grid_column": null,
            "grid_gap": null,
            "grid_row": null,
            "grid_template_areas": null,
            "grid_template_columns": null,
            "grid_template_rows": null,
            "height": null,
            "justify_content": null,
            "justify_items": null,
            "left": null,
            "margin": null,
            "max_height": null,
            "max_width": null,
            "min_height": null,
            "min_width": null,
            "object_fit": null,
            "object_position": null,
            "order": null,
            "overflow": null,
            "overflow_x": null,
            "overflow_y": null,
            "padding": null,
            "right": null,
            "top": null,
            "visibility": null,
            "width": null
          }
        },
        "3b871b1f018f4958a0a4c6cdabac1355": {
          "model_module": "@jupyter-widgets/controls",
          "model_name": "DescriptionStyleModel",
          "model_module_version": "1.5.0",
          "state": {
            "_model_module": "@jupyter-widgets/controls",
            "_model_module_version": "1.5.0",
            "_model_name": "DescriptionStyleModel",
            "_view_count": null,
            "_view_module": "@jupyter-widgets/base",
            "_view_module_version": "1.2.0",
            "_view_name": "StyleView",
            "description_width": ""
          }
        },
        "bc76d683d715428eaba12b22d4cab334": {
          "model_module": "@jupyter-widgets/base",
          "model_name": "LayoutModel",
          "model_module_version": "1.2.0",
          "state": {
            "_model_module": "@jupyter-widgets/base",
            "_model_module_version": "1.2.0",
            "_model_name": "LayoutModel",
            "_view_count": null,
            "_view_module": "@jupyter-widgets/base",
            "_view_module_version": "1.2.0",
            "_view_name": "LayoutView",
            "align_content": null,
            "align_items": null,
            "align_self": null,
            "border": null,
            "bottom": null,
            "display": null,
            "flex": null,
            "flex_flow": null,
            "grid_area": null,
            "grid_auto_columns": null,
            "grid_auto_flow": null,
            "grid_auto_rows": null,
            "grid_column": null,
            "grid_gap": null,
            "grid_row": null,
            "grid_template_areas": null,
            "grid_template_columns": null,
            "grid_template_rows": null,
            "height": null,
            "justify_content": null,
            "justify_items": null,
            "left": null,
            "margin": null,
            "max_height": null,
            "max_width": null,
            "min_height": null,
            "min_width": null,
            "object_fit": null,
            "object_position": null,
            "order": null,
            "overflow": null,
            "overflow_x": null,
            "overflow_y": null,
            "padding": null,
            "right": null,
            "top": null,
            "visibility": null,
            "width": null
          }
        },
        "533a9298872c452b9fb419fd9706b89c": {
          "model_module": "@jupyter-widgets/controls",
          "model_name": "ProgressStyleModel",
          "model_module_version": "1.5.0",
          "state": {
            "_model_module": "@jupyter-widgets/controls",
            "_model_module_version": "1.5.0",
            "_model_name": "ProgressStyleModel",
            "_view_count": null,
            "_view_module": "@jupyter-widgets/base",
            "_view_module_version": "1.2.0",
            "_view_name": "StyleView",
            "bar_color": null,
            "description_width": ""
          }
        },
        "7c1a3175c817469695ef30c827e57a64": {
          "model_module": "@jupyter-widgets/base",
          "model_name": "LayoutModel",
          "model_module_version": "1.2.0",
          "state": {
            "_model_module": "@jupyter-widgets/base",
            "_model_module_version": "1.2.0",
            "_model_name": "LayoutModel",
            "_view_count": null,
            "_view_module": "@jupyter-widgets/base",
            "_view_module_version": "1.2.0",
            "_view_name": "LayoutView",
            "align_content": null,
            "align_items": null,
            "align_self": null,
            "border": null,
            "bottom": null,
            "display": null,
            "flex": null,
            "flex_flow": null,
            "grid_area": null,
            "grid_auto_columns": null,
            "grid_auto_flow": null,
            "grid_auto_rows": null,
            "grid_column": null,
            "grid_gap": null,
            "grid_row": null,
            "grid_template_areas": null,
            "grid_template_columns": null,
            "grid_template_rows": null,
            "height": null,
            "justify_content": null,
            "justify_items": null,
            "left": null,
            "margin": null,
            "max_height": null,
            "max_width": null,
            "min_height": null,
            "min_width": null,
            "object_fit": null,
            "object_position": null,
            "order": null,
            "overflow": null,
            "overflow_x": null,
            "overflow_y": null,
            "padding": null,
            "right": null,
            "top": null,
            "visibility": null,
            "width": null
          }
        },
        "1511030daa364259b87ca992bc561a4c": {
          "model_module": "@jupyter-widgets/controls",
          "model_name": "DescriptionStyleModel",
          "model_module_version": "1.5.0",
          "state": {
            "_model_module": "@jupyter-widgets/controls",
            "_model_module_version": "1.5.0",
            "_model_name": "DescriptionStyleModel",
            "_view_count": null,
            "_view_module": "@jupyter-widgets/base",
            "_view_module_version": "1.2.0",
            "_view_name": "StyleView",
            "description_width": ""
          }
        },
        "2d11e8026103415ebca7af6097f65e1f": {
          "model_module": "@jupyter-widgets/controls",
          "model_name": "HBoxModel",
          "model_module_version": "1.5.0",
          "state": {
            "_dom_classes": [],
            "_model_module": "@jupyter-widgets/controls",
            "_model_module_version": "1.5.0",
            "_model_name": "HBoxModel",
            "_view_count": null,
            "_view_module": "@jupyter-widgets/controls",
            "_view_module_version": "1.5.0",
            "_view_name": "HBoxView",
            "box_style": "",
            "children": [
              "IPY_MODEL_a4321b3c8d484ee59a7805b33a3a29b1",
              "IPY_MODEL_8005ffbe44e64b49be9ce4ad4e9186aa",
              "IPY_MODEL_18e9a604daaf48c4a3b81d462c6be230"
            ],
            "layout": "IPY_MODEL_ce926d59d8c4452292fbd08ccc9f607c"
          }
        },
        "a4321b3c8d484ee59a7805b33a3a29b1": {
          "model_module": "@jupyter-widgets/controls",
          "model_name": "HTMLModel",
          "model_module_version": "1.5.0",
          "state": {
            "_dom_classes": [],
            "_model_module": "@jupyter-widgets/controls",
            "_model_module_version": "1.5.0",
            "_model_name": "HTMLModel",
            "_view_count": null,
            "_view_module": "@jupyter-widgets/controls",
            "_view_module_version": "1.5.0",
            "_view_name": "HTMLView",
            "description": "",
            "description_tooltip": null,
            "layout": "IPY_MODEL_62b03e0f32df49499e69a92d71d12d07",
            "placeholder": "​",
            "style": "IPY_MODEL_d94ed80216484af5bcb24fbace6ce08a",
            "value": "Generate report structure: 100%"
          }
        },
        "8005ffbe44e64b49be9ce4ad4e9186aa": {
          "model_module": "@jupyter-widgets/controls",
          "model_name": "FloatProgressModel",
          "model_module_version": "1.5.0",
          "state": {
            "_dom_classes": [],
            "_model_module": "@jupyter-widgets/controls",
            "_model_module_version": "1.5.0",
            "_model_name": "FloatProgressModel",
            "_view_count": null,
            "_view_module": "@jupyter-widgets/controls",
            "_view_module_version": "1.5.0",
            "_view_name": "ProgressView",
            "bar_style": "success",
            "description": "",
            "description_tooltip": null,
            "layout": "IPY_MODEL_649288880b194ba08f910b60d60cb0d1",
            "max": 1,
            "min": 0,
            "orientation": "horizontal",
            "style": "IPY_MODEL_7b577be2d125454da87e027a0dc6a3b3",
            "value": 1
          }
        },
        "18e9a604daaf48c4a3b81d462c6be230": {
          "model_module": "@jupyter-widgets/controls",
          "model_name": "HTMLModel",
          "model_module_version": "1.5.0",
          "state": {
            "_dom_classes": [],
            "_model_module": "@jupyter-widgets/controls",
            "_model_module_version": "1.5.0",
            "_model_name": "HTMLModel",
            "_view_count": null,
            "_view_module": "@jupyter-widgets/controls",
            "_view_module_version": "1.5.0",
            "_view_name": "HTMLView",
            "description": "",
            "description_tooltip": null,
            "layout": "IPY_MODEL_de6c581ffde14a60a5745daad287678f",
            "placeholder": "​",
            "style": "IPY_MODEL_dce595c8100e40d390943266a45043f2",
            "value": " 1/1 [00:23&lt;00:00, 23.18s/it]"
          }
        },
        "ce926d59d8c4452292fbd08ccc9f607c": {
          "model_module": "@jupyter-widgets/base",
          "model_name": "LayoutModel",
          "model_module_version": "1.2.0",
          "state": {
            "_model_module": "@jupyter-widgets/base",
            "_model_module_version": "1.2.0",
            "_model_name": "LayoutModel",
            "_view_count": null,
            "_view_module": "@jupyter-widgets/base",
            "_view_module_version": "1.2.0",
            "_view_name": "LayoutView",
            "align_content": null,
            "align_items": null,
            "align_self": null,
            "border": null,
            "bottom": null,
            "display": null,
            "flex": null,
            "flex_flow": null,
            "grid_area": null,
            "grid_auto_columns": null,
            "grid_auto_flow": null,
            "grid_auto_rows": null,
            "grid_column": null,
            "grid_gap": null,
            "grid_row": null,
            "grid_template_areas": null,
            "grid_template_columns": null,
            "grid_template_rows": null,
            "height": null,
            "justify_content": null,
            "justify_items": null,
            "left": null,
            "margin": null,
            "max_height": null,
            "max_width": null,
            "min_height": null,
            "min_width": null,
            "object_fit": null,
            "object_position": null,
            "order": null,
            "overflow": null,
            "overflow_x": null,
            "overflow_y": null,
            "padding": null,
            "right": null,
            "top": null,
            "visibility": null,
            "width": null
          }
        },
        "62b03e0f32df49499e69a92d71d12d07": {
          "model_module": "@jupyter-widgets/base",
          "model_name": "LayoutModel",
          "model_module_version": "1.2.0",
          "state": {
            "_model_module": "@jupyter-widgets/base",
            "_model_module_version": "1.2.0",
            "_model_name": "LayoutModel",
            "_view_count": null,
            "_view_module": "@jupyter-widgets/base",
            "_view_module_version": "1.2.0",
            "_view_name": "LayoutView",
            "align_content": null,
            "align_items": null,
            "align_self": null,
            "border": null,
            "bottom": null,
            "display": null,
            "flex": null,
            "flex_flow": null,
            "grid_area": null,
            "grid_auto_columns": null,
            "grid_auto_flow": null,
            "grid_auto_rows": null,
            "grid_column": null,
            "grid_gap": null,
            "grid_row": null,
            "grid_template_areas": null,
            "grid_template_columns": null,
            "grid_template_rows": null,
            "height": null,
            "justify_content": null,
            "justify_items": null,
            "left": null,
            "margin": null,
            "max_height": null,
            "max_width": null,
            "min_height": null,
            "min_width": null,
            "object_fit": null,
            "object_position": null,
            "order": null,
            "overflow": null,
            "overflow_x": null,
            "overflow_y": null,
            "padding": null,
            "right": null,
            "top": null,
            "visibility": null,
            "width": null
          }
        },
        "d94ed80216484af5bcb24fbace6ce08a": {
          "model_module": "@jupyter-widgets/controls",
          "model_name": "DescriptionStyleModel",
          "model_module_version": "1.5.0",
          "state": {
            "_model_module": "@jupyter-widgets/controls",
            "_model_module_version": "1.5.0",
            "_model_name": "DescriptionStyleModel",
            "_view_count": null,
            "_view_module": "@jupyter-widgets/base",
            "_view_module_version": "1.2.0",
            "_view_name": "StyleView",
            "description_width": ""
          }
        },
        "649288880b194ba08f910b60d60cb0d1": {
          "model_module": "@jupyter-widgets/base",
          "model_name": "LayoutModel",
          "model_module_version": "1.2.0",
          "state": {
            "_model_module": "@jupyter-widgets/base",
            "_model_module_version": "1.2.0",
            "_model_name": "LayoutModel",
            "_view_count": null,
            "_view_module": "@jupyter-widgets/base",
            "_view_module_version": "1.2.0",
            "_view_name": "LayoutView",
            "align_content": null,
            "align_items": null,
            "align_self": null,
            "border": null,
            "bottom": null,
            "display": null,
            "flex": null,
            "flex_flow": null,
            "grid_area": null,
            "grid_auto_columns": null,
            "grid_auto_flow": null,
            "grid_auto_rows": null,
            "grid_column": null,
            "grid_gap": null,
            "grid_row": null,
            "grid_template_areas": null,
            "grid_template_columns": null,
            "grid_template_rows": null,
            "height": null,
            "justify_content": null,
            "justify_items": null,
            "left": null,
            "margin": null,
            "max_height": null,
            "max_width": null,
            "min_height": null,
            "min_width": null,
            "object_fit": null,
            "object_position": null,
            "order": null,
            "overflow": null,
            "overflow_x": null,
            "overflow_y": null,
            "padding": null,
            "right": null,
            "top": null,
            "visibility": null,
            "width": null
          }
        },
        "7b577be2d125454da87e027a0dc6a3b3": {
          "model_module": "@jupyter-widgets/controls",
          "model_name": "ProgressStyleModel",
          "model_module_version": "1.5.0",
          "state": {
            "_model_module": "@jupyter-widgets/controls",
            "_model_module_version": "1.5.0",
            "_model_name": "ProgressStyleModel",
            "_view_count": null,
            "_view_module": "@jupyter-widgets/base",
            "_view_module_version": "1.2.0",
            "_view_name": "StyleView",
            "bar_color": null,
            "description_width": ""
          }
        },
        "de6c581ffde14a60a5745daad287678f": {
          "model_module": "@jupyter-widgets/base",
          "model_name": "LayoutModel",
          "model_module_version": "1.2.0",
          "state": {
            "_model_module": "@jupyter-widgets/base",
            "_model_module_version": "1.2.0",
            "_model_name": "LayoutModel",
            "_view_count": null,
            "_view_module": "@jupyter-widgets/base",
            "_view_module_version": "1.2.0",
            "_view_name": "LayoutView",
            "align_content": null,
            "align_items": null,
            "align_self": null,
            "border": null,
            "bottom": null,
            "display": null,
            "flex": null,
            "flex_flow": null,
            "grid_area": null,
            "grid_auto_columns": null,
            "grid_auto_flow": null,
            "grid_auto_rows": null,
            "grid_column": null,
            "grid_gap": null,
            "grid_row": null,
            "grid_template_areas": null,
            "grid_template_columns": null,
            "grid_template_rows": null,
            "height": null,
            "justify_content": null,
            "justify_items": null,
            "left": null,
            "margin": null,
            "max_height": null,
            "max_width": null,
            "min_height": null,
            "min_width": null,
            "object_fit": null,
            "object_position": null,
            "order": null,
            "overflow": null,
            "overflow_x": null,
            "overflow_y": null,
            "padding": null,
            "right": null,
            "top": null,
            "visibility": null,
            "width": null
          }
        },
        "dce595c8100e40d390943266a45043f2": {
          "model_module": "@jupyter-widgets/controls",
          "model_name": "DescriptionStyleModel",
          "model_module_version": "1.5.0",
          "state": {
            "_model_module": "@jupyter-widgets/controls",
            "_model_module_version": "1.5.0",
            "_model_name": "DescriptionStyleModel",
            "_view_count": null,
            "_view_module": "@jupyter-widgets/base",
            "_view_module_version": "1.2.0",
            "_view_name": "StyleView",
            "description_width": ""
          }
        },
        "616237b54381489ea889fb6416f6eeb2": {
          "model_module": "@jupyter-widgets/controls",
          "model_name": "HBoxModel",
          "model_module_version": "1.5.0",
          "state": {
            "_dom_classes": [],
            "_model_module": "@jupyter-widgets/controls",
            "_model_module_version": "1.5.0",
            "_model_name": "HBoxModel",
            "_view_count": null,
            "_view_module": "@jupyter-widgets/controls",
            "_view_module_version": "1.5.0",
            "_view_name": "HBoxView",
            "box_style": "",
            "children": [
              "IPY_MODEL_b91be0fe5eb643a8a871c9a74fe6ecb1",
              "IPY_MODEL_ce774fbf01524aabbf08c0a9c4002023",
              "IPY_MODEL_e301b6e1a7e64da9ae2bb1739a05e454"
            ],
            "layout": "IPY_MODEL_78e934912b7a43bc966cadd1b1b77165"
          }
        },
        "b91be0fe5eb643a8a871c9a74fe6ecb1": {
          "model_module": "@jupyter-widgets/controls",
          "model_name": "HTMLModel",
          "model_module_version": "1.5.0",
          "state": {
            "_dom_classes": [],
            "_model_module": "@jupyter-widgets/controls",
            "_model_module_version": "1.5.0",
            "_model_name": "HTMLModel",
            "_view_count": null,
            "_view_module": "@jupyter-widgets/controls",
            "_view_module_version": "1.5.0",
            "_view_name": "HTMLView",
            "description": "",
            "description_tooltip": null,
            "layout": "IPY_MODEL_f594f158ffa84bc195667c754450ecf9",
            "placeholder": "​",
            "style": "IPY_MODEL_0a3517eeed364abda86eaa3ab79589a5",
            "value": "Render HTML: 100%"
          }
        },
        "ce774fbf01524aabbf08c0a9c4002023": {
          "model_module": "@jupyter-widgets/controls",
          "model_name": "FloatProgressModel",
          "model_module_version": "1.5.0",
          "state": {
            "_dom_classes": [],
            "_model_module": "@jupyter-widgets/controls",
            "_model_module_version": "1.5.0",
            "_model_name": "FloatProgressModel",
            "_view_count": null,
            "_view_module": "@jupyter-widgets/controls",
            "_view_module_version": "1.5.0",
            "_view_name": "ProgressView",
            "bar_style": "success",
            "description": "",
            "description_tooltip": null,
            "layout": "IPY_MODEL_bdea80d696b24a9aa471586b3ab6b63d",
            "max": 1,
            "min": 0,
            "orientation": "horizontal",
            "style": "IPY_MODEL_b4dbdc40a59d40629e702c7b21fad8e0",
            "value": 1
          }
        },
        "e301b6e1a7e64da9ae2bb1739a05e454": {
          "model_module": "@jupyter-widgets/controls",
          "model_name": "HTMLModel",
          "model_module_version": "1.5.0",
          "state": {
            "_dom_classes": [],
            "_model_module": "@jupyter-widgets/controls",
            "_model_module_version": "1.5.0",
            "_model_name": "HTMLModel",
            "_view_count": null,
            "_view_module": "@jupyter-widgets/controls",
            "_view_module_version": "1.5.0",
            "_view_name": "HTMLView",
            "description": "",
            "description_tooltip": null,
            "layout": "IPY_MODEL_c723c34baf4847f7b61b70fa1caa1f84",
            "placeholder": "​",
            "style": "IPY_MODEL_2af0b451295c49b1a87b2bcc8d9b6afc",
            "value": " 1/1 [00:15&lt;00:00, 15.04s/it]"
          }
        },
        "78e934912b7a43bc966cadd1b1b77165": {
          "model_module": "@jupyter-widgets/base",
          "model_name": "LayoutModel",
          "model_module_version": "1.2.0",
          "state": {
            "_model_module": "@jupyter-widgets/base",
            "_model_module_version": "1.2.0",
            "_model_name": "LayoutModel",
            "_view_count": null,
            "_view_module": "@jupyter-widgets/base",
            "_view_module_version": "1.2.0",
            "_view_name": "LayoutView",
            "align_content": null,
            "align_items": null,
            "align_self": null,
            "border": null,
            "bottom": null,
            "display": null,
            "flex": null,
            "flex_flow": null,
            "grid_area": null,
            "grid_auto_columns": null,
            "grid_auto_flow": null,
            "grid_auto_rows": null,
            "grid_column": null,
            "grid_gap": null,
            "grid_row": null,
            "grid_template_areas": null,
            "grid_template_columns": null,
            "grid_template_rows": null,
            "height": null,
            "justify_content": null,
            "justify_items": null,
            "left": null,
            "margin": null,
            "max_height": null,
            "max_width": null,
            "min_height": null,
            "min_width": null,
            "object_fit": null,
            "object_position": null,
            "order": null,
            "overflow": null,
            "overflow_x": null,
            "overflow_y": null,
            "padding": null,
            "right": null,
            "top": null,
            "visibility": null,
            "width": null
          }
        },
        "f594f158ffa84bc195667c754450ecf9": {
          "model_module": "@jupyter-widgets/base",
          "model_name": "LayoutModel",
          "model_module_version": "1.2.0",
          "state": {
            "_model_module": "@jupyter-widgets/base",
            "_model_module_version": "1.2.0",
            "_model_name": "LayoutModel",
            "_view_count": null,
            "_view_module": "@jupyter-widgets/base",
            "_view_module_version": "1.2.0",
            "_view_name": "LayoutView",
            "align_content": null,
            "align_items": null,
            "align_self": null,
            "border": null,
            "bottom": null,
            "display": null,
            "flex": null,
            "flex_flow": null,
            "grid_area": null,
            "grid_auto_columns": null,
            "grid_auto_flow": null,
            "grid_auto_rows": null,
            "grid_column": null,
            "grid_gap": null,
            "grid_row": null,
            "grid_template_areas": null,
            "grid_template_columns": null,
            "grid_template_rows": null,
            "height": null,
            "justify_content": null,
            "justify_items": null,
            "left": null,
            "margin": null,
            "max_height": null,
            "max_width": null,
            "min_height": null,
            "min_width": null,
            "object_fit": null,
            "object_position": null,
            "order": null,
            "overflow": null,
            "overflow_x": null,
            "overflow_y": null,
            "padding": null,
            "right": null,
            "top": null,
            "visibility": null,
            "width": null
          }
        },
        "0a3517eeed364abda86eaa3ab79589a5": {
          "model_module": "@jupyter-widgets/controls",
          "model_name": "DescriptionStyleModel",
          "model_module_version": "1.5.0",
          "state": {
            "_model_module": "@jupyter-widgets/controls",
            "_model_module_version": "1.5.0",
            "_model_name": "DescriptionStyleModel",
            "_view_count": null,
            "_view_module": "@jupyter-widgets/base",
            "_view_module_version": "1.2.0",
            "_view_name": "StyleView",
            "description_width": ""
          }
        },
        "bdea80d696b24a9aa471586b3ab6b63d": {
          "model_module": "@jupyter-widgets/base",
          "model_name": "LayoutModel",
          "model_module_version": "1.2.0",
          "state": {
            "_model_module": "@jupyter-widgets/base",
            "_model_module_version": "1.2.0",
            "_model_name": "LayoutModel",
            "_view_count": null,
            "_view_module": "@jupyter-widgets/base",
            "_view_module_version": "1.2.0",
            "_view_name": "LayoutView",
            "align_content": null,
            "align_items": null,
            "align_self": null,
            "border": null,
            "bottom": null,
            "display": null,
            "flex": null,
            "flex_flow": null,
            "grid_area": null,
            "grid_auto_columns": null,
            "grid_auto_flow": null,
            "grid_auto_rows": null,
            "grid_column": null,
            "grid_gap": null,
            "grid_row": null,
            "grid_template_areas": null,
            "grid_template_columns": null,
            "grid_template_rows": null,
            "height": null,
            "justify_content": null,
            "justify_items": null,
            "left": null,
            "margin": null,
            "max_height": null,
            "max_width": null,
            "min_height": null,
            "min_width": null,
            "object_fit": null,
            "object_position": null,
            "order": null,
            "overflow": null,
            "overflow_x": null,
            "overflow_y": null,
            "padding": null,
            "right": null,
            "top": null,
            "visibility": null,
            "width": null
          }
        },
        "b4dbdc40a59d40629e702c7b21fad8e0": {
          "model_module": "@jupyter-widgets/controls",
          "model_name": "ProgressStyleModel",
          "model_module_version": "1.5.0",
          "state": {
            "_model_module": "@jupyter-widgets/controls",
            "_model_module_version": "1.5.0",
            "_model_name": "ProgressStyleModel",
            "_view_count": null,
            "_view_module": "@jupyter-widgets/base",
            "_view_module_version": "1.2.0",
            "_view_name": "StyleView",
            "bar_color": null,
            "description_width": ""
          }
        },
        "c723c34baf4847f7b61b70fa1caa1f84": {
          "model_module": "@jupyter-widgets/base",
          "model_name": "LayoutModel",
          "model_module_version": "1.2.0",
          "state": {
            "_model_module": "@jupyter-widgets/base",
            "_model_module_version": "1.2.0",
            "_model_name": "LayoutModel",
            "_view_count": null,
            "_view_module": "@jupyter-widgets/base",
            "_view_module_version": "1.2.0",
            "_view_name": "LayoutView",
            "align_content": null,
            "align_items": null,
            "align_self": null,
            "border": null,
            "bottom": null,
            "display": null,
            "flex": null,
            "flex_flow": null,
            "grid_area": null,
            "grid_auto_columns": null,
            "grid_auto_flow": null,
            "grid_auto_rows": null,
            "grid_column": null,
            "grid_gap": null,
            "grid_row": null,
            "grid_template_areas": null,
            "grid_template_columns": null,
            "grid_template_rows": null,
            "height": null,
            "justify_content": null,
            "justify_items": null,
            "left": null,
            "margin": null,
            "max_height": null,
            "max_width": null,
            "min_height": null,
            "min_width": null,
            "object_fit": null,
            "object_position": null,
            "order": null,
            "overflow": null,
            "overflow_x": null,
            "overflow_y": null,
            "padding": null,
            "right": null,
            "top": null,
            "visibility": null,
            "width": null
          }
        },
        "2af0b451295c49b1a87b2bcc8d9b6afc": {
          "model_module": "@jupyter-widgets/controls",
          "model_name": "DescriptionStyleModel",
          "model_module_version": "1.5.0",
          "state": {
            "_model_module": "@jupyter-widgets/controls",
            "_model_module_version": "1.5.0",
            "_model_name": "DescriptionStyleModel",
            "_view_count": null,
            "_view_module": "@jupyter-widgets/base",
            "_view_module_version": "1.2.0",
            "_view_name": "StyleView",
            "description_width": ""
          }
        },
        "218baf95b2154ffb8e65b107292ce5fa": {
          "model_module": "@jupyter-widgets/controls",
          "model_name": "HBoxModel",
          "model_module_version": "1.5.0",
          "state": {
            "_dom_classes": [],
            "_model_module": "@jupyter-widgets/controls",
            "_model_module_version": "1.5.0",
            "_model_name": "HBoxModel",
            "_view_count": null,
            "_view_module": "@jupyter-widgets/controls",
            "_view_module_version": "1.5.0",
            "_view_name": "HBoxView",
            "box_style": "",
            "children": [
              "IPY_MODEL_e59497fff905418e99e4e1a69db264ee",
              "IPY_MODEL_c37ebe4ab7a248ce8a32aa970b2669ed",
              "IPY_MODEL_cdaf44bc221b4783996d7358ef020caf"
            ],
            "layout": "IPY_MODEL_f013531c1d8049ceb9d6fb17cefcfecf"
          }
        },
        "e59497fff905418e99e4e1a69db264ee": {
          "model_module": "@jupyter-widgets/controls",
          "model_name": "HTMLModel",
          "model_module_version": "1.5.0",
          "state": {
            "_dom_classes": [],
            "_model_module": "@jupyter-widgets/controls",
            "_model_module_version": "1.5.0",
            "_model_name": "HTMLModel",
            "_view_count": null,
            "_view_module": "@jupyter-widgets/controls",
            "_view_module_version": "1.5.0",
            "_view_name": "HTMLView",
            "description": "",
            "description_tooltip": null,
            "layout": "IPY_MODEL_ccfb46de5c6a47f2a4be4df4576d7217",
            "placeholder": "​",
            "style": "IPY_MODEL_2106836fe9d24afdaabe077e786e1e37",
            "value": "Export report to file: 100%"
          }
        },
        "c37ebe4ab7a248ce8a32aa970b2669ed": {
          "model_module": "@jupyter-widgets/controls",
          "model_name": "FloatProgressModel",
          "model_module_version": "1.5.0",
          "state": {
            "_dom_classes": [],
            "_model_module": "@jupyter-widgets/controls",
            "_model_module_version": "1.5.0",
            "_model_name": "FloatProgressModel",
            "_view_count": null,
            "_view_module": "@jupyter-widgets/controls",
            "_view_module_version": "1.5.0",
            "_view_name": "ProgressView",
            "bar_style": "success",
            "description": "",
            "description_tooltip": null,
            "layout": "IPY_MODEL_9beaaa7f558041b4bebdc40faf028414",
            "max": 1,
            "min": 0,
            "orientation": "horizontal",
            "style": "IPY_MODEL_397f1858e3a14f898a3cde4935bc640a",
            "value": 1
          }
        },
        "cdaf44bc221b4783996d7358ef020caf": {
          "model_module": "@jupyter-widgets/controls",
          "model_name": "HTMLModel",
          "model_module_version": "1.5.0",
          "state": {
            "_dom_classes": [],
            "_model_module": "@jupyter-widgets/controls",
            "_model_module_version": "1.5.0",
            "_model_name": "HTMLModel",
            "_view_count": null,
            "_view_module": "@jupyter-widgets/controls",
            "_view_module_version": "1.5.0",
            "_view_name": "HTMLView",
            "description": "",
            "description_tooltip": null,
            "layout": "IPY_MODEL_58484255a77e406c956e4009cfe31365",
            "placeholder": "​",
            "style": "IPY_MODEL_f9cc34bfe7164150be919b6a47111b67",
            "value": " 1/1 [00:00&lt;00:00, 10.57it/s]"
          }
        },
        "f013531c1d8049ceb9d6fb17cefcfecf": {
          "model_module": "@jupyter-widgets/base",
          "model_name": "LayoutModel",
          "model_module_version": "1.2.0",
          "state": {
            "_model_module": "@jupyter-widgets/base",
            "_model_module_version": "1.2.0",
            "_model_name": "LayoutModel",
            "_view_count": null,
            "_view_module": "@jupyter-widgets/base",
            "_view_module_version": "1.2.0",
            "_view_name": "LayoutView",
            "align_content": null,
            "align_items": null,
            "align_self": null,
            "border": null,
            "bottom": null,
            "display": null,
            "flex": null,
            "flex_flow": null,
            "grid_area": null,
            "grid_auto_columns": null,
            "grid_auto_flow": null,
            "grid_auto_rows": null,
            "grid_column": null,
            "grid_gap": null,
            "grid_row": null,
            "grid_template_areas": null,
            "grid_template_columns": null,
            "grid_template_rows": null,
            "height": null,
            "justify_content": null,
            "justify_items": null,
            "left": null,
            "margin": null,
            "max_height": null,
            "max_width": null,
            "min_height": null,
            "min_width": null,
            "object_fit": null,
            "object_position": null,
            "order": null,
            "overflow": null,
            "overflow_x": null,
            "overflow_y": null,
            "padding": null,
            "right": null,
            "top": null,
            "visibility": null,
            "width": null
          }
        },
        "ccfb46de5c6a47f2a4be4df4576d7217": {
          "model_module": "@jupyter-widgets/base",
          "model_name": "LayoutModel",
          "model_module_version": "1.2.0",
          "state": {
            "_model_module": "@jupyter-widgets/base",
            "_model_module_version": "1.2.0",
            "_model_name": "LayoutModel",
            "_view_count": null,
            "_view_module": "@jupyter-widgets/base",
            "_view_module_version": "1.2.0",
            "_view_name": "LayoutView",
            "align_content": null,
            "align_items": null,
            "align_self": null,
            "border": null,
            "bottom": null,
            "display": null,
            "flex": null,
            "flex_flow": null,
            "grid_area": null,
            "grid_auto_columns": null,
            "grid_auto_flow": null,
            "grid_auto_rows": null,
            "grid_column": null,
            "grid_gap": null,
            "grid_row": null,
            "grid_template_areas": null,
            "grid_template_columns": null,
            "grid_template_rows": null,
            "height": null,
            "justify_content": null,
            "justify_items": null,
            "left": null,
            "margin": null,
            "max_height": null,
            "max_width": null,
            "min_height": null,
            "min_width": null,
            "object_fit": null,
            "object_position": null,
            "order": null,
            "overflow": null,
            "overflow_x": null,
            "overflow_y": null,
            "padding": null,
            "right": null,
            "top": null,
            "visibility": null,
            "width": null
          }
        },
        "2106836fe9d24afdaabe077e786e1e37": {
          "model_module": "@jupyter-widgets/controls",
          "model_name": "DescriptionStyleModel",
          "model_module_version": "1.5.0",
          "state": {
            "_model_module": "@jupyter-widgets/controls",
            "_model_module_version": "1.5.0",
            "_model_name": "DescriptionStyleModel",
            "_view_count": null,
            "_view_module": "@jupyter-widgets/base",
            "_view_module_version": "1.2.0",
            "_view_name": "StyleView",
            "description_width": ""
          }
        },
        "9beaaa7f558041b4bebdc40faf028414": {
          "model_module": "@jupyter-widgets/base",
          "model_name": "LayoutModel",
          "model_module_version": "1.2.0",
          "state": {
            "_model_module": "@jupyter-widgets/base",
            "_model_module_version": "1.2.0",
            "_model_name": "LayoutModel",
            "_view_count": null,
            "_view_module": "@jupyter-widgets/base",
            "_view_module_version": "1.2.0",
            "_view_name": "LayoutView",
            "align_content": null,
            "align_items": null,
            "align_self": null,
            "border": null,
            "bottom": null,
            "display": null,
            "flex": null,
            "flex_flow": null,
            "grid_area": null,
            "grid_auto_columns": null,
            "grid_auto_flow": null,
            "grid_auto_rows": null,
            "grid_column": null,
            "grid_gap": null,
            "grid_row": null,
            "grid_template_areas": null,
            "grid_template_columns": null,
            "grid_template_rows": null,
            "height": null,
            "justify_content": null,
            "justify_items": null,
            "left": null,
            "margin": null,
            "max_height": null,
            "max_width": null,
            "min_height": null,
            "min_width": null,
            "object_fit": null,
            "object_position": null,
            "order": null,
            "overflow": null,
            "overflow_x": null,
            "overflow_y": null,
            "padding": null,
            "right": null,
            "top": null,
            "visibility": null,
            "width": null
          }
        },
        "397f1858e3a14f898a3cde4935bc640a": {
          "model_module": "@jupyter-widgets/controls",
          "model_name": "ProgressStyleModel",
          "model_module_version": "1.5.0",
          "state": {
            "_model_module": "@jupyter-widgets/controls",
            "_model_module_version": "1.5.0",
            "_model_name": "ProgressStyleModel",
            "_view_count": null,
            "_view_module": "@jupyter-widgets/base",
            "_view_module_version": "1.2.0",
            "_view_name": "StyleView",
            "bar_color": null,
            "description_width": ""
          }
        },
        "58484255a77e406c956e4009cfe31365": {
          "model_module": "@jupyter-widgets/base",
          "model_name": "LayoutModel",
          "model_module_version": "1.2.0",
          "state": {
            "_model_module": "@jupyter-widgets/base",
            "_model_module_version": "1.2.0",
            "_model_name": "LayoutModel",
            "_view_count": null,
            "_view_module": "@jupyter-widgets/base",
            "_view_module_version": "1.2.0",
            "_view_name": "LayoutView",
            "align_content": null,
            "align_items": null,
            "align_self": null,
            "border": null,
            "bottom": null,
            "display": null,
            "flex": null,
            "flex_flow": null,
            "grid_area": null,
            "grid_auto_columns": null,
            "grid_auto_flow": null,
            "grid_auto_rows": null,
            "grid_column": null,
            "grid_gap": null,
            "grid_row": null,
            "grid_template_areas": null,
            "grid_template_columns": null,
            "grid_template_rows": null,
            "height": null,
            "justify_content": null,
            "justify_items": null,
            "left": null,
            "margin": null,
            "max_height": null,
            "max_width": null,
            "min_height": null,
            "min_width": null,
            "object_fit": null,
            "object_position": null,
            "order": null,
            "overflow": null,
            "overflow_x": null,
            "overflow_y": null,
            "padding": null,
            "right": null,
            "top": null,
            "visibility": null,
            "width": null
          }
        },
        "f9cc34bfe7164150be919b6a47111b67": {
          "model_module": "@jupyter-widgets/controls",
          "model_name": "DescriptionStyleModel",
          "model_module_version": "1.5.0",
          "state": {
            "_model_module": "@jupyter-widgets/controls",
            "_model_module_version": "1.5.0",
            "_model_name": "DescriptionStyleModel",
            "_view_count": null,
            "_view_module": "@jupyter-widgets/base",
            "_view_module_version": "1.2.0",
            "_view_name": "StyleView",
            "description_width": ""
          }
        }
      }
    }
  },
  "nbformat": 4,
  "nbformat_minor": 5
}